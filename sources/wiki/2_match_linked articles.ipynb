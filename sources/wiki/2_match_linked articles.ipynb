{
 "cells": [
  {
   "cell_type": "code",
   "execution_count": 1,
   "id": "b9db8e2e-5e48-4b67-80db-fa17de21aa64",
   "metadata": {},
   "outputs": [],
   "source": [
    "from lxml import etree\n",
    "import pandas as pd\n",
    "import swifter\n",
    "import numpy as np\n",
    "import re\n",
    "import mwparserfromhell as mwp\n",
    "import pandoc\n",
    "from tqdm import notebook"
   ]
  },
  {
   "cell_type": "code",
   "execution_count": 2,
   "id": "0facd3d0-3b72-4d1a-9bee-32ad15a0198a",
   "metadata": {},
   "outputs": [],
   "source": [
    "LINK_REGEX = r\"\\[\\[[\\w\\s\\-]*[\\|\\w]+\\]\\]\""
   ]
  },
  {
   "cell_type": "code",
   "execution_count": 3,
   "id": "dd89950c-8b90-40b6-8169-b48b59d5dcc8",
   "metadata": {},
   "outputs": [],
   "source": [
    "parse = etree.iterparse(\"data/wiki_coords_utf8.xml\", huge_tree=True, tag='page')"
   ]
  },
  {
   "cell_type": "code",
   "execution_count": 4,
   "id": "d0ebff9c-5c36-482f-a178-611b7332bdd7",
   "metadata": {},
   "outputs": [],
   "source": [
    "dicts = []\n",
    "for tag, page in parse:\n",
    "    _dict = {}\n",
    "    for node in page:\n",
    "        _dict[node.tag] = node.text\n",
    "\n",
    "    dicts.append(_dict)\n"
   ]
  },
  {
   "cell_type": "code",
   "execution_count": 5,
   "id": "0ce460b9-8098-427b-8e40-d4ce97677f91",
   "metadata": {},
   "outputs": [],
   "source": [
    "df = pd.DataFrame(dicts)"
   ]
  },
  {
   "cell_type": "code",
   "execution_count": 6,
   "id": "b2836077-b2e6-4834-a4cd-03322fadc3e2",
   "metadata": {},
   "outputs": [],
   "source": [
    "df.loc[:, \"title\"] = df.title.str.lower()"
   ]
  },
  {
   "cell_type": "code",
   "execution_count": 7,
   "id": "55f7b209-9668-483b-b97b-c873a604dbd6",
   "metadata": {},
   "outputs": [
    {
     "data": {
      "application/vnd.jupyter.widget-view+json": {
       "model_id": "f29d0023555642bc8936e0a5e74aaad8",
       "version_major": 2,
       "version_minor": 0
      },
      "text/plain": [
       "Pandas Apply:   0%|          | 0/1390234 [00:00<?, ?it/s]"
      ]
     },
     "metadata": {},
     "output_type": "display_data"
    }
   ],
   "source": [
    "df.loc[:, \"lnkd_art\"] = df.text.swifter.apply(lambda x: [match.lstrip(\"[\").rstrip(\"]\").lower().split(\"|\") for match in re.findall(LINK_REGEX, x)])"
   ]
  },
  {
   "cell_type": "code",
   "execution_count": 13,
   "id": "944bb260-7db4-4bc9-9629-5e9006d5b620",
   "metadata": {},
   "outputs": [
    {
     "data": {
      "application/vnd.jupyter.widget-view+json": {
       "model_id": "baaff3747e0b4cb5b628b0bd888a8583",
       "version_major": 2,
       "version_minor": 0
      },
      "text/plain": [
       "Pandas Apply:   0%|          | 0/1390234 [00:00<?, ?it/s]"
      ]
     },
     "metadata": {},
     "output_type": "display_data"
    }
   ],
   "source": [
    "df.loc[:, \"lnkd_art_txt\"] = df.lnkd_art.swifter.apply(lambda x: [(el[1].strip() if len(el)>1 else el[0].strip())for el in x])"
   ]
  },
  {
   "cell_type": "code",
   "execution_count": 14,
   "id": "a33b8d69-ed72-4fa5-b493-2c53b47a0fd8",
   "metadata": {},
   "outputs": [
    {
     "data": {
      "application/vnd.jupyter.widget-view+json": {
       "model_id": "98828e3e4ce84504931aa19eb7785d10",
       "version_major": 2,
       "version_minor": 0
      },
      "text/plain": [
       "Pandas Apply:   0%|          | 0/1390234 [00:00<?, ?it/s]"
      ]
     },
     "metadata": {},
     "output_type": "display_data"
    }
   ],
   "source": [
    "df.loc[:, \"lnkd_art_nms\"] = df.lnkd_art.swifter.apply(lambda x: [el[0].strip() for el in x])"
   ]
  },
  {
   "cell_type": "code",
   "execution_count": 15,
   "id": "6d60e5a4-be24-4bec-b336-a5c73c2d772c",
   "metadata": {},
   "outputs": [],
   "source": [
    "all_art_names = []\n",
    "for art_names in df.lnkd_art_nms.values: all_art_names += art_names\n",
    "\n",
    "unique_art_names = set(all_art_names)"
   ]
  },
  {
   "cell_type": "code",
   "execution_count": 16,
   "id": "b1fdde49-6ca2-4dda-b0ae-2992ce449e36",
   "metadata": {},
   "outputs": [],
   "source": [
    "unique_art_names = [name.strip() for name in unique_art_names]"
   ]
  },
  {
   "cell_type": "code",
   "execution_count": 17,
   "id": "732c9794-536d-4862-a1e5-68da76772a0c",
   "metadata": {},
   "outputs": [],
   "source": [
    "art_intersection = set(unique_art_names).intersection(df.title.str.strip().to_list())"
   ]
  },
  {
   "cell_type": "code",
   "execution_count": 18,
   "id": "89abc446-8e5a-46a6-bf0a-49171f20720d",
   "metadata": {},
   "outputs": [],
   "source": [
    "intersecter = set(art_intersection)"
   ]
  },
  {
   "cell_type": "code",
   "execution_count": 13,
   "id": "9f7c13c6-aa24-49c4-99db-a4b9ea0c9e29",
   "metadata": {},
   "outputs": [
    {
     "data": {
      "application/vnd.jupyter.widget-view+json": {
       "model_id": "bf935bf8795349719d71b55c99f8e276",
       "version_major": 2,
       "version_minor": 0
      },
      "text/plain": [
       "Pandas Apply:   0%|          | 0/1390234 [00:00<?, ?it/s]"
      ]
     },
     "metadata": {},
     "output_type": "display_data"
    }
   ],
   "source": [
    "df.loc[:, \"present_geo_arts\"] = df.lnkd_art_nms.swifter.progress_bar(True).apply(lambda x: list(intersecter.intersection(x)))"
   ]
  },
  {
   "cell_type": "code",
   "execution_count": 14,
   "id": "169178cc-9733-423b-92ee-2af20bbec5e7",
   "metadata": {
    "tags": []
   },
   "outputs": [
    {
     "data": {
      "application/vnd.jupyter.widget-view+json": {
       "model_id": "4b8d17b7b466488bbb18c7fadbf017a8",
       "version_major": 2,
       "version_minor": 0
      },
      "text/plain": [
       "Pandas Apply:   0%|          | 0/1390234 [00:00<?, ?it/s]"
      ]
     },
     "metadata": {},
     "output_type": "display_data"
    }
   ],
   "source": [
    "df.loc[:, \"parsed_text\"] = df.text.swifter.apply(lambda x: mwp.parse(x).strip_code())"
   ]
  },
  {
   "cell_type": "code",
   "execution_count": 15,
   "id": "2168ad6d-eb4a-4265-909d-35108f76c726",
   "metadata": {},
   "outputs": [],
   "source": [
    "# df.to_csv('wiki_coords_article_article_matched.gz', chunksize=100000)\n",
    "df.to_parquet(\"data/wiki_coords_article_matched.parquet\")"
   ]
  },
  {
   "cell_type": "code",
   "execution_count": 16,
   "id": "95f85dd1-e607-4b56-9b4d-90675ab23505",
   "metadata": {},
   "outputs": [
    {
     "data": {
      "text/html": [
       "<div>\n",
       "<style scoped>\n",
       "    .dataframe tbody tr th:only-of-type {\n",
       "        vertical-align: middle;\n",
       "    }\n",
       "\n",
       "    .dataframe tbody tr th {\n",
       "        vertical-align: top;\n",
       "    }\n",
       "\n",
       "    .dataframe thead th {\n",
       "        text-align: right;\n",
       "    }\n",
       "</style>\n",
       "<table border=\"1\" class=\"dataframe\">\n",
       "  <thead>\n",
       "    <tr style=\"text-align: right;\">\n",
       "      <th></th>\n",
       "      <th>title</th>\n",
       "      <th>coords</th>\n",
       "      <th>text</th>\n",
       "      <th>lnkd_art</th>\n",
       "      <th>lnkd_art_nms</th>\n",
       "      <th>present_geo_arts</th>\n",
       "      <th>parsed_text</th>\n",
       "    </tr>\n",
       "  </thead>\n",
       "  <tbody>\n",
       "    <tr>\n",
       "      <th>0</th>\n",
       "      <td>alabama</td>\n",
       "      <td>{{coord|32.7794|-86.8287|dim:300000_region:US-...</td>\n",
       "      <td>{{short description|State in the southeastern ...</td>\n",
       "      <td>[[northern flicker, yellowhammer], [dixie], [a...</td>\n",
       "      <td>[northern flicker, dixie, audemus jura nostra ...</td>\n",
       "      <td>[yokohama tire lpga classic, maxwell air force...</td>\n",
       "      <td>Alabama () is a state in the Southeastern regi...</td>\n",
       "    </tr>\n",
       "    <tr>\n",
       "      <th>1</th>\n",
       "      <td>algeria</td>\n",
       "      <td>{{coord|28|N|2|E|scale:10000000_type:country_r...</td>\n",
       "      <td>{{short description|Country in North Africa}}\\...</td>\n",
       "      <td>[[arabic], [kassaman], [algiers], [state relig...</td>\n",
       "      <td>[arabic, kassaman, algiers, state religion, ch...</td>\n",
       "      <td>[mediterranean sea, didouche mourad, nigeria, ...</td>\n",
       "      <td>Algeria, officially the People's Democratic Re...</td>\n",
       "    </tr>\n",
       "    <tr>\n",
       "      <th>2</th>\n",
       "      <td>andorra</td>\n",
       "      <td>{{coord|42|30|N|1|31|E|display=inline,title}}</td>\n",
       "      <td>{{distinguish|text = the Italian town of [[And...</td>\n",
       "      <td>[[andora], [latin], [el gran carlemany], [ando...</td>\n",
       "      <td>[andora, latin, el gran carlemany, andorra la ...</td>\n",
       "      <td>[radio andorra, la massana, pont dels escalls,...</td>\n",
       "      <td>Andorra, officially the Principality of Andorr...</td>\n",
       "    </tr>\n",
       "    <tr>\n",
       "      <th>3</th>\n",
       "      <td>alaska</td>\n",
       "      <td>{{Coord|64|50|N|147|43|W}}</td>\n",
       "      <td>{{short description|State of the United States...</td>\n",
       "      <td>[[ahtna language, ahtna], [alutiiq language, a...</td>\n",
       "      <td>[ahtna language, alutiiq language, english lan...</td>\n",
       "      <td>[trans-alaska pipeline system, worthington gla...</td>\n",
       "      <td>Alaska (; ; ; ; Yup'ik: Alaskaq; ) is a U.S. s...</td>\n",
       "    </tr>\n",
       "    <tr>\n",
       "      <th>4</th>\n",
       "      <td>american national standards institute</td>\n",
       "      <td>{{Coordinates|38|54|14|N|77|02|35|W}}</td>\n",
       "      <td>{{Redirect2|American Standards Association|ANS...</td>\n",
       "      <td>[[non-profit organization], [american english,...</td>\n",
       "      <td>[non-profit organization, american english, ce...</td>\n",
       "      <td>[american society of mechanical engineers, new...</td>\n",
       "      <td>The American National Standards Institute (ANS...</td>\n",
       "    </tr>\n",
       "    <tr>\n",
       "      <th>5</th>\n",
       "      <td>apollo 11</td>\n",
       "      <td>{{Coord|13|19|N|169|9|W|type:event|name=Apollo...</td>\n",
       "      <td>{{short description|First crewed space mission...</td>\n",
       "      <td>[[buzz aldrin], [neil armstrong], [nasa], [gru...</td>\n",
       "      <td>[buzz aldrin, neil armstrong, nasa, grumman, s...</td>\n",
       "      <td>[ford island, goldstone deep space communicati...</td>\n",
       "      <td>Apollo 11 (July 16–24, 1969) was the spaceflig...</td>\n",
       "    </tr>\n",
       "    <tr>\n",
       "      <th>6</th>\n",
       "      <td>apollo 8</td>\n",
       "      <td>{{Coord|8|8|N|165|1|W|type:event|name=Apollo 8...</td>\n",
       "      <td>{{Short description|First crewed space mission...</td>\n",
       "      <td>[[earthrise], [william anders], [nasa], [north...</td>\n",
       "      <td>[earthrise, william anders, nasa, north americ...</td>\n",
       "      <td>[kennedy space center, atlantic ocean, supreme...</td>\n",
       "      <td>Apollo 8 (December 21–27, 1968) was the first ...</td>\n",
       "    </tr>\n",
       "    <tr>\n",
       "      <th>7</th>\n",
       "      <td>aruba</td>\n",
       "      <td>{{Coord|12|31|07|N|70|02|09|W|type:city}}</td>\n",
       "      <td>{{About|the island country}}\\n{{short descript...</td>\n",
       "      <td>[[aruba dushi tera], [sovereign state], [kingd...</td>\n",
       "      <td>[aruba dushi tera, sovereign state, kingdom of...</td>\n",
       "      <td>[bushiribana and balashi, hooiberg, hispaniola...</td>\n",
       "      <td>Aruba ( , , ) is an island country in the mid-...</td>\n",
       "    </tr>\n",
       "    <tr>\n",
       "      <th>8</th>\n",
       "      <td>atlantic ocean</td>\n",
       "      <td>{{coord|0|N|25|W|region:ZZ_type:waterbody|disp...</td>\n",
       "      <td>{{Short description|Ocean between Europe, Afri...</td>\n",
       "      <td>[[arctic], [antarctic], [list of ports and har...</td>\n",
       "      <td>[arctic, antarctic, list of ports and harbours...</td>\n",
       "      <td>[gulf of venezuela, sargasso sea, walvis ridge...</td>\n",
       "      <td>[[File:Atlantic Ocean to Africa.ogv|thumb|This...</td>\n",
       "    </tr>\n",
       "    <tr>\n",
       "      <th>9</th>\n",
       "      <td>angola</td>\n",
       "      <td>{{Coord|12|30|S|18|30|E|display=title}}</td>\n",
       "      <td>{{Short description|Country on the west coast ...</td>\n",
       "      <td>[[angola avante], [luanda], [christianity], [p...</td>\n",
       "      <td>[angola avante, luanda, christianity, protesta...</td>\n",
       "      <td>[cabinda province, portugal, carthage film fes...</td>\n",
       "      <td>Angola (; ), officially the Republic of Angola...</td>\n",
       "    </tr>\n",
       "    <tr>\n",
       "      <th>10</th>\n",
       "      <td>alberta</td>\n",
       "      <td>{{Coord|54|59|30|N|114|22|36|W|type:adm1st_sca...</td>\n",
       "      <td>{{short description|Province of Canada}}\\n{{Ab...</td>\n",
       "      <td>[[provinces and territories of canada, provinc...</td>\n",
       "      <td>[provinces and territories of canada, constitu...</td>\n",
       "      <td>[northern alberta institute of technology, roc...</td>\n",
       "      <td>Alberta ( ) is one of the thirteen provinces a...</td>\n",
       "    </tr>\n",
       "    <tr>\n",
       "      <th>11</th>\n",
       "      <td>afghanistan</td>\n",
       "      <td>{{Coord|34|31|N|69|11|E|region:AF_source:geona...</td>\n",
       "      <td>{{short description|Country in Central and Sou...</td>\n",
       "      <td>[[classical arabic, arabic], [god in islam, go...</td>\n",
       "      <td>[classical arabic, god in islam, muhammad, sha...</td>\n",
       "      <td>[panjshir valley, islamic republic of afghanis...</td>\n",
       "      <td>Afghanistan (;These pronunciations involve ass...</td>\n",
       "    </tr>\n",
       "    <tr>\n",
       "      <th>12</th>\n",
       "      <td>albania</td>\n",
       "      <td>{{Coord|41|19|N|19|49|E|type:city}}</td>\n",
       "      <td>{{short description|country in Southeastern Eu...</td>\n",
       "      <td>[[himni i flamurit], [tirana], [tirana], [alba...</td>\n",
       "      <td>[himni i flamurit, tirana, tirana, albanian la...</td>\n",
       "      <td>[albanian ionian sea coast, lushnjë, despotate...</td>\n",
       "      <td>Albania ( ;  or ), officially the Republic of ...</td>\n",
       "    </tr>\n",
       "    <tr>\n",
       "      <th>13</th>\n",
       "      <td>azerbaijan</td>\n",
       "      <td>{{coord|40|23|43|N|49|52|56|E|type:city}}</td>\n",
       "      <td>{{pp-protect|small=yes}}\\n{{short description|...</td>\n",
       "      <td>[[azərbaycan marşı], [republic of artsakh], [b...</td>\n",
       "      <td>[azərbaycan marşı, republic of artsakh, baku, ...</td>\n",
       "      <td>[tovuz district, baku governorate, babek distr...</td>\n",
       "      <td>Azerbaijan (, ;;   ), officially the Republic ...</td>\n",
       "    </tr>\n",
       "    <tr>\n",
       "      <th>14</th>\n",
       "      <td>alexander the great</td>\n",
       "      <td>{{coord|35|48}}</td>\n",
       "      <td>{{short description|King of Macedonia (ancient...</td>\n",
       "      <td>[[basileus], [macedon], [hegemon], [strategos]...</td>\n",
       "      <td>[basileus, macedon, hegemon, strategos, ancien...</td>\n",
       "      <td>[cophen campaign, sogdia, polybius, kandahar, ...</td>\n",
       "      <td>Alexander III of Macedon (, ; 20/21 July 356 B...</td>\n",
       "    </tr>\n",
       "    <tr>\n",
       "      <th>15</th>\n",
       "      <td>ankara</td>\n",
       "      <td>{{coord|39|55|48|N|32|51|00|E|region:TR-06|dis...</td>\n",
       "      <td>{{short description|Capital of Turkey}}\\n{{Red...</td>\n",
       "      <td>[[capital city], [turkey], [söğütözü], [anıtka...</td>\n",
       "      <td>[capital city, turkey, söğütözü, anıtkabir, ge...</td>\n",
       "      <td>[tehran, kuala lumpur, manama, roman baths of ...</td>\n",
       "      <td>Ankara ( ,  ; ), historically known as Ancyra ...</td>\n",
       "    </tr>\n",
       "    <tr>\n",
       "      <th>16</th>\n",
       "      <td>aegean sea</td>\n",
       "      <td>{{coord|39|N|25|E|type:waterbody_dim:500000|di...</td>\n",
       "      <td>{{short description|Part of the Mediterranean ...</td>\n",
       "      <td>[[mediterranean sea], [sea], [aegeus], [greece...</td>\n",
       "      <td>[mediterranean sea, sea, aegeus, greece, turke...</td>\n",
       "      <td>[paros, chalkidiki, heraion of samos, kos, gul...</td>\n",
       "      <td>[[File:Location of the Aegean Sea.png|thumb|Th...</td>\n",
       "    </tr>\n",
       "    <tr>\n",
       "      <th>17</th>\n",
       "      <td>amsterdam</td>\n",
       "      <td>{{coord|52|22|N|4|54|E|region:NL|display=inlin...</td>\n",
       "      <td>{{short description|Capital and largest city o...</td>\n",
       "      <td>[[municipalities of the netherlands, municipal...</td>\n",
       "      <td>[municipalities of the netherlands, keizersgra...</td>\n",
       "      <td>[herning, waterlooplein, zaanstad, randstad, s...</td>\n",
       "      <td>Amsterdam ( ,  , ) is the capital and most pop...</td>\n",
       "    </tr>\n",
       "    <tr>\n",
       "      <th>18</th>\n",
       "      <td>museum of work</td>\n",
       "      <td>{{Coord|58|35|21.00|N|16|10|48.20|E|display=ti...</td>\n",
       "      <td>{{Use dmy dates|date=June 2013}}\\n[[File:Stryk...</td>\n",
       "      <td>[[norrköping], [clothes iron], [motala ström],...</td>\n",
       "      <td>[norrköping, clothes iron, motala ström, ewert...</td>\n",
       "      <td>[kristianstad, motala ström, falun, norrköping...</td>\n",
       "      <td>thumb|200px|Styrkjärn in central Norrköping\\n\\...</td>\n",
       "    </tr>\n",
       "    <tr>\n",
       "      <th>19</th>\n",
       "      <td>alfred nobel</td>\n",
       "      <td>{{Coord|59|21|24.52|N|18|1|9.43|E|region:SE_ty...</td>\n",
       "      <td>{{short description|Swedish chemist, innovator...</td>\n",
       "      <td>[[stockholm], [sanremo], [liguria], [norra beg...</td>\n",
       "      <td>[stockholm, sanremo, liguria, norra begravning...</td>\n",
       "      <td>[sweden, sveriges riksbank, swedish national m...</td>\n",
       "      <td>Alfred Bernhard Nobel ( , ; 21 October 1833 – ...</td>\n",
       "    </tr>\n",
       "  </tbody>\n",
       "</table>\n",
       "</div>"
      ],
      "text/plain": [
       "                                    title  \\\n",
       "0                                 alabama   \n",
       "1                                 algeria   \n",
       "2                                 andorra   \n",
       "3                                  alaska   \n",
       "4   american national standards institute   \n",
       "5                               apollo 11   \n",
       "6                                apollo 8   \n",
       "7                                   aruba   \n",
       "8                          atlantic ocean   \n",
       "9                                  angola   \n",
       "10                                alberta   \n",
       "11                            afghanistan   \n",
       "12                                albania   \n",
       "13                             azerbaijan   \n",
       "14                    alexander the great   \n",
       "15                                 ankara   \n",
       "16                             aegean sea   \n",
       "17                              amsterdam   \n",
       "18                         museum of work   \n",
       "19                           alfred nobel   \n",
       "\n",
       "                                               coords  \\\n",
       "0   {{coord|32.7794|-86.8287|dim:300000_region:US-...   \n",
       "1   {{coord|28|N|2|E|scale:10000000_type:country_r...   \n",
       "2       {{coord|42|30|N|1|31|E|display=inline,title}}   \n",
       "3                          {{Coord|64|50|N|147|43|W}}   \n",
       "4               {{Coordinates|38|54|14|N|77|02|35|W}}   \n",
       "5   {{Coord|13|19|N|169|9|W|type:event|name=Apollo...   \n",
       "6   {{Coord|8|8|N|165|1|W|type:event|name=Apollo 8...   \n",
       "7           {{Coord|12|31|07|N|70|02|09|W|type:city}}   \n",
       "8   {{coord|0|N|25|W|region:ZZ_type:waterbody|disp...   \n",
       "9             {{Coord|12|30|S|18|30|E|display=title}}   \n",
       "10  {{Coord|54|59|30|N|114|22|36|W|type:adm1st_sca...   \n",
       "11  {{Coord|34|31|N|69|11|E|region:AF_source:geona...   \n",
       "12                {{Coord|41|19|N|19|49|E|type:city}}   \n",
       "13          {{coord|40|23|43|N|49|52|56|E|type:city}}   \n",
       "14                                    {{coord|35|48}}   \n",
       "15  {{coord|39|55|48|N|32|51|00|E|region:TR-06|dis...   \n",
       "16  {{coord|39|N|25|E|type:waterbody_dim:500000|di...   \n",
       "17  {{coord|52|22|N|4|54|E|region:NL|display=inlin...   \n",
       "18  {{Coord|58|35|21.00|N|16|10|48.20|E|display=ti...   \n",
       "19  {{Coord|59|21|24.52|N|18|1|9.43|E|region:SE_ty...   \n",
       "\n",
       "                                                 text  \\\n",
       "0   {{short description|State in the southeastern ...   \n",
       "1   {{short description|Country in North Africa}}\\...   \n",
       "2   {{distinguish|text = the Italian town of [[And...   \n",
       "3   {{short description|State of the United States...   \n",
       "4   {{Redirect2|American Standards Association|ANS...   \n",
       "5   {{short description|First crewed space mission...   \n",
       "6   {{Short description|First crewed space mission...   \n",
       "7   {{About|the island country}}\\n{{short descript...   \n",
       "8   {{Short description|Ocean between Europe, Afri...   \n",
       "9   {{Short description|Country on the west coast ...   \n",
       "10  {{short description|Province of Canada}}\\n{{Ab...   \n",
       "11  {{short description|Country in Central and Sou...   \n",
       "12  {{short description|country in Southeastern Eu...   \n",
       "13  {{pp-protect|small=yes}}\\n{{short description|...   \n",
       "14  {{short description|King of Macedonia (ancient...   \n",
       "15  {{short description|Capital of Turkey}}\\n{{Red...   \n",
       "16  {{short description|Part of the Mediterranean ...   \n",
       "17  {{short description|Capital and largest city o...   \n",
       "18  {{Use dmy dates|date=June 2013}}\\n[[File:Stryk...   \n",
       "19  {{short description|Swedish chemist, innovator...   \n",
       "\n",
       "                                             lnkd_art  \\\n",
       "0   [[northern flicker, yellowhammer], [dixie], [a...   \n",
       "1   [[arabic], [kassaman], [algiers], [state relig...   \n",
       "2   [[andora], [latin], [el gran carlemany], [ando...   \n",
       "3   [[ahtna language, ahtna], [alutiiq language, a...   \n",
       "4   [[non-profit organization], [american english,...   \n",
       "5   [[buzz aldrin], [neil armstrong], [nasa], [gru...   \n",
       "6   [[earthrise], [william anders], [nasa], [north...   \n",
       "7   [[aruba dushi tera], [sovereign state], [kingd...   \n",
       "8   [[arctic], [antarctic], [list of ports and har...   \n",
       "9   [[angola avante], [luanda], [christianity], [p...   \n",
       "10  [[provinces and territories of canada, provinc...   \n",
       "11  [[classical arabic, arabic], [god in islam, go...   \n",
       "12  [[himni i flamurit], [tirana], [tirana], [alba...   \n",
       "13  [[azərbaycan marşı], [republic of artsakh], [b...   \n",
       "14  [[basileus], [macedon], [hegemon], [strategos]...   \n",
       "15  [[capital city], [turkey], [söğütözü], [anıtka...   \n",
       "16  [[mediterranean sea], [sea], [aegeus], [greece...   \n",
       "17  [[municipalities of the netherlands, municipal...   \n",
       "18  [[norrköping], [clothes iron], [motala ström],...   \n",
       "19  [[stockholm], [sanremo], [liguria], [norra beg...   \n",
       "\n",
       "                                         lnkd_art_nms  \\\n",
       "0   [northern flicker, dixie, audemus jura nostra ...   \n",
       "1   [arabic, kassaman, algiers, state religion, ch...   \n",
       "2   [andora, latin, el gran carlemany, andorra la ...   \n",
       "3   [ahtna language, alutiiq language, english lan...   \n",
       "4   [non-profit organization, american english, ce...   \n",
       "5   [buzz aldrin, neil armstrong, nasa, grumman, s...   \n",
       "6   [earthrise, william anders, nasa, north americ...   \n",
       "7   [aruba dushi tera, sovereign state, kingdom of...   \n",
       "8   [arctic, antarctic, list of ports and harbours...   \n",
       "9   [angola avante, luanda, christianity, protesta...   \n",
       "10  [provinces and territories of canada, constitu...   \n",
       "11  [classical arabic, god in islam, muhammad, sha...   \n",
       "12  [himni i flamurit, tirana, tirana, albanian la...   \n",
       "13  [azərbaycan marşı, republic of artsakh, baku, ...   \n",
       "14  [basileus, macedon, hegemon, strategos, ancien...   \n",
       "15  [capital city, turkey, söğütözü, anıtkabir, ge...   \n",
       "16  [mediterranean sea, sea, aegeus, greece, turke...   \n",
       "17  [municipalities of the netherlands, keizersgra...   \n",
       "18  [norrköping, clothes iron, motala ström, ewert...   \n",
       "19  [stockholm, sanremo, liguria, norra begravning...   \n",
       "\n",
       "                                     present_geo_arts  \\\n",
       "0   [yokohama tire lpga classic, maxwell air force...   \n",
       "1   [mediterranean sea, didouche mourad, nigeria, ...   \n",
       "2   [radio andorra, la massana, pont dels escalls,...   \n",
       "3   [trans-alaska pipeline system, worthington gla...   \n",
       "4   [american society of mechanical engineers, new...   \n",
       "5   [ford island, goldstone deep space communicati...   \n",
       "6   [kennedy space center, atlantic ocean, supreme...   \n",
       "7   [bushiribana and balashi, hooiberg, hispaniola...   \n",
       "8   [gulf of venezuela, sargasso sea, walvis ridge...   \n",
       "9   [cabinda province, portugal, carthage film fes...   \n",
       "10  [northern alberta institute of technology, roc...   \n",
       "11  [panjshir valley, islamic republic of afghanis...   \n",
       "12  [albanian ionian sea coast, lushnjë, despotate...   \n",
       "13  [tovuz district, baku governorate, babek distr...   \n",
       "14  [cophen campaign, sogdia, polybius, kandahar, ...   \n",
       "15  [tehran, kuala lumpur, manama, roman baths of ...   \n",
       "16  [paros, chalkidiki, heraion of samos, kos, gul...   \n",
       "17  [herning, waterlooplein, zaanstad, randstad, s...   \n",
       "18  [kristianstad, motala ström, falun, norrköping...   \n",
       "19  [sweden, sveriges riksbank, swedish national m...   \n",
       "\n",
       "                                          parsed_text  \n",
       "0   Alabama () is a state in the Southeastern regi...  \n",
       "1   Algeria, officially the People's Democratic Re...  \n",
       "2   Andorra, officially the Principality of Andorr...  \n",
       "3   Alaska (; ; ; ; Yup'ik: Alaskaq; ) is a U.S. s...  \n",
       "4   The American National Standards Institute (ANS...  \n",
       "5   Apollo 11 (July 16–24, 1969) was the spaceflig...  \n",
       "6   Apollo 8 (December 21–27, 1968) was the first ...  \n",
       "7   Aruba ( , , ) is an island country in the mid-...  \n",
       "8   [[File:Atlantic Ocean to Africa.ogv|thumb|This...  \n",
       "9   Angola (; ), officially the Republic of Angola...  \n",
       "10  Alberta ( ) is one of the thirteen provinces a...  \n",
       "11  Afghanistan (;These pronunciations involve ass...  \n",
       "12  Albania ( ;  or ), officially the Republic of ...  \n",
       "13  Azerbaijan (, ;;   ), officially the Republic ...  \n",
       "14  Alexander III of Macedon (, ; 20/21 July 356 B...  \n",
       "15  Ankara ( ,  ; ), historically known as Ancyra ...  \n",
       "16  [[File:Location of the Aegean Sea.png|thumb|Th...  \n",
       "17  Amsterdam ( ,  , ) is the capital and most pop...  \n",
       "18  thumb|200px|Styrkjärn in central Norrköping\\n\\...  \n",
       "19  Alfred Bernhard Nobel ( , ; 21 October 1833 – ...  "
      ]
     },
     "execution_count": 16,
     "metadata": {},
     "output_type": "execute_result"
    }
   ],
   "source": [
    "df.head(20)"
   ]
  },
  {
   "cell_type": "code",
   "execution_count": null,
   "id": "ca4c366c-52b7-4cc3-b50b-9bf5ceed8aba",
   "metadata": {},
   "outputs": [],
   "source": []
  }
 ],
 "metadata": {
  "kernelspec": {
   "display_name": "Python 3",
   "language": "python",
   "name": "python3"
  },
  "language_info": {
   "codemirror_mode": {
    "name": "ipython",
    "version": 3
   },
   "file_extension": ".py",
   "mimetype": "text/x-python",
   "name": "python",
   "nbconvert_exporter": "python",
   "pygments_lexer": "ipython3",
   "version": "3.8.8"
  }
 },
 "nbformat": 4,
 "nbformat_minor": 5
}
