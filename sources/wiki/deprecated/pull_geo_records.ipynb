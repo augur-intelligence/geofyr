{
 "cells": [
  {
   "cell_type": "code",
   "execution_count": 1,
   "id": "ff78e019-9afb-4faf-bad0-562611059f67",
   "metadata": {},
   "outputs": [],
   "source": [
    "import requests\n",
    "import pandas as pd\n",
    "from tqdm import auto\n",
    "from pathlib import Path\n",
    "\n",
    "savefile = Path(\"geodat.csv\")"
   ]
  },
  {
   "cell_type": "code",
   "execution_count": 23,
   "id": "2e45e415-22d2-4c7f-97a4-5571c2b84f09",
   "metadata": {},
   "outputs": [],
   "source": [
    "url = \"\"\"\n",
    "https://en.wikipedia.org/w/api.php?\\\n",
    "action=query&\\\n",
    "format=json&\\\n",
    "prop=coordinates%7Cextracts&\\\n",
    "generator=random&\\\n",
    "redirects=1&\\\n",
    "exintro=1&\\\n",
    "explaintext=1&\\\n",
    "exsectionformat=wiki&\\\n",
    "grnnamespace=0&\\\n",
    "grnlimit=20\\\n",
    "\"\"\"\n"
   ]
  },
  {
   "cell_type": "code",
   "execution_count": null,
   "id": "ec282572-fea1-427d-8fca-557a435cc711",
   "metadata": {},
   "outputs": [
    {
     "data": {
      "application/vnd.jupyter.widget-view+json": {
       "model_id": "f94d61a6dbe34fd8bf681e34ce75aaee",
       "version_major": 2,
       "version_minor": 0
      },
      "text/plain": [
       "  0%|          | 0/99999 [00:00<?, ?it/s]"
      ]
     },
     "metadata": {},
     "output_type": "display_data"
    },
    {
     "name": "stdout",
     "output_type": "stream",
     "text": [
      "[Errno 41] Protocol wrong type for socket\n",
      "[Errno 41] Protocol wrong type for socket\n",
      "[Errno 41] Protocol wrong type for socket\n"
     ]
    }
   ],
   "source": [
    "geo_records = []\n",
    "for i in auto.tqdm(range(1,100000)):\n",
    "    try:\n",
    "        resp = requests.get(url)\n",
    "    except requests.ConnectionError as e:\n",
    "        continue\n",
    "    except OSError as e:\n",
    "        print(e)\n",
    "        continue\n",
    "    json = resp.json()\n",
    "    page_keys = json[\"query\"][\"pages\"].keys()\n",
    "    results = [json[\"query\"][\"pages\"][key] for key in page_keys]\n",
    "    result_df = pd.DataFrame(results)\n",
    "    if \"coordinates\" in result_df.columns:\n",
    "        geo_dicts = pd.DataFrame(results).dropna(subset=[\"coordinates\"]).to_dict(\"records\")\n",
    "        geo_records += geo_dicts\n",
    "    else:\n",
    "        continue\n",
    "    \n",
    "    if i%10 == 0:\n",
    "        geo_df = pd.DataFrame(geo_records)\n",
    "        geo_df[\"lat\"] = geo_df.coordinates.apply(lambda x: x[0][\"lat\"])\n",
    "        geo_df[\"lon\"] = geo_df.coordinates.apply(lambda x: x[0][\"lon\"])\n",
    "        if savefile.exists():\n",
    "            (\n",
    "                geo_df[['pageid', 'ns', 'title', 'coordinates', 'extract', 'lat', 'lon']]\n",
    "                .to_csv('geodat.csv', index=False, mode='a', header=False)\n",
    "            )\n",
    "        else:\n",
    "            (\n",
    "                geo_df[['pageid', 'ns', 'title', 'coordinates', 'extract', 'lat', 'lon']]\n",
    "                .to_csv('geodat.csv', index=False, header=True)\n",
    "            )\n",
    "            \n",
    "        geo_records = []"
   ]
  },
  {
   "cell_type": "code",
   "execution_count": null,
   "id": "b9e56ebc-ac7f-4519-bbbe-a011b32681b9",
   "metadata": {},
   "outputs": [],
   "source": [
    "import matplotlib.pyplot as plt\n",
    "ax = testi[['lat', 'lon']].plot.scatter(x='lon', y='lat', figsize=(25,15), s=1)\n",
    "testi[['lat', 'lon']].sample(16).plot.scatter(x='lon', y='lat', figsize=(25,15), s=20, c='r', ax=ax)\n",
    "plt.plot()"
   ]
  }
 ],
 "metadata": {
  "kernelspec": {
   "display_name": "Python 3",
   "language": "python",
   "name": "python3"
  },
  "language_info": {
   "codemirror_mode": {
    "name": "ipython",
    "version": 3
   },
   "file_extension": ".py",
   "mimetype": "text/x-python",
   "name": "python",
   "nbconvert_exporter": "python",
   "pygments_lexer": "ipython3",
   "version": "3.8.8"
  }
 },
 "nbformat": 4,
 "nbformat_minor": 5
}
