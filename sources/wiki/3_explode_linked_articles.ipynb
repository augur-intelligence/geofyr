{
 "cells": [
  {
   "cell_type": "code",
   "execution_count": 1,
   "id": "15cc7611-80b5-4d93-8013-30cd03ca9ac3",
   "metadata": {},
   "outputs": [],
   "source": [
    "import pandas as pd\n",
    "import swifter\n",
    "import ray\n",
    "import re\n",
    "import numpy as np\n",
    "from ast import literal_eval\n",
    "MAX_SEQ_LENGTH = 200"
   ]
  },
  {
   "cell_type": "code",
   "execution_count": 2,
   "id": "80181ae3-9a63-43a3-9297-0970e0f2ba1d",
   "metadata": {},
   "outputs": [],
   "source": [
    "df = pd.read_parquet(\"data/wiki_coords_article_matched.parquet\")"
   ]
  },
  {
   "cell_type": "code",
   "execution_count": 3,
   "id": "e57e9455-9909-4617-bf6a-6203c73a41aa",
   "metadata": {},
   "outputs": [],
   "source": [
    "df = df[df.coords.str.contains(\"[0-9]\", regex=True)]"
   ]
  },
  {
   "cell_type": "code",
   "execution_count": 4,
   "id": "c7a94f64-5c21-41e5-8afe-63127e4d1d45",
   "metadata": {},
   "outputs": [],
   "source": [
    "df.loc[:, ['is_dec']] = ~df.coords.str.contains(\"\\|N\\||\\|S\\||\\|W\\||\\|E\\|\", regex=True)"
   ]
  },
  {
   "cell_type": "code",
   "execution_count": 5,
   "id": "1502f90f-6659-4cb1-9784-36e60e4af860",
   "metadata": {},
   "outputs": [],
   "source": [
    "def clean_dec(x):\n",
    "    try:\n",
    "        lat_str = x[1]\n",
    "        lon_str = x[2]\n",
    "        lat = float(lat_str)\n",
    "        lon = float(lon_str)\n",
    "        return np.array([lat, lon])\n",
    "    except:\n",
    "        return np.array([None, None])"
   ]
  },
  {
   "cell_type": "code",
   "execution_count": 6,
   "id": "1458584c-1c4e-451b-9498-6732d9c475e2",
   "metadata": {},
   "outputs": [
    {
     "name": "stderr",
     "output_type": "stream",
     "text": [
      "/Users/hhoferic/anaconda3/lib/python3.8/site-packages/pandas/core/indexing.py:1773: SettingWithCopyWarning: \n",
      "A value is trying to be set on a copy of a slice from a DataFrame.\n",
      "Try using .loc[row_indexer,col_indexer] = value instead\n",
      "\n",
      "See the caveats in the documentation: https://pandas.pydata.org/pandas-docs/stable/user_guide/indexing.html#returning-a-view-versus-a-copy\n",
      "  self._setitem_single_column(ilocs[0], value, pi)\n"
     ]
    }
   ],
   "source": [
    "df_dec = df[df.is_dec]\n",
    "df_dec.loc[:, [\"dec\"]] = df_dec.coords.apply(lambda x: re.split('\\||}' ,x)).apply(clean_dec)\n",
    "df_dec = df_dec[df_dec.dec.apply(lambda x: len(x)) == 2]"
   ]
  },
  {
   "cell_type": "code",
   "execution_count": 7,
   "id": "2154605f-89df-4da4-8cb2-b700dba86b13",
   "metadata": {},
   "outputs": [],
   "source": [
    "df_dec.loc[:, [\"lat\"]] = df_dec.dec.apply(lambda x: x[0])\n",
    "df_dec.loc[:, [\"lon\"]] = df_dec.dec.apply(lambda x: x[1])"
   ]
  },
  {
   "cell_type": "code",
   "execution_count": 8,
   "id": "9650d497-801c-4681-baa9-a61795f7856b",
   "metadata": {},
   "outputs": [],
   "source": [
    "def is_float(el):\n",
    "    try:\n",
    "        float(el)\n",
    "        return True\n",
    "    except ValueError:\n",
    "        False"
   ]
  },
  {
   "cell_type": "code",
   "execution_count": 9,
   "id": "6b60f6dd-10e6-4582-9b25-0f153790aa48",
   "metadata": {},
   "outputs": [],
   "source": [
    "def nodec2dec(toklist):\n",
    "    _dir = 'lat'\n",
    "    lat_dir = ''\n",
    "    lon_dir = ''\n",
    "    pos = 0\n",
    "    coord = {}\n",
    "    for tok in toklist:\n",
    "#         print(tok)\n",
    "        tok = tok.strip()\n",
    "        if tok == 'N' or tok == 'S':\n",
    "            _dir = 'lon'\n",
    "            lat_dir = tok\n",
    "            pos = 0\n",
    "            continue\n",
    "        if tok == 'E' or tok == 'W':\n",
    "            lon_dir = tok\n",
    "            try:\n",
    "                lat = coord['lat'] if lat_dir == 'N' else (-1)*coord['lat']\n",
    "                lon = coord['lon'] if lon_dir == 'E' else (-1)*coord['lon']\n",
    "                return np.array([lat, lon])\n",
    "            except:\n",
    "                return np.array([None, None])\n",
    "\n",
    "        if tok.isnumeric() or is_float(tok):\n",
    "            if pos == 0:\n",
    "                coord[_dir] = abs(float(tok))\n",
    "                pos += 1\n",
    "            elif pos == 1:\n",
    "                coord[_dir] += abs(float(tok))/60\n",
    "                pos += 1\n",
    "            elif pos == 2:\n",
    "                coord[_dir] += abs(float(tok))/3600\n",
    "                pos +=1 \n",
    "\n",
    "    return np.array([None, None])\n"
   ]
  },
  {
   "cell_type": "code",
   "execution_count": 10,
   "id": "ed5e8b7e-4e85-40d7-9ac9-4105fb70a166",
   "metadata": {},
   "outputs": [],
   "source": [
    "df_no_dec = df[~df.is_dec]\n",
    "df_no_dec.loc[:, ['split']] = df_no_dec.coords.apply(lambda x: re.split('\\||}' ,x))\n",
    "df_no_dec.loc[:, ['dec']] = df_no_dec.split.apply(lambda x: nodec2dec(x))\n",
    "df_no_dec.loc[:,[\"lat\"]] = df_no_dec.dec.apply(lambda x: x[0])\n",
    "df_no_dec.loc[:,[\"lon\"]] = df_no_dec.dec.apply(lambda x: x[1])"
   ]
  },
  {
   "cell_type": "code",
   "execution_count": 11,
   "id": "aecd32ca-ba97-4ca4-a8fd-0a0c1125551c",
   "metadata": {},
   "outputs": [],
   "source": [
    "df_union = pd.concat([df_no_dec, df_dec]).dropna(subset=['text', 'dec'])"
   ]
  },
  {
   "cell_type": "code",
   "execution_count": 12,
   "id": "0abbae99-41b8-499d-829f-7881920ceb83",
   "metadata": {},
   "outputs": [],
   "source": [
    "df_union = df_union[df_union.dec.apply(lambda x: len(x)) == 2]"
   ]
  },
  {
   "cell_type": "code",
   "execution_count": 13,
   "id": "fbad2af4-7b73-4fb3-a7fe-4273547f63c7",
   "metadata": {},
   "outputs": [],
   "source": [
    "df_sane = df_union[(df_union.lat < 90) & (df_union.lat > -90) & (df_union.lon >= -180) & (df_union.lon <= 180)]"
   ]
  },
  {
   "cell_type": "code",
   "execution_count": 14,
   "id": "4d664d32-2434-4016-b7e7-3a6c0e691bed",
   "metadata": {},
   "outputs": [],
   "source": [
    "df_sane = df_sane[df_sane.lon != 0]"
   ]
  },
  {
   "cell_type": "code",
   "execution_count": 15,
   "id": "e6ac820d-4c5e-4e74-bba3-ee5e70ee1d44",
   "metadata": {},
   "outputs": [],
   "source": [
    "df_sane = df_sane[~df_sane.parsed_text.isna()]"
   ]
  },
  {
   "cell_type": "code",
   "execution_count": 16,
   "id": "d59cd375-6968-4d4e-9b9e-439fb046c6b4",
   "metadata": {},
   "outputs": [
    {
     "data": {
      "application/vnd.jupyter.widget-view+json": {
       "model_id": "75b9414b946b4ddbac190993eb5d5843",
       "version_major": 2,
       "version_minor": 0
      },
      "text/plain": [
       "Pandas Apply:   0%|          | 0/1229694 [00:00<?, ?it/s]"
      ]
     },
     "metadata": {},
     "output_type": "display_data"
    }
   ],
   "source": [
    "special_punct = re.compile(\"(\\[[0-9]*\\])|[\\]\\[!\\\"#$%&'()*+/:;<=>?@\\^_`{|}~-]\")\n",
    "df_sane[\"parsed_text\"] = df_sane.parsed_text.str.replace(\"\\n\",\"\").swifter.apply(lambda x: special_punct.sub(\"\", x))"
   ]
  },
  {
   "cell_type": "code",
   "execution_count": 17,
   "id": "8af4fc9c-65cc-41c2-92f9-e4adbec48e86",
   "metadata": {},
   "outputs": [],
   "source": [
    "def chunk_text(string):\n",
    "    split_string = string.replace(\"\\n\", \" \").lower().split(' ')\n",
    "    chunked_text = [\" \".join(split_string[i:i+MAX_SEQ_LENGTH]) for i in range(0,len(split_string), MAX_SEQ_LENGTH)]\n",
    "    return chunked_text"
   ]
  },
  {
   "cell_type": "code",
   "execution_count": 18,
   "id": "69307834-fb8b-4369-af93-e33f7926b6d3",
   "metadata": {},
   "outputs": [
    {
     "data": {
      "application/vnd.jupyter.widget-view+json": {
       "model_id": "1df5797a631544e088b540ff54ceac5a",
       "version_major": 2,
       "version_minor": 0
      },
      "text/plain": [
       "Pandas Apply:   0%|          | 0/1229694 [00:00<?, ?it/s]"
      ]
     },
     "metadata": {},
     "output_type": "display_data"
    }
   ],
   "source": [
    "df_sane['chunked_text'] = df_sane.parsed_text.swifter.apply(chunk_text)"
   ]
  },
  {
   "cell_type": "code",
   "execution_count": 19,
   "id": "ca2bbf28-3ae8-4bfb-b343-0502f6b24b0a",
   "metadata": {},
   "outputs": [
    {
     "data": {
      "application/vnd.jupyter.widget-view+json": {
       "model_id": "07c88401710f4ac88fa9ea710697da88",
       "version_major": 2,
       "version_minor": 0
      },
      "text/plain": [
       "Pandas Apply:   0%|          | 0/1229694 [00:00<?, ?it/s]"
      ]
     },
     "metadata": {},
     "output_type": "display_data"
    }
   ],
   "source": [
    "df_sane.loc[:, \"lnkd_art_txt\"] = (\n",
    "    df_sane\n",
    "    .lnkd_art\n",
    "    .swifter\n",
    "    .apply(lambda x:\n",
    "           [(el[1].strip() if len(el) > 1 else el[0].strip())for el in x]))"
   ]
  },
  {
   "cell_type": "code",
   "execution_count": 20,
   "id": "f83cedf7-34f5-4996-bee7-264c13f5b6d3",
   "metadata": {},
   "outputs": [],
   "source": [
    "df_exploded_links = df_sane.explode([\"lnkd_art_nms\", \"lnkd_art_txt\"])"
   ]
  },
  {
   "cell_type": "code",
   "execution_count": 21,
   "id": "f26c922c-1cb1-4b85-9fe2-d387f79ee761",
   "metadata": {},
   "outputs": [],
   "source": [
    "df_exploded_links = df_exploded_links.reset_index(drop=True)"
   ]
  },
  {
   "cell_type": "code",
   "execution_count": 22,
   "id": "e45dbdcc-f3ea-4183-ae6b-827e044da866",
   "metadata": {},
   "outputs": [],
   "source": [
    "geo_art_bool = df_exploded_links.apply(lambda x: x.lnkd_art_nms in x.present_geo_arts, axis=1)"
   ]
  },
  {
   "cell_type": "code",
   "execution_count": 23,
   "id": "423d4b39-eb38-416e-a79b-58c2f528a126",
   "metadata": {},
   "outputs": [],
   "source": [
    "df_exploded_links[\"geo_art\"] = geo_art_bool"
   ]
  },
  {
   "cell_type": "code",
   "execution_count": 24,
   "id": "81f1451d-b603-4958-b5c5-7fb91a2e7aa4",
   "metadata": {},
   "outputs": [],
   "source": [
    "df_exploded_geo = df_exploded_links[df_exploded_links.geo_art]"
   ]
  },
  {
   "cell_type": "code",
   "execution_count": 26,
   "id": "99b74bbf-8820-4fdd-835b-1f7b7f671db8",
   "metadata": {},
   "outputs": [],
   "source": [
    "df_exploded = df_exploded_geo.explode(\"chunked_text\")"
   ]
  },
  {
   "cell_type": "code",
   "execution_count": 27,
   "id": "70886a43-bda8-4c01-a016-753f3cef1771",
   "metadata": {},
   "outputs": [],
   "source": [
    "df_exploded = df_exploded.reset_index(drop=True)"
   ]
  },
  {
   "cell_type": "code",
   "execution_count": 28,
   "id": "ca8b3103-5d9a-4c54-b244-7d39e610851e",
   "metadata": {},
   "outputs": [],
   "source": [
    "has_geo_txt = df_exploded.apply(lambda x: x.lnkd_art_txt in x.chunked_text, axis=1)"
   ]
  },
  {
   "cell_type": "code",
   "execution_count": 29,
   "id": "78f5bc4f-e200-4aa5-9666-1967b6f21994",
   "metadata": {},
   "outputs": [],
   "source": [
    "df_exploded['has_link_txt'] = has_geo_txt"
   ]
  },
  {
   "cell_type": "code",
   "execution_count": 30,
   "id": "eaae5b44-cd47-4a40-9ab5-5da5fab5202a",
   "metadata": {},
   "outputs": [],
   "source": [
    "df_exploded['link_txt'] = (df_exploded\n",
    "                           .has_link_txt\n",
    "                           .replace(to_replace=True, value=np.nan)\n",
    "                           .fillna(df_exploded.lnkd_art_nms)\n",
    "                           .replace(to_replace=False, value=np.nan)\n",
    "                           .fillna(df_exploded.title))"
   ]
  },
  {
   "cell_type": "code",
   "execution_count": 37,
   "id": "5618880f-e54d-4070-b437-2ff00fbd874e",
   "metadata": {},
   "outputs": [],
   "source": [
    "df_exploded_joined = (df_exploded[[\"chunked_text\", \"link_txt\"]]\n",
    "                      .merge(\n",
    "                          df_sane[[\"title\", \"lat\", \"lon\"]],\n",
    "                          left_on=\"link_txt\",\n",
    "                          right_on=\"title\", how='left'))"
   ]
  },
  {
   "cell_type": "code",
   "execution_count": 38,
   "id": "a7a5ea02-1539-44f4-9694-0beeecd67e90",
   "metadata": {},
   "outputs": [
    {
     "data": {
      "text/plain": [
       "(75254297, 5)"
      ]
     },
     "execution_count": 38,
     "metadata": {},
     "output_type": "execute_result"
    }
   ],
   "source": [
    "df_exploded_joined.shape"
   ]
  },
  {
   "cell_type": "code",
   "execution_count": 39,
   "id": "79f32930-eef5-40d1-8a87-b83e0cde6254",
   "metadata": {},
   "outputs": [],
   "source": [
    "df_exploded_joined = df_exploded_joined.rename(columns={\"chunked_text\": \"text\"})"
   ]
  },
  {
   "cell_type": "code",
   "execution_count": 40,
   "id": "46a2b650-a622-4ef5-b8a2-90f2bdfc10f3",
   "metadata": {},
   "outputs": [],
   "source": [
    "df_exploded_joined = df_exploded_joined.dropna(subset=[\"text\", \"lat\", \"lon\"])"
   ]
  },
  {
   "cell_type": "code",
   "execution_count": 61,
   "id": "6c125689-336d-4da9-b17a-f16a1917608d",
   "metadata": {},
   "outputs": [
    {
     "data": {
      "text/plain": [
       "582221.6322"
      ]
     },
     "execution_count": 61,
     "metadata": {},
     "output_type": "execute_result"
    }
   ],
   "source": [
    "df_exploded_joined.shape[0]*.78/100"
   ]
  },
  {
   "cell_type": "code",
   "execution_count": 42,
   "id": "c11db4c3-503e-4455-a444-a8df39cb08c5",
   "metadata": {},
   "outputs": [],
   "source": [
    "df_exploded_joined[[\"text\", \"lat\", \"lon\"]].to_csv(\n",
    "    \"data/wiki_exploded_links.gz\",\n",
    "    chunksize=100000,\n",
    "    index=False)"
   ]
  }
 ],
 "metadata": {
  "kernelspec": {
   "display_name": "Python 3",
   "language": "python",
   "name": "python3"
  },
  "language_info": {
   "codemirror_mode": {
    "name": "ipython",
    "version": 3
   },
   "file_extension": ".py",
   "mimetype": "text/x-python",
   "name": "python",
   "nbconvert_exporter": "python",
   "pygments_lexer": "ipython3",
   "version": "3.8.8"
  }
 },
 "nbformat": 4,
 "nbformat_minor": 5
}
