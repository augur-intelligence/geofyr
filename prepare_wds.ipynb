{
 "cells": [
  {
   "cell_type": "code",
   "execution_count": 1,
   "id": "2673b97f-b97e-467e-a037-5e56e1536e14",
   "metadata": {},
   "outputs": [],
   "source": [
    "import pandas as pd\n",
    "from transformers import DistilBertTokenizerFast\n",
    "import webdataset as wds\n",
    "import sys\n",
    "from utils.utils import GEODataset, StreamTokenizedDataset\n",
    "from sklearn.model_selection import train_test_split\n",
    "import torch\n",
    "MAX_SEQ_LENGTH = 200"
   ]
  },
  {
   "cell_type": "code",
   "execution_count": 2,
   "id": "2c8c41a8-8c76-4c58-a0c1-9b5236212a7e",
   "metadata": {},
   "outputs": [],
   "source": [
    "df = pd.read_parquet(\"data/geo_data.parquet\")"
   ]
  },
  {
   "cell_type": "code",
   "execution_count": 3,
   "id": "dd1958d1-d6a1-4462-aee7-876ce1108d68",
   "metadata": {},
   "outputs": [],
   "source": [
    "texts = df[\"text\"].values.tolist()\n",
    "labels = df[[\"lat\",  \"lon\"]].astype(float).values.tolist()"
   ]
  },
  {
   "cell_type": "code",
   "execution_count": 4,
   "id": "ed3946f2-8ba6-457f-9073-e5bb07b98d98",
   "metadata": {},
   "outputs": [],
   "source": [
    "train_ratio = 0.78\n",
    "test_ratio = 0.17\n",
    "validation_ratio = 0.5\n",
    "\n",
    "x_train, x_test, y_train, y_test = train_test_split(texts, labels, test_size=1 - train_ratio)\n",
    "\n",
    "x_test, x_val, y_test, y_val = train_test_split(x_test, y_test, test_size=test_ratio/(test_ratio + validation_ratio)) \n"
   ]
  },
  {
   "cell_type": "code",
   "execution_count": 5,
   "id": "fa22d3e7-2c02-40fd-9866-8930aa4c2e05",
   "metadata": {},
   "outputs": [
    {
     "data": {
      "text/plain": [
       "(0.7799996937940712, 0.16417929821595106, 0.055821007989977744)"
      ]
     },
     "execution_count": 5,
     "metadata": {},
     "output_type": "execute_result"
    }
   ],
   "source": [
    "len(x_train)/len(texts), len(x_test)/len(texts), len(x_val)/len(texts)"
   ]
  },
  {
   "cell_type": "code",
   "execution_count": 6,
   "id": "1c075ac9-330a-4f38-95b5-50b62eb1273c",
   "metadata": {},
   "outputs": [
    {
     "data": {
      "text/plain": [
       "78117.33333333333"
      ]
     },
     "execution_count": 6,
     "metadata": {},
     "output_type": "execute_result"
    }
   ],
   "source": [
    "len(x_train)/30"
   ]
  },
  {
   "cell_type": "code",
   "execution_count": 8,
   "id": "e7e37c7b-7d06-426e-ba94-f5dd0ff7a9db",
   "metadata": {},
   "outputs": [],
   "source": [
    "TOKEN_MODEL = 'distilbert-base-uncased'\n",
    "tokenizer = DistilBertTokenizerFast.from_pretrained(TOKEN_MODEL)\n",
    "# tokenizer.model_max_length = 200"
   ]
  },
  {
   "cell_type": "code",
   "execution_count": 34,
   "id": "c4db300e-e1e3-4232-9802-c4abbbf99647",
   "metadata": {},
   "outputs": [],
   "source": [
    "TEXTBATCHES = 2000\n",
    "train_dataset = StreamTokenizedDataset(x_train, y_train, tokenizer, TEXTBATCHES, MAX_SEQ_LENGTH)\n",
    "test_dataset = StreamTokenizedDataset(x_test, y_test, tokenizer, TEXTBATCHES, MAX_SEQ_LENGTH)\n",
    "val_dataset = StreamTokenizedDataset(x_val, y_val, tokenizer, TEXTBATCHES, MAX_SEQ_LENGTH)"
   ]
  },
  {
   "cell_type": "code",
   "execution_count": 35,
   "id": "cb4f6a14-e7b6-4bc3-9270-f64de4683815",
   "metadata": {},
   "outputs": [],
   "source": [
    "dataset_map = {'train' : train_dataset, 'test': test_dataset, 'val': val_dataset}"
   ]
  },
  {
   "cell_type": "code",
   "execution_count": 36,
   "id": "fe7d24b5-bce6-4bea-a04b-d50944a97085",
   "metadata": {},
   "outputs": [
    {
     "name": "stderr",
     "output_type": "stream",
     "text": [
      "1600000\r"
     ]
    }
   ],
   "source": [
    "for key in ['train', 'test', 'val']:\n",
    "    dataset = dataset_map[key]\n",
    "    sink = wds.TarWriter(f\"data/{key}_wiki_exploded.tar\")\n",
    "    for index, enc in enumerate(dataset):\n",
    "        if index%10000==0:\n",
    "            print(f\"{index:6d}\", end=\"\\r\", flush=True, file=sys.stderr)\n",
    "        sink.write({\n",
    "            \"__key__\": \"sample%06d\" % index,\n",
    "            \"enc_dict.pyd\": enc,\n",
    "        })\n",
    "    sink.close()"
   ]
  },
  {
   "cell_type": "code",
   "execution_count": null,
   "id": "ceddc55a-0f37-4eca-9269-6db582dbbf63",
   "metadata": {},
   "outputs": [],
   "source": [
    "!ls -l data/geo_wds.tar\n",
    "!tar tvf data/geo_wds.tar | head"
   ]
  },
  {
   "cell_type": "code",
   "execution_count": null,
   "id": "11b3da61-b95b-4135-98fd-754fcbf2b3cd",
   "metadata": {},
   "outputs": [],
   "source": [
    "webds = wds.WebDataset('data/train_geo_wds.tar').decode('torch')"
   ]
  },
  {
   "cell_type": "code",
   "execution_count": null,
   "id": "bc948232-a734-4add-bc8c-7974509c6ec8",
   "metadata": {},
   "outputs": [],
   "source": [
    "import torch"
   ]
  },
  {
   "cell_type": "code",
   "execution_count": null,
   "id": "5a4f2ef1-4dcb-4ed8-a6eb-4570de1d650e",
   "metadata": {},
   "outputs": [],
   "source": [
    "dataloader = torch.utils.data.DataLoader(webds, num_workers=1, batch_size=16)"
   ]
  },
  {
   "cell_type": "code",
   "execution_count": null,
   "id": "f9efbc79-98cb-4368-bc0f-1013dc1b9edb",
   "metadata": {},
   "outputs": [],
   "source": [
    "for index, batch in enumerate(dataloader):\n",
    "    if index%10000==0:\n",
    "        print(batch['enc_dict.pyd']['labels'])"
   ]
  }
 ],
 "metadata": {
  "kernelspec": {
   "display_name": "Python 3",
   "language": "python",
   "name": "python3"
  },
  "language_info": {
   "codemirror_mode": {
    "name": "ipython",
    "version": 3
   },
   "file_extension": ".py",
   "mimetype": "text/x-python",
   "name": "python",
   "nbconvert_exporter": "python",
   "pygments_lexer": "ipython3",
   "version": "3.8.8"
  }
 },
 "nbformat": 4,
 "nbformat_minor": 5
}
