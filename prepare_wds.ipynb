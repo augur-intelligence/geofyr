{
 "cells": [
  {
   "cell_type": "code",
   "execution_count": 2,
   "id": "2673b97f-b97e-467e-a037-5e56e1536e14",
   "metadata": {},
   "outputs": [],
   "source": [
    "import pandas as pd\n",
    "from transformers import DistilBertTokenizerFast\n",
    "import webdataset as wds\n",
    "import sys\n",
    "from utils.utils import GEODataset\n",
    "from sklearn.model_selection import train_test_split"
   ]
  },
  {
   "cell_type": "code",
   "execution_count": 3,
   "id": "2c8c41a8-8c76-4c58-a0c1-9b5236212a7e",
   "metadata": {},
   "outputs": [],
   "source": [
    "df = pd.read_parquet(\"data/geo_data.parquet\")"
   ]
  },
  {
   "cell_type": "code",
   "execution_count": 4,
   "id": "dd1958d1-d6a1-4462-aee7-876ce1108d68",
   "metadata": {},
   "outputs": [],
   "source": [
    "texts = df[\"text\"].values.tolist()\n",
    "labels = df[[\"lat\",  \"lon\"]].astype(float).values.tolist()"
   ]
  },
  {
   "cell_type": "code",
   "execution_count": 5,
   "id": "ed3946f2-8ba6-457f-9073-e5bb07b98d98",
   "metadata": {},
   "outputs": [],
   "source": [
    "train_ratio = 0.78\n",
    "test_ratio = 0.17\n",
    "validation_ratio = 0.5\n",
    "\n",
    "# train is now 75% of the entire data set\n",
    "# the _junk suffix means that we drop that variable completely\n",
    "x_train, x_test, y_train, y_test = train_test_split(texts, labels, test_size=1 - train_ratio)\n",
    "\n",
    "# test is now 10% of the initial data set\n",
    "# validation is now 15% of the initial data set\n",
    "x_test, x_val, y_test, y_val = train_test_split(x_test, y_test, test_size=test_ratio/(test_ratio + validation_ratio)) \n"
   ]
  },
  {
   "cell_type": "code",
   "execution_count": 6,
   "id": "fa22d3e7-2c02-40fd-9866-8930aa4c2e05",
   "metadata": {},
   "outputs": [
    {
     "data": {
      "text/plain": [
       "(0.78, 0.16417903737304806, 0.05582096262695195)"
      ]
     },
     "execution_count": 6,
     "metadata": {},
     "output_type": "execute_result"
    }
   ],
   "source": [
    "len(x_train)/len(texts), len(x_test)/len(texts), len(x_val)/len(texts)"
   ]
  },
  {
   "cell_type": "code",
   "execution_count": 7,
   "id": "1c075ac9-330a-4f38-95b5-50b62eb1273c",
   "metadata": {},
   "outputs": [
    {
     "data": {
      "text/plain": [
       "4857645"
      ]
     },
     "execution_count": 7,
     "metadata": {},
     "output_type": "execute_result"
    }
   ],
   "source": [
    "len(x_train)/30"
   ]
  },
  {
   "cell_type": "code",
   "execution_count": 12,
   "id": "e7e37c7b-7d06-426e-ba94-f5dd0ff7a9db",
   "metadata": {},
   "outputs": [],
   "source": [
    "TOKEN_MODEL = 'distilbert-base-uncased'\n",
    "tokenizer = DistilBertTokenizerFast.from_pretrained(TOKEN_MODEL)\n",
    "tokenizer.model_max_length = 300"
   ]
  },
  {
   "cell_type": "code",
   "execution_count": 14,
   "id": "7cb026cc-9c98-469c-b2ca-dae839766976",
   "metadata": {},
   "outputs": [],
   "source": [
    "tok_train = tokenizer(x_train, truncation=True, padding=True)"
   ]
  },
  {
   "cell_type": "code",
   "execution_count": 15,
   "id": "b1010cd3-9e3f-4ff4-90c8-efffa1d9dd10",
   "metadata": {},
   "outputs": [],
   "source": [
    "tok_test = tokenizer(x_test, truncation=True, padding=True)"
   ]
  },
  {
   "cell_type": "code",
   "execution_count": 16,
   "id": "58bd8fde-6514-4e9f-9029-d369e0a8a8d4",
   "metadata": {},
   "outputs": [],
   "source": [
    "tok_val = tokenizer(x_val, truncation=True, padding=True)"
   ]
  },
  {
   "cell_type": "code",
   "execution_count": 17,
   "id": "e474e3e6-e3d5-433c-b789-86e111e1a938",
   "metadata": {
    "tags": []
   },
   "outputs": [],
   "source": [
    "labels_train = y_train\n",
    "labels_test = y_test\n",
    "labels_val = y_val"
   ]
  },
  {
   "cell_type": "code",
   "execution_count": 18,
   "id": "c4db300e-e1e3-4232-9802-c4abbbf99647",
   "metadata": {},
   "outputs": [],
   "source": [
    "train_dataset = GEODataset(tok_train, labels_train)\n",
    "test_dataset = GEODataset(tok_test, labels_test)\n",
    "val_dataset = GEODataset(tok_val, labels_val)"
   ]
  },
  {
   "cell_type": "code",
   "execution_count": 19,
   "id": "cb4f6a14-e7b6-4bc3-9270-f64de4683815",
   "metadata": {},
   "outputs": [],
   "source": [
    "dataset_map = {'train' : train_dataset, 'test': test_dataset, 'val': val_dataset}"
   ]
  },
  {
   "cell_type": "code",
   "execution_count": 20,
   "id": "fe7d24b5-bce6-4bea-a04b-d50944a97085",
   "metadata": {},
   "outputs": [
    {
     "name": "stderr",
     "output_type": "stream",
     "text": [
      "3400000\r"
     ]
    }
   ],
   "source": [
    "for key in dataset_map.keys():\n",
    "    dataset = dataset_map[key]\n",
    "    sink = wds.TarWriter(f\"data/{key}_geo_wds_wiki_names.tar\")\n",
    "    for index, enc in enumerate(dataset):\n",
    "        if index%10000==0:\n",
    "            print(f\"{index:6d}\", end=\"\\r\", flush=True, file=sys.stderr)\n",
    "        sink.write({\n",
    "            \"__key__\": \"sample%06d\" % index,\n",
    "            \"enc_dict.pyd\": enc,\n",
    "        })\n",
    "    sink.close()"
   ]
  },
  {
   "cell_type": "code",
   "execution_count": null,
   "id": "ceddc55a-0f37-4eca-9269-6db582dbbf63",
   "metadata": {},
   "outputs": [],
   "source": [
    "!ls -l data/geo_wds.tar\n",
    "!tar tvf data/geo_wds.tar | head"
   ]
  },
  {
   "cell_type": "code",
   "execution_count": null,
   "id": "11b3da61-b95b-4135-98fd-754fcbf2b3cd",
   "metadata": {},
   "outputs": [],
   "source": [
    "webds = wds.WebDataset('data/train_geo_wds.tar').decode('torch')"
   ]
  },
  {
   "cell_type": "code",
   "execution_count": null,
   "id": "bc948232-a734-4add-bc8c-7974509c6ec8",
   "metadata": {},
   "outputs": [],
   "source": [
    "import torch"
   ]
  },
  {
   "cell_type": "code",
   "execution_count": null,
   "id": "5a4f2ef1-4dcb-4ed8-a6eb-4570de1d650e",
   "metadata": {},
   "outputs": [],
   "source": [
    "dataloader = torch.utils.data.DataLoader(webds, num_workers=1, batch_size=16)"
   ]
  },
  {
   "cell_type": "code",
   "execution_count": null,
   "id": "f9efbc79-98cb-4368-bc0f-1013dc1b9edb",
   "metadata": {},
   "outputs": [],
   "source": [
    "for index, batch in enumerate(dataloader):\n",
    "    if index%10000==0:\n",
    "        print(batch['enc_dict.pyd']['labels'])"
   ]
  }
 ],
 "metadata": {
  "kernelspec": {
   "display_name": "Python 3",
   "language": "python",
   "name": "python3"
  },
  "language_info": {
   "codemirror_mode": {
    "name": "ipython",
    "version": 3
   },
   "file_extension": ".py",
   "mimetype": "text/x-python",
   "name": "python",
   "nbconvert_exporter": "python",
   "pygments_lexer": "ipython3",
   "version": "3.8.8"
  }
 },
 "nbformat": 4,
 "nbformat_minor": 5
}
