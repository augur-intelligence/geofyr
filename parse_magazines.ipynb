{
 "cells": [
  {
   "cell_type": "code",
   "execution_count": 32,
   "id": "e4b652de-e3d7-4310-ad14-f066afba7a3d",
   "metadata": {},
   "outputs": [],
   "source": [
    "import newspaper\n",
    "import pandas as pd\n",
    "from tqdm import auto\n",
    "from newspaper import Article, Config\n",
    "USER_AGENT = 'Mozilla/5.0 (Macintosh; Intel Mac OS X 10.15; rv:78.0) Gecko/20100101 Firefox/78.0'\n",
    "config = Config()\n",
    "config.browser_user_agent = USER_AGENT"
   ]
  },
  {
   "cell_type": "code",
   "execution_count": 33,
   "id": "e6b45142-8deb-48b3-858e-70d79f69a676",
   "metadata": {},
   "outputs": [],
   "source": [
    "MAG_DICT = {\"FEMALE\" : [\"https://www.bildderfrau.de/\", \n",
    "                        \"https://www.brigitte.de/\", \n",
    "                        \"https://www.gala.de/\", \n",
    "                        \"https://www.cosmopolitan.de/\", \n",
    "                        \"https://flow-magazin.de/\",\n",
    "                       \"https://www.fuersie.de/\"],\n",
    "           \"MALE\" : [\"https://www.gq-magazin.de/\",\n",
    "                    \"https://www.menshealth.de/\",\n",
    "                    \"https://www.playboy.de/\",\n",
    "                    \"https://sportbild.bild.de/\",\n",
    "                    \"https://www.beef.de/\",\n",
    "                    \"https://www.autobild.de/\",\n",
    "                    \"https://www.computerbild.de/\"]}"
   ]
  },
  {
   "cell_type": "code",
   "execution_count": 34,
   "id": "3de5fd37-3623-4e18-be27-6a0bf6aa6333",
   "metadata": {},
   "outputs": [
    {
     "data": {
      "application/vnd.jupyter.widget-view+json": {
       "model_id": "5e637b6c591b4f34bb4765ef1a2413c0",
       "version_major": 2,
       "version_minor": 0
      },
      "text/plain": [
       "  0%|          | 0/302 [00:00<?, ?it/s]"
      ]
     },
     "metadata": {},
     "output_type": "display_data"
    },
    {
     "data": {
      "application/vnd.jupyter.widget-view+json": {
       "model_id": "ab9432889a404317b43a80011032b022",
       "version_major": 2,
       "version_minor": 0
      },
      "text/plain": [
       "  0%|          | 0/410 [00:00<?, ?it/s]"
      ]
     },
     "metadata": {},
     "output_type": "display_data"
    },
    {
     "data": {
      "application/vnd.jupyter.widget-view+json": {
       "model_id": "3248e7d1ec7941d2bc4889ac9724c01f",
       "version_major": 2,
       "version_minor": 0
      },
      "text/plain": [
       "  0%|          | 0/132 [00:00<?, ?it/s]"
      ]
     },
     "metadata": {},
     "output_type": "display_data"
    },
    {
     "data": {
      "application/vnd.jupyter.widget-view+json": {
       "model_id": "a640f6b6a8944c5397a97417cc55e973",
       "version_major": 2,
       "version_minor": 0
      },
      "text/plain": [
       "  0%|          | 0/300 [00:00<?, ?it/s]"
      ]
     },
     "metadata": {},
     "output_type": "display_data"
    },
    {
     "data": {
      "application/vnd.jupyter.widget-view+json": {
       "model_id": "e46667cf180641c498097c2fc1b2b57f",
       "version_major": 2,
       "version_minor": 0
      },
      "text/plain": [
       "  0%|          | 0/2 [00:00<?, ?it/s]"
      ]
     },
     "metadata": {},
     "output_type": "display_data"
    },
    {
     "data": {
      "application/vnd.jupyter.widget-view+json": {
       "model_id": "96f492d129794b47aa82813e6eb82f4b",
       "version_major": 2,
       "version_minor": 0
      },
      "text/plain": [
       "  0%|          | 0/105 [00:00<?, ?it/s]"
      ]
     },
     "metadata": {},
     "output_type": "display_data"
    },
    {
     "data": {
      "application/vnd.jupyter.widget-view+json": {
       "model_id": "c5dbc0d438084f9d8fd8ccaf1c49ad76",
       "version_major": 2,
       "version_minor": 0
      },
      "text/plain": [
       "  0%|          | 0/152 [00:00<?, ?it/s]"
      ]
     },
     "metadata": {},
     "output_type": "display_data"
    },
    {
     "data": {
      "application/vnd.jupyter.widget-view+json": {
       "model_id": "d5cfe182843448528c2094a61fcc9a39",
       "version_major": 2,
       "version_minor": 0
      },
      "text/plain": [
       "  0%|          | 0/37 [00:00<?, ?it/s]"
      ]
     },
     "metadata": {},
     "output_type": "display_data"
    },
    {
     "data": {
      "application/vnd.jupyter.widget-view+json": {
       "model_id": "7d95733f58964c138c2309ce5adb715e",
       "version_major": 2,
       "version_minor": 0
      },
      "text/plain": [
       "  0%|          | 0/105 [00:00<?, ?it/s]"
      ]
     },
     "metadata": {},
     "output_type": "display_data"
    },
    {
     "data": {
      "application/vnd.jupyter.widget-view+json": {
       "model_id": "71e9bf0bfb3343af83b221b6a704781d",
       "version_major": 2,
       "version_minor": 0
      },
      "text/plain": [
       "  0%|          | 0/130 [00:00<?, ?it/s]"
      ]
     },
     "metadata": {},
     "output_type": "display_data"
    },
    {
     "data": {
      "application/vnd.jupyter.widget-view+json": {
       "model_id": "96955bee8b8643739ebd7e99cb36d047",
       "version_major": 2,
       "version_minor": 0
      },
      "text/plain": [
       "  0%|          | 0/4 [00:00<?, ?it/s]"
      ]
     },
     "metadata": {},
     "output_type": "display_data"
    },
    {
     "data": {
      "application/vnd.jupyter.widget-view+json": {
       "model_id": "b40226e7ab9441afa3b73c8750d99d2d",
       "version_major": 2,
       "version_minor": 0
      },
      "text/plain": [
       "  0%|          | 0/257 [00:00<?, ?it/s]"
      ]
     },
     "metadata": {},
     "output_type": "display_data"
    },
    {
     "data": {
      "application/vnd.jupyter.widget-view+json": {
       "model_id": "0e0ccafb0ad7449395ad029e1b1ddada",
       "version_major": 2,
       "version_minor": 0
      },
      "text/plain": [
       "  0%|          | 0/97 [00:00<?, ?it/s]"
      ]
     },
     "metadata": {},
     "output_type": "display_data"
    }
   ],
   "source": [
    "article_list = []\n",
    "for key in list(MAG_DICT.keys()):\n",
    "    for mag in MAG_DICT[key]:\n",
    "        site = newspaper.build(mag, config=config, memoize_articles=False)\n",
    "        for article in auto.tqdm(site.articles):\n",
    "            try:\n",
    "                article.download()\n",
    "                article.parse()\n",
    "                article_list.append({\"label\" : key, \"text\" : article.title + \" \" + article.text})\n",
    "            except:\n",
    "                continue\n"
   ]
  },
  {
   "cell_type": "code",
   "execution_count": 35,
   "id": "14aedd8a-3715-4dfb-8bec-0ad97a660278",
   "metadata": {
    "tags": []
   },
   "outputs": [],
   "source": [
    "article_df = pd.DataFrame(article_list)"
   ]
  },
  {
   "cell_type": "code",
   "execution_count": 37,
   "id": "819452a0-6c68-454a-a755-34fb1a47dbc2",
   "metadata": {},
   "outputs": [
    {
     "data": {
      "text/plain": [
       "FEMALE    1172\n",
       "MALE       770\n",
       "Name: label, dtype: int64"
      ]
     },
     "execution_count": 37,
     "metadata": {},
     "output_type": "execute_result"
    }
   ],
   "source": [
    "article_df.label.value_counts()"
   ]
  },
  {
   "cell_type": "code",
   "execution_count": 41,
   "id": "92caf412-882d-4c5b-a93e-739989881112",
   "metadata": {},
   "outputs": [],
   "source": [
    "article_df.to_parquet(\"../gender/articles.parquet\")"
   ]
  },
  {
   "cell_type": "code",
   "execution_count": null,
   "id": "83b19d89-871c-4bb6-b0a7-b313bc305708",
   "metadata": {},
   "outputs": [],
   "source": []
  }
 ],
 "metadata": {
  "kernelspec": {
   "display_name": "Python 3",
   "language": "python",
   "name": "python3"
  },
  "language_info": {
   "codemirror_mode": {
    "name": "ipython",
    "version": 3
   },
   "file_extension": ".py",
   "mimetype": "text/x-python",
   "name": "python",
   "nbconvert_exporter": "python",
   "pygments_lexer": "ipython3",
   "version": "3.8.8"
  }
 },
 "nbformat": 4,
 "nbformat_minor": 5
}
