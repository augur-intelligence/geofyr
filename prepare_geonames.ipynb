{
 "cells": [
  {
   "cell_type": "code",
   "execution_count": 4,
   "id": "11644f85-1515-4e72-a031-41f52044e907",
   "metadata": {},
   "outputs": [],
   "source": [
    "import pandas as pd\n",
    "import numpy as np"
   ]
  },
  {
   "cell_type": "code",
   "execution_count": 5,
   "id": "c9bc70e9-3423-46fa-b6dc-0faaa886656a",
   "metadata": {},
   "outputs": [],
   "source": [
    "cols = [\n",
    "\"geonameid\",\n",
    "\"name\",\n",
    "\"asciiname\",\n",
    "\"alternatenames\",\n",
    "\"lat\",  \n",
    "\"lon\",\n",
    "\"feature class\",\n",
    "\"feature code\",   \n",
    "\"country code\",    \n",
    "\"cc2\",    \n",
    "\"admin1 code\",\n",
    "\"admin2 code\",     \n",
    "\"admin3 code\",     \n",
    "\"admin4 code\",     \n",
    "\"population\",     \n",
    "\"elevation\",      \n",
    "\"dem\",       \n",
    "\"timezone\",\n",
    "\"modification date\",\n",
    "]"
   ]
  },
  {
   "cell_type": "code",
   "execution_count": 6,
   "id": "b1b3396d-dabc-4157-a1b5-46166286c790",
   "metadata": {},
   "outputs": [
    {
     "name": "stderr",
     "output_type": "stream",
     "text": [
      "/Users/hhoferic/anaconda3/lib/python3.8/site-packages/IPython/core/interactiveshell.py:3437: DtypeWarning: Columns (9,10,11,12,13) have mixed types.Specify dtype option on import or set low_memory=False.\n",
      "  exec(code_obj, self.user_global_ns, self.user_ns)\n"
     ]
    }
   ],
   "source": [
    "all_countries = pd.read_csv('data/allCountries.zip', sep='\\t', header=None, names=cols)"
   ]
  },
  {
   "cell_type": "code",
   "execution_count": 7,
   "id": "6d702a83-e45b-4c33-86cb-1cc051b89a55",
   "metadata": {},
   "outputs": [],
   "source": [
    "country_codes = pd.read_csv('data/countrycodes.txt', sep='\\t')"
   ]
  },
  {
   "cell_type": "code",
   "execution_count": 8,
   "id": "c6f87860-3e35-4e0b-bee4-a41f33ec3625",
   "metadata": {},
   "outputs": [],
   "source": [
    "admin_codes = pd.read_csv('data/admin1.txt', sep='\\t', index_col=None)"
   ]
  },
  {
   "cell_type": "code",
   "execution_count": 9,
   "id": "f231a96a-6b8d-46a1-b7e5-7e3509fb9d7f",
   "metadata": {},
   "outputs": [],
   "source": [
    "name_codes = pd.read_csv('data/geonames_codes.txt', sep='\\t')"
   ]
  },
  {
   "cell_type": "code",
   "execution_count": 10,
   "id": "0fac7fb6-9041-4409-a4ea-49f822dc9e72",
   "metadata": {},
   "outputs": [],
   "source": [
    "admin_codes[\"country\"] = admin_codes.code.apply(lambda x: x.split(\".\")[0].strip())"
   ]
  },
  {
   "cell_type": "code",
   "execution_count": 11,
   "id": "7a1010d2-f872-4fce-900f-2a1aa0d29fb7",
   "metadata": {},
   "outputs": [],
   "source": [
    "admin_codes[\"province\"] = admin_codes.code.apply(lambda x: x.split(\".\")[1].strip())"
   ]
  },
  {
   "cell_type": "code",
   "execution_count": 12,
   "id": "6c1eb132-b243-4958-b900-ae553376914f",
   "metadata": {},
   "outputs": [],
   "source": [
    "name_codes['key'] = name_codes.code.apply(lambda x: x.split(\".\")[1])"
   ]
  },
  {
   "cell_type": "code",
   "execution_count": 13,
   "id": "befc3557-921f-4009-9e44-a7c58fc6426d",
   "metadata": {},
   "outputs": [],
   "source": [
    "merged = all_countries.merge(country_codes[['ISO', 'Country']], left_on='country code', right_on='ISO', how='left')"
   ]
  },
  {
   "cell_type": "code",
   "execution_count": 14,
   "id": "e04b180e-dd6f-4ae9-bd2c-1c3f9ea906a7",
   "metadata": {},
   "outputs": [],
   "source": [
    "merged = merged.merge(name_codes[['key', 'item']], left_on='feature code', right_on='key', how='left')"
   ]
  },
  {
   "cell_type": "code",
   "execution_count": 15,
   "id": "3e786a21-9027-4142-b02e-231162471550",
   "metadata": {},
   "outputs": [],
   "source": [
    "merged = merged.merge(admin_codes[['country', 'province', 'name']], left_on=['ISO','admin1 code'], right_on=['country', 'province'], how='left')"
   ]
  },
  {
   "cell_type": "code",
   "execution_count": 215,
   "id": "5fe33f00-5e70-44dc-9d2f-9f16e4902a16",
   "metadata": {},
   "outputs": [],
   "source": [
    "def row_to_text(row):\n",
    "#     print(row)\n",
    "    row = row.to_dict(orient='records')\n",
    "    if not pd.isna(row['province']) and not row['population'] == 0:\n",
    "        return_string = f\"{row['name_x']} is a {row['item']} in {row['name_y']} in {row['Country']} with a population of {row['population']}.\"\n",
    "    elif pd.isna(row['province']) and not row['population'] == 0:\n",
    "        return_string = f\"{row['name_x']} is a {row['item']} in {row['Country']} with a population of {row['population']}.\"\n",
    "    elif not pd.isna(row['province']) and row['population'] == 0:\n",
    "        return_string = f\"{row['name_x']} is a {row['item']} in {row['name_y']} in {row['Country']}.\"\n",
    "    elif pd.isna(row['province']) and row['population'] == 0:\n",
    "        return_string = f\"{row['name_x']} is a {row['item']} in {row['Country']}.\"\n",
    "    else:\n",
    "        return_string = f\"{row['name_x']} is a {row['item']} in {row['Country']}.\"\n",
    "    if not pd.isna(row['timezone']):\n",
    "        split = row['timezone'].split(\"/\")\n",
    "        zone = split[0]\n",
    "        major_city = split[1] if len(split)==2 else \" \".join(split[1:])\n",
    "        major_city = major_city.replace(\"_\", \" \")\n",
    "        return_string += f\" It's located in {zone} and the nearest major city is {major_city}.\"\n",
    "    return return_string\n",
    "    "
   ]
  },
  {
   "cell_type": "code",
   "execution_count": 216,
   "id": "e38e45b4-5984-4b7c-a09f-5501b58af956",
   "metadata": {},
   "outputs": [
    {
     "ename": "TypeError",
     "evalue": "to_dict() got an unexpected keyword argument 'orient'",
     "output_type": "error",
     "traceback": [
      "\u001b[0;31m---------------------------------------------------------------------------\u001b[0m",
      "\u001b[0;31mTypeError\u001b[0m                                 Traceback (most recent call last)",
      "\u001b[0;32m<ipython-input-216-0f3421f4ef89>\u001b[0m in \u001b[0;36m<module>\u001b[0;34m\u001b[0m\n\u001b[0;32m----> 1\u001b[0;31m \u001b[0mtexts\u001b[0m \u001b[0;34m=\u001b[0m \u001b[0mmerged\u001b[0m\u001b[0;34m.\u001b[0m\u001b[0mapply\u001b[0m\u001b[0;34m(\u001b[0m\u001b[0mrow_to_text\u001b[0m\u001b[0;34m,\u001b[0m \u001b[0maxis\u001b[0m\u001b[0;34m=\u001b[0m\u001b[0;36m1\u001b[0m\u001b[0;34m)\u001b[0m\u001b[0;34m\u001b[0m\u001b[0;34m\u001b[0m\u001b[0m\n\u001b[0m\u001b[1;32m      2\u001b[0m \u001b[0;31m# texts = merged.name_x + \" or \" + merged.alternatenames + \" is a \" + merged.item + \" in \" + merged.Country\u001b[0m\u001b[0;34m\u001b[0m\u001b[0;34m\u001b[0m\u001b[0;34m\u001b[0m\u001b[0m\n",
      "\u001b[0;32m~/anaconda3/lib/python3.8/site-packages/pandas/core/frame.py\u001b[0m in \u001b[0;36mapply\u001b[0;34m(self, func, axis, raw, result_type, args, **kwargs)\u001b[0m\n\u001b[1;32m   8738\u001b[0m             \u001b[0mkwargs\u001b[0m\u001b[0;34m=\u001b[0m\u001b[0mkwargs\u001b[0m\u001b[0;34m,\u001b[0m\u001b[0;34m\u001b[0m\u001b[0;34m\u001b[0m\u001b[0m\n\u001b[1;32m   8739\u001b[0m         )\n\u001b[0;32m-> 8740\u001b[0;31m         \u001b[0;32mreturn\u001b[0m \u001b[0mop\u001b[0m\u001b[0;34m.\u001b[0m\u001b[0mapply\u001b[0m\u001b[0;34m(\u001b[0m\u001b[0;34m)\u001b[0m\u001b[0;34m\u001b[0m\u001b[0;34m\u001b[0m\u001b[0m\n\u001b[0m\u001b[1;32m   8741\u001b[0m \u001b[0;34m\u001b[0m\u001b[0m\n\u001b[1;32m   8742\u001b[0m     def applymap(\n",
      "\u001b[0;32m~/anaconda3/lib/python3.8/site-packages/pandas/core/apply.py\u001b[0m in \u001b[0;36mapply\u001b[0;34m(self)\u001b[0m\n\u001b[1;32m    686\u001b[0m             \u001b[0;32mreturn\u001b[0m \u001b[0mself\u001b[0m\u001b[0;34m.\u001b[0m\u001b[0mapply_raw\u001b[0m\u001b[0;34m(\u001b[0m\u001b[0;34m)\u001b[0m\u001b[0;34m\u001b[0m\u001b[0;34m\u001b[0m\u001b[0m\n\u001b[1;32m    687\u001b[0m \u001b[0;34m\u001b[0m\u001b[0m\n\u001b[0;32m--> 688\u001b[0;31m         \u001b[0;32mreturn\u001b[0m \u001b[0mself\u001b[0m\u001b[0;34m.\u001b[0m\u001b[0mapply_standard\u001b[0m\u001b[0;34m(\u001b[0m\u001b[0;34m)\u001b[0m\u001b[0;34m\u001b[0m\u001b[0;34m\u001b[0m\u001b[0m\n\u001b[0m\u001b[1;32m    689\u001b[0m \u001b[0;34m\u001b[0m\u001b[0m\n\u001b[1;32m    690\u001b[0m     \u001b[0;32mdef\u001b[0m \u001b[0magg\u001b[0m\u001b[0;34m(\u001b[0m\u001b[0mself\u001b[0m\u001b[0;34m)\u001b[0m\u001b[0;34m:\u001b[0m\u001b[0;34m\u001b[0m\u001b[0;34m\u001b[0m\u001b[0m\n",
      "\u001b[0;32m~/anaconda3/lib/python3.8/site-packages/pandas/core/apply.py\u001b[0m in \u001b[0;36mapply_standard\u001b[0;34m(self)\u001b[0m\n\u001b[1;32m    810\u001b[0m \u001b[0;34m\u001b[0m\u001b[0m\n\u001b[1;32m    811\u001b[0m     \u001b[0;32mdef\u001b[0m \u001b[0mapply_standard\u001b[0m\u001b[0;34m(\u001b[0m\u001b[0mself\u001b[0m\u001b[0;34m)\u001b[0m\u001b[0;34m:\u001b[0m\u001b[0;34m\u001b[0m\u001b[0;34m\u001b[0m\u001b[0m\n\u001b[0;32m--> 812\u001b[0;31m         \u001b[0mresults\u001b[0m\u001b[0;34m,\u001b[0m \u001b[0mres_index\u001b[0m \u001b[0;34m=\u001b[0m \u001b[0mself\u001b[0m\u001b[0;34m.\u001b[0m\u001b[0mapply_series_generator\u001b[0m\u001b[0;34m(\u001b[0m\u001b[0;34m)\u001b[0m\u001b[0;34m\u001b[0m\u001b[0;34m\u001b[0m\u001b[0m\n\u001b[0m\u001b[1;32m    813\u001b[0m \u001b[0;34m\u001b[0m\u001b[0m\n\u001b[1;32m    814\u001b[0m         \u001b[0;31m# wrap results\u001b[0m\u001b[0;34m\u001b[0m\u001b[0;34m\u001b[0m\u001b[0;34m\u001b[0m\u001b[0m\n",
      "\u001b[0;32m~/anaconda3/lib/python3.8/site-packages/pandas/core/apply.py\u001b[0m in \u001b[0;36mapply_series_generator\u001b[0;34m(self)\u001b[0m\n\u001b[1;32m    826\u001b[0m             \u001b[0;32mfor\u001b[0m \u001b[0mi\u001b[0m\u001b[0;34m,\u001b[0m \u001b[0mv\u001b[0m \u001b[0;32min\u001b[0m \u001b[0menumerate\u001b[0m\u001b[0;34m(\u001b[0m\u001b[0mseries_gen\u001b[0m\u001b[0;34m)\u001b[0m\u001b[0;34m:\u001b[0m\u001b[0;34m\u001b[0m\u001b[0;34m\u001b[0m\u001b[0m\n\u001b[1;32m    827\u001b[0m                 \u001b[0;31m# ignore SettingWithCopy here in case the user mutates\u001b[0m\u001b[0;34m\u001b[0m\u001b[0;34m\u001b[0m\u001b[0;34m\u001b[0m\u001b[0m\n\u001b[0;32m--> 828\u001b[0;31m                 \u001b[0mresults\u001b[0m\u001b[0;34m[\u001b[0m\u001b[0mi\u001b[0m\u001b[0;34m]\u001b[0m \u001b[0;34m=\u001b[0m \u001b[0mself\u001b[0m\u001b[0;34m.\u001b[0m\u001b[0mf\u001b[0m\u001b[0;34m(\u001b[0m\u001b[0mv\u001b[0m\u001b[0;34m)\u001b[0m\u001b[0;34m\u001b[0m\u001b[0;34m\u001b[0m\u001b[0m\n\u001b[0m\u001b[1;32m    829\u001b[0m                 \u001b[0;32mif\u001b[0m \u001b[0misinstance\u001b[0m\u001b[0;34m(\u001b[0m\u001b[0mresults\u001b[0m\u001b[0;34m[\u001b[0m\u001b[0mi\u001b[0m\u001b[0;34m]\u001b[0m\u001b[0;34m,\u001b[0m \u001b[0mABCSeries\u001b[0m\u001b[0;34m)\u001b[0m\u001b[0;34m:\u001b[0m\u001b[0;34m\u001b[0m\u001b[0;34m\u001b[0m\u001b[0m\n\u001b[1;32m    830\u001b[0m                     \u001b[0;31m# If we have a view on v, we need to make a copy because\u001b[0m\u001b[0;34m\u001b[0m\u001b[0;34m\u001b[0m\u001b[0;34m\u001b[0m\u001b[0m\n",
      "\u001b[0;32m<ipython-input-215-ac8763c8fb2e>\u001b[0m in \u001b[0;36mrow_to_text\u001b[0;34m(row)\u001b[0m\n\u001b[1;32m      1\u001b[0m \u001b[0;32mdef\u001b[0m \u001b[0mrow_to_text\u001b[0m\u001b[0;34m(\u001b[0m\u001b[0mrow\u001b[0m\u001b[0;34m)\u001b[0m\u001b[0;34m:\u001b[0m\u001b[0;34m\u001b[0m\u001b[0;34m\u001b[0m\u001b[0m\n\u001b[1;32m      2\u001b[0m \u001b[0;31m#     print(row)\u001b[0m\u001b[0;34m\u001b[0m\u001b[0;34m\u001b[0m\u001b[0;34m\u001b[0m\u001b[0m\n\u001b[0;32m----> 3\u001b[0;31m     \u001b[0mrow\u001b[0m \u001b[0;34m=\u001b[0m \u001b[0mrow\u001b[0m\u001b[0;34m.\u001b[0m\u001b[0mto_dict\u001b[0m\u001b[0;34m(\u001b[0m\u001b[0morient\u001b[0m\u001b[0;34m=\u001b[0m\u001b[0;34m'records'\u001b[0m\u001b[0;34m)\u001b[0m\u001b[0;34m\u001b[0m\u001b[0;34m\u001b[0m\u001b[0m\n\u001b[0m\u001b[1;32m      4\u001b[0m     \u001b[0;32mif\u001b[0m \u001b[0;32mnot\u001b[0m \u001b[0mpd\u001b[0m\u001b[0;34m.\u001b[0m\u001b[0misna\u001b[0m\u001b[0;34m(\u001b[0m\u001b[0mrow\u001b[0m\u001b[0;34m[\u001b[0m\u001b[0;34m'province'\u001b[0m\u001b[0;34m]\u001b[0m\u001b[0;34m)\u001b[0m \u001b[0;32mand\u001b[0m \u001b[0;32mnot\u001b[0m \u001b[0mrow\u001b[0m\u001b[0;34m[\u001b[0m\u001b[0;34m'population'\u001b[0m\u001b[0;34m]\u001b[0m \u001b[0;34m==\u001b[0m \u001b[0;36m0\u001b[0m\u001b[0;34m:\u001b[0m\u001b[0;34m\u001b[0m\u001b[0;34m\u001b[0m\u001b[0m\n\u001b[1;32m      5\u001b[0m         \u001b[0mreturn_string\u001b[0m \u001b[0;34m=\u001b[0m \u001b[0;34mf\"{row['name_x']} is a {row['item']} in {row['name_y']} in {row['Country']} with a population of {row['population']}.\"\u001b[0m\u001b[0;34m\u001b[0m\u001b[0;34m\u001b[0m\u001b[0m\n",
      "\u001b[0;31mTypeError\u001b[0m: to_dict() got an unexpected keyword argument 'orient'"
     ]
    }
   ],
   "source": [
    "texts = merged.apply(row_to_text, axis=1)\n",
    "# texts = merged.name_x + \" or \" + merged.alternatenames + \" is a \" + merged.item + \" in \" + merged.Country"
   ]
  },
  {
   "cell_type": "code",
   "execution_count": 15,
   "id": "caabc7db-a7c0-4dff-9a4f-0059b7b1a614",
   "metadata": {},
   "outputs": [],
   "source": [
    "texts = texts.rename('text').to_frame()"
   ]
  },
  {
   "cell_type": "code",
   "execution_count": 16,
   "id": "7aeb820e-2772-4775-9f90-bb7693d6b6a3",
   "metadata": {},
   "outputs": [],
   "source": [
    "texts['lat'] = merged.lat\n",
    "texts['lon'] = merged.lon"
   ]
  },
  {
   "cell_type": "code",
   "execution_count": 20,
   "id": "4525d444-8533-4909-b6dd-fcfd47a5f2ee",
   "metadata": {},
   "outputs": [],
   "source": [
    "texts = texts[~texts.text.isna()]"
   ]
  },
  {
   "cell_type": "code",
   "execution_count": 21,
   "id": "972a2679-89f6-446a-8dfe-3e5340cda47d",
   "metadata": {},
   "outputs": [],
   "source": [
    "texts.to_csv('data/geonames_data.csv')"
   ]
  },
  {
   "cell_type": "code",
   "execution_count": null,
   "id": "d96f7b04-6e87-40f7-946b-f0afd101721b",
   "metadata": {},
   "outputs": [],
   "source": []
  }
 ],
 "metadata": {
  "kernelspec": {
   "display_name": "Python 3",
   "language": "python",
   "name": "python3"
  },
  "language_info": {
   "codemirror_mode": {
    "name": "ipython",
    "version": 3
   },
   "file_extension": ".py",
   "mimetype": "text/x-python",
   "name": "python",
   "nbconvert_exporter": "python",
   "pygments_lexer": "ipython3",
   "version": "3.8.8"
  }
 },
 "nbformat": 4,
 "nbformat_minor": 5
}
