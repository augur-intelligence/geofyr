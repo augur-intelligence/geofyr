{
 "cells": [
  {
   "cell_type": "code",
   "execution_count": 2,
   "id": "ccbfbbe0-7634-4232-b6be-18894b5001f7",
   "metadata": {},
   "outputs": [],
   "source": [
    "from sklearn.neighbors import KernelDensity\n",
    "from shapely.geometry import Point, Polygon\n",
    "import matplotlib.pyplot as plt\n",
    "import geopandas\n",
    "# from sklearn.cluster import DBSCAN\n",
    "import pandas as pd\n",
    "import torch\n",
    "import numpy as np\n",
    "from scipy.spatial import ConvexHull"
   ]
  },
  {
   "cell_type": "code",
   "execution_count": 3,
   "id": "fe41fcfd-8d16-4b44-a074-28f643f8f999",
   "metadata": {},
   "outputs": [],
   "source": [
    "from transformers import DistilBertTokenizerFast\n",
    "# from transformers import DistilBertForSequenceClassification, Trainer, TrainingArguments\n",
    "from transformers import RobertaForSequenceClassification , RobertaTokenizerFast, RobertaConfig\n",
    "\n",
    "BASE_MODEL = 'models/2021-12-03_model-distilbert-base-uncased_loss-wiki_exploded_geonames'\n",
    "\n",
    "TOKEN_MODEL = 'distilbert-base-uncased'\n",
    "tokenizer = DistilBertTokenizerFast.from_pretrained(TOKEN_MODEL)\n",
    "# model = DistilBertForSequenceClassification.from_pretrained(BASE_MODEL)\n",
    "# tokenizer = RobertaTokenizerFast.from_pretrained(TOKEN_MODEL)\n",
    "# model = RobertaForSequenceClassification.from_pretrained(BASE_MODEL)\n",
    "model = torch.load(BASE_MODEL, map_location=torch.device('cpu'))"
   ]
  },
  {
   "cell_type": "code",
   "execution_count": 4,
   "id": "25d292c9-f266-45e2-8a25-30f645c0ab89",
   "metadata": {},
   "outputs": [
    {
     "data": {
      "text/plain": [
       "127"
      ]
     },
     "execution_count": 4,
     "metadata": {},
     "output_type": "execute_result"
    }
   ],
   "source": [
    "text = '''\n",
    "The author of the Book of Ezekiel presents himself as Ezekiel, the son of Buzi, born into a priestly (kohen) lineage.[2] Apart from identifying himself, the author gives a date for the first divine encounter which he presents: \"in the thirtieth year\".[3] Ezekiel describes his calling to be a prophet by going into great detail about his encounter with God and four \"living creatures\" with four wheels that stayed beside the creatures.[4] For the next five years he incessantly prophesied and acted out the destruction of Jerusalem and its temple, which was met with some opposition. However, Ezekiel and his contemporaries like Jeremiah, another prophet who was living in Jerusalem at that time, witnessed the fulfilment of their prophecies with the siege of Jerusalem by the Babylonians.\n",
    "'''\n",
    "len(text.split(\" \"))\n",
    "# text = text.replace('\\n', ' ').lower()\n",
    "# text_split = text.split()\n",
    "# n_steps = 20\n",
    "# step_size = int(len(text_split)/n_steps)\n",
    "# variations = [\" \".join(text_split[:i]) + \" \" + \" \".join(text_split[i+step_size:]) for i in range(n_steps)] "
   ]
  },
  {
   "cell_type": "code",
   "execution_count": 5,
   "id": "e1568e10-ea42-411b-8bcd-482ee24a5e2b",
   "metadata": {},
   "outputs": [
    {
     "data": {
      "text/plain": [
       "tensor([[32.5108, 34.8767]])"
      ]
     },
     "execution_count": 5,
     "metadata": {},
     "output_type": "execute_result"
    }
   ],
   "source": [
    "tok = tokenizer(text, truncation=True, padding=True, return_tensors='pt')\n",
    "with torch.no_grad():\n",
    "    model.eval()\n",
    "    out = model.forward(input_ids = tok['input_ids'], attention_mask=tok['attention_mask'], output_hidden_states=True)\n",
    "out['logits']"
   ]
  },
  {
   "cell_type": "code",
   "execution_count": 6,
   "id": "0ce1a918-6509-467f-b878-9b401c05702d",
   "metadata": {},
   "outputs": [],
   "source": [
    "last_hidden_state = out['hidden_states'][-1]\n",
    "hidden_state = last_hidden_state  # (bs, seq_len, dim)\n",
    "pooled_output = hidden_state[:, 0]  # (bs, dim)\n",
    "rand_locs = []\n",
    "with torch.no_grad():\n",
    "    model.eval()\n",
    "    for i in range(500):\n",
    "        ones = torch.ones_like(pooled_output)\n",
    "        dim1 = ones.shape[1]\n",
    "        rand_dim1 = np.random.randint(0, dim1)\n",
    "        ones[0, rand_dim1] = 0\n",
    "        masked_output = ones * pooled_output\n",
    "        pre_clf_output = model.pre_classifier(masked_output)  # (bs, dim)\n",
    "        relu_output = torch.nn.ReLU()(pre_clf_output)  # (bs, dim)\n",
    "        rand_loc = model.classifier(relu_output).cpu().detach().numpy().squeeze()\n",
    "        rand_locs.append(rand_loc)\n",
    "        \n",
    "out_df = pd.DataFrame(rand_locs, columns=['lat', 'lon'])"
   ]
  },
  {
   "cell_type": "code",
   "execution_count": 7,
   "id": "672ca8ed-42f9-417c-8da7-917c5b194d74",
   "metadata": {},
   "outputs": [],
   "source": [
    "kde = KernelDensity(\n",
    "    kernel='gaussian',\n",
    "    metric='haversine',\n",
    "    bandwidth=0.0004)"
   ]
  },
  {
   "cell_type": "code",
   "execution_count": 8,
   "id": "5d845f06-7ded-412d-a7ae-7c27260a8276",
   "metadata": {},
   "outputs": [],
   "source": [
    "out_df *= np.pi / 180"
   ]
  },
  {
   "cell_type": "code",
   "execution_count": 9,
   "id": "02d6d8ad-ba2e-483d-92b1-2e6b452dbfd9",
   "metadata": {},
   "outputs": [
    {
     "data": {
      "text/plain": [
       "KernelDensity(bandwidth=0.0004, metric='haversine')"
      ]
     },
     "execution_count": 9,
     "metadata": {},
     "output_type": "execute_result"
    }
   ],
   "source": [
    "kde.fit(out_df)"
   ]
  },
  {
   "cell_type": "code",
   "execution_count": 10,
   "id": "667c391f-355c-42cc-b992-c824231d2f96",
   "metadata": {},
   "outputs": [],
   "source": [
    "conf_sample = kde.sample(1000)\n",
    "conf_probas = np.exp(kde.score_samples(conf_sample))\n",
    "conf_probas /= conf_probas.sum()\n",
    "conf_df = pd.Series(conf_probas, name='proba').to_frame()"
   ]
  },
  {
   "cell_type": "code",
   "execution_count": 11,
   "id": "457c135e-46cb-44ef-b6a3-591fd61cf217",
   "metadata": {},
   "outputs": [],
   "source": [
    "conf_sample *= 180. / np.pi\n",
    "conf_df['point'] = geopandas.GeoSeries([Point(point[::-1]) for point in conf_sample])\n",
    "conf_df.loc[:,['lat', 'lon']] = conf_sample"
   ]
  },
  {
   "cell_type": "code",
   "execution_count": 12,
   "id": "2f9c2579-0dff-49e3-8e14-52b32912854f",
   "metadata": {},
   "outputs": [],
   "source": [
    "# lat_mean = conf_df['lat'].mean()\n",
    "# lon_mean = conf_df['lon'].mean()"
   ]
  },
  {
   "cell_type": "code",
   "execution_count": 13,
   "id": "ab4fd8f3-d816-41e7-a1da-aac34f6adfb3",
   "metadata": {},
   "outputs": [],
   "source": [
    "# lat_space = np.linspace(-np.pi/2 , np.pi/2, 100) \n",
    "# lon_space = np.linspace(-np.pi, np.pi, 100)\n",
    "# lat_space = np.linspace(-90 , 90, 100) \n",
    "# lon_space = np.linspace(-180, 180, 100)\n",
    "# X, Y = np.meshgrid(lon_space,lon_space)\n",
    "# xy = np.vstack([X.ravel(), Y.ravel()]).T\n",
    "# X, Y = X * 180. / np.pi, X * 180./np.pi\n",
    "# Z = kde.score_samples(xy)\n",
    "# Z = Z.reshape(X.shape)"
   ]
  },
  {
   "cell_type": "code",
   "execution_count": 14,
   "id": "55ab0536-677c-4e15-b499-b63d0a4b4ba7",
   "metadata": {
    "tags": []
   },
   "outputs": [],
   "source": [
    "# world = gpd.read_file(gpd.datasets.get_path(\"naturalearth_lowres\"))"
   ]
  },
  {
   "cell_type": "code",
   "execution_count": 15,
   "id": "4e5566fc-1a32-4353-8bbf-fc3fcdc0fbcd",
   "metadata": {},
   "outputs": [],
   "source": [
    "# plt.figure(figsize=(16,9))\n",
    "# cont = plt.contour(X, Y, Z, 30)\n",
    "# world.plot(color=\"lightgrey\")"
   ]
  },
  {
   "cell_type": "code",
   "execution_count": 16,
   "id": "1ed13451-2eb4-49bd-a046-d3a38bb32410",
   "metadata": {},
   "outputs": [],
   "source": [
    "conf_df['cdf'] = conf_df.sort_values('proba', ascending=False).proba.cumsum()"
   ]
  },
  {
   "cell_type": "code",
   "execution_count": 17,
   "id": "69960d09-3184-45d4-bf9d-95b41e914bb9",
   "metadata": {},
   "outputs": [],
   "source": [
    "levels = 10"
   ]
  },
  {
   "cell_type": "code",
   "execution_count": 19,
   "id": "cb4e41e9-1f1c-4d10-851e-82ca03ca96a0",
   "metadata": {},
   "outputs": [],
   "source": [
    "conf_df['conf_level'] = pd.qcut(conf_df.cdf, q=levels,labels=False)"
   ]
  },
  {
   "cell_type": "code",
   "execution_count": 20,
   "id": "f91cab3f-e57b-4b65-96b5-8b619408f932",
   "metadata": {},
   "outputs": [
    {
     "name": "stderr",
     "output_type": "stream",
     "text": [
      "IllegalArgumentException: Shell is not a LinearRing\n",
      "IllegalArgumentException: Shell is not a LinearRing\n",
      "IllegalArgumentException: Shell is not a LinearRing\n",
      "IllegalArgumentException: Shell is not a LinearRing\n",
      "IllegalArgumentException: Shell is not a LinearRing\n",
      "IllegalArgumentException: Shell is not a LinearRing\n",
      "IllegalArgumentException: Shell is not a LinearRing\n",
      "IllegalArgumentException: Shell is not a LinearRing\n",
      "IllegalArgumentException: Shell is not a LinearRing\n",
      "IllegalArgumentException: Shell is not a LinearRing\n"
     ]
    },
    {
     "name": "stdout",
     "output_type": "stream",
     "text": [
      "0\n",
      "1\n",
      "2\n",
      "3\n",
      "4\n",
      "5\n",
      "6\n",
      "7\n",
      "8\n",
      "9\n"
     ]
    }
   ],
   "source": [
    "conf_areas = []\n",
    "for level in range(levels):\n",
    "    print(level)\n",
    "    conf_area_points = conf_df[conf_df.conf_level == level][['lat', 'lon']]\n",
    "    conf_area_hull = ConvexHull(conf_area_points.values)\n",
    "    vertecies = conf_area_hull.points[conf_area_hull.vertices]\n",
    "    points = geopandas.GeoSeries([Point(point[::-1]) for point in vertecies])\n",
    "    polygon = Polygon(points)\n",
    "    conf_areas.append(polygon)"
   ]
  },
  {
   "cell_type": "code",
   "execution_count": 191,
   "id": "e68c473f-3c0b-4f9f-9b32-f96a7f8b8d7a",
   "metadata": {},
   "outputs": [
    {
     "data": {
      "image/svg+xml": [
       "<svg xmlns=\"http://www.w3.org/2000/svg\" xmlns:xlink=\"http://www.w3.org/1999/xlink\" />"
      ],
      "text/plain": [
       "<shapely.geometry.polygon.Polygon at 0x7fceb93e5190>"
      ]
     },
     "execution_count": 191,
     "metadata": {},
     "output_type": "execute_result"
    }
   ],
   "source": [
    "conf_areas"
   ]
  },
  {
   "cell_type": "code",
   "execution_count": 193,
   "id": "14f5df28-dfe7-40c3-87c0-53d019af92f0",
   "metadata": {},
   "outputs": [],
   "source": [
    "conf_area_series = geopandas.GeoSeries(conf_areas)"
   ]
  },
  {
   "cell_type": "code",
   "execution_count": 194,
   "id": "e2fbcbba-9c28-4998-b8c0-db6fb732a0c8",
   "metadata": {
    "collapsed": true,
    "jupyter": {
     "outputs_hidden": true
    },
    "tags": []
   },
   "outputs": [
    {
     "ename": "ValueError",
     "evalue": "Null geometry supports no operations",
     "output_type": "error",
     "traceback": [
      "\u001b[0;31m---------------------------------------------------------------------------\u001b[0m",
      "\u001b[0;31mValueError\u001b[0m                                Traceback (most recent call last)",
      "\u001b[0;32m~/anaconda3/lib/python3.8/site-packages/IPython/core/formatters.py\u001b[0m in \u001b[0;36m__call__\u001b[0;34m(self, obj)\u001b[0m\n\u001b[1;32m    700\u001b[0m                 \u001b[0mtype_pprinters\u001b[0m\u001b[0;34m=\u001b[0m\u001b[0mself\u001b[0m\u001b[0;34m.\u001b[0m\u001b[0mtype_printers\u001b[0m\u001b[0;34m,\u001b[0m\u001b[0;34m\u001b[0m\u001b[0;34m\u001b[0m\u001b[0m\n\u001b[1;32m    701\u001b[0m                 deferred_pprinters=self.deferred_printers)\n\u001b[0;32m--> 702\u001b[0;31m             \u001b[0mprinter\u001b[0m\u001b[0;34m.\u001b[0m\u001b[0mpretty\u001b[0m\u001b[0;34m(\u001b[0m\u001b[0mobj\u001b[0m\u001b[0;34m)\u001b[0m\u001b[0;34m\u001b[0m\u001b[0;34m\u001b[0m\u001b[0m\n\u001b[0m\u001b[1;32m    703\u001b[0m             \u001b[0mprinter\u001b[0m\u001b[0;34m.\u001b[0m\u001b[0mflush\u001b[0m\u001b[0;34m(\u001b[0m\u001b[0;34m)\u001b[0m\u001b[0;34m\u001b[0m\u001b[0;34m\u001b[0m\u001b[0m\n\u001b[1;32m    704\u001b[0m             \u001b[0;32mreturn\u001b[0m \u001b[0mstream\u001b[0m\u001b[0;34m.\u001b[0m\u001b[0mgetvalue\u001b[0m\u001b[0;34m(\u001b[0m\u001b[0;34m)\u001b[0m\u001b[0;34m\u001b[0m\u001b[0;34m\u001b[0m\u001b[0m\n",
      "\u001b[0;32m~/anaconda3/lib/python3.8/site-packages/IPython/lib/pretty.py\u001b[0m in \u001b[0;36mpretty\u001b[0;34m(self, obj)\u001b[0m\n\u001b[1;32m    392\u001b[0m                         \u001b[0;32mif\u001b[0m \u001b[0mcls\u001b[0m \u001b[0;32mis\u001b[0m \u001b[0;32mnot\u001b[0m \u001b[0mobject\u001b[0m\u001b[0;31m \u001b[0m\u001b[0;31m\\\u001b[0m\u001b[0;34m\u001b[0m\u001b[0;34m\u001b[0m\u001b[0m\n\u001b[1;32m    393\u001b[0m                                 \u001b[0;32mand\u001b[0m \u001b[0mcallable\u001b[0m\u001b[0;34m(\u001b[0m\u001b[0mcls\u001b[0m\u001b[0;34m.\u001b[0m\u001b[0m__dict__\u001b[0m\u001b[0;34m.\u001b[0m\u001b[0mget\u001b[0m\u001b[0;34m(\u001b[0m\u001b[0;34m'__repr__'\u001b[0m\u001b[0;34m)\u001b[0m\u001b[0;34m)\u001b[0m\u001b[0;34m:\u001b[0m\u001b[0;34m\u001b[0m\u001b[0;34m\u001b[0m\u001b[0m\n\u001b[0;32m--> 394\u001b[0;31m                             \u001b[0;32mreturn\u001b[0m \u001b[0m_repr_pprint\u001b[0m\u001b[0;34m(\u001b[0m\u001b[0mobj\u001b[0m\u001b[0;34m,\u001b[0m \u001b[0mself\u001b[0m\u001b[0;34m,\u001b[0m \u001b[0mcycle\u001b[0m\u001b[0;34m)\u001b[0m\u001b[0;34m\u001b[0m\u001b[0;34m\u001b[0m\u001b[0m\n\u001b[0m\u001b[1;32m    395\u001b[0m \u001b[0;34m\u001b[0m\u001b[0m\n\u001b[1;32m    396\u001b[0m             \u001b[0;32mreturn\u001b[0m \u001b[0m_default_pprint\u001b[0m\u001b[0;34m(\u001b[0m\u001b[0mobj\u001b[0m\u001b[0;34m,\u001b[0m \u001b[0mself\u001b[0m\u001b[0;34m,\u001b[0m \u001b[0mcycle\u001b[0m\u001b[0;34m)\u001b[0m\u001b[0;34m\u001b[0m\u001b[0;34m\u001b[0m\u001b[0m\n",
      "\u001b[0;32m~/anaconda3/lib/python3.8/site-packages/IPython/lib/pretty.py\u001b[0m in \u001b[0;36m_repr_pprint\u001b[0;34m(obj, p, cycle)\u001b[0m\n\u001b[1;32m    698\u001b[0m     \u001b[0;34m\"\"\"A pprint that just redirects to the normal repr function.\"\"\"\u001b[0m\u001b[0;34m\u001b[0m\u001b[0;34m\u001b[0m\u001b[0m\n\u001b[1;32m    699\u001b[0m     \u001b[0;31m# Find newlines and replace them with p.break_()\u001b[0m\u001b[0;34m\u001b[0m\u001b[0;34m\u001b[0m\u001b[0;34m\u001b[0m\u001b[0m\n\u001b[0;32m--> 700\u001b[0;31m     \u001b[0moutput\u001b[0m \u001b[0;34m=\u001b[0m \u001b[0mrepr\u001b[0m\u001b[0;34m(\u001b[0m\u001b[0mobj\u001b[0m\u001b[0;34m)\u001b[0m\u001b[0;34m\u001b[0m\u001b[0;34m\u001b[0m\u001b[0m\n\u001b[0m\u001b[1;32m    701\u001b[0m     \u001b[0mlines\u001b[0m \u001b[0;34m=\u001b[0m \u001b[0moutput\u001b[0m\u001b[0;34m.\u001b[0m\u001b[0msplitlines\u001b[0m\u001b[0;34m(\u001b[0m\u001b[0;34m)\u001b[0m\u001b[0;34m\u001b[0m\u001b[0;34m\u001b[0m\u001b[0m\n\u001b[1;32m    702\u001b[0m     \u001b[0;32mwith\u001b[0m \u001b[0mp\u001b[0m\u001b[0;34m.\u001b[0m\u001b[0mgroup\u001b[0m\u001b[0;34m(\u001b[0m\u001b[0;34m)\u001b[0m\u001b[0;34m:\u001b[0m\u001b[0;34m\u001b[0m\u001b[0;34m\u001b[0m\u001b[0m\n",
      "\u001b[0;32m~/anaconda3/lib/python3.8/site-packages/pandas/core/series.py\u001b[0m in \u001b[0;36m__repr__\u001b[0;34m(self)\u001b[0m\n\u001b[1;32m   1463\u001b[0m         \u001b[0mshow_dimensions\u001b[0m \u001b[0;34m=\u001b[0m \u001b[0mget_option\u001b[0m\u001b[0;34m(\u001b[0m\u001b[0;34m\"display.show_dimensions\"\u001b[0m\u001b[0;34m)\u001b[0m\u001b[0;34m\u001b[0m\u001b[0;34m\u001b[0m\u001b[0m\n\u001b[1;32m   1464\u001b[0m \u001b[0;34m\u001b[0m\u001b[0m\n\u001b[0;32m-> 1465\u001b[0;31m         self.to_string(\n\u001b[0m\u001b[1;32m   1466\u001b[0m             \u001b[0mbuf\u001b[0m\u001b[0;34m=\u001b[0m\u001b[0mbuf\u001b[0m\u001b[0;34m,\u001b[0m\u001b[0;34m\u001b[0m\u001b[0;34m\u001b[0m\u001b[0m\n\u001b[1;32m   1467\u001b[0m             \u001b[0mname\u001b[0m\u001b[0;34m=\u001b[0m\u001b[0mself\u001b[0m\u001b[0;34m.\u001b[0m\u001b[0mname\u001b[0m\u001b[0;34m,\u001b[0m\u001b[0;34m\u001b[0m\u001b[0;34m\u001b[0m\u001b[0m\n",
      "\u001b[0;32m~/anaconda3/lib/python3.8/site-packages/pandas/core/series.py\u001b[0m in \u001b[0;36mto_string\u001b[0;34m(self, buf, na_rep, float_format, header, index, length, dtype, name, max_rows, min_rows)\u001b[0m\n\u001b[1;32m   1532\u001b[0m             \u001b[0mmax_rows\u001b[0m\u001b[0;34m=\u001b[0m\u001b[0mmax_rows\u001b[0m\u001b[0;34m,\u001b[0m\u001b[0;34m\u001b[0m\u001b[0;34m\u001b[0m\u001b[0m\n\u001b[1;32m   1533\u001b[0m         )\n\u001b[0;32m-> 1534\u001b[0;31m         \u001b[0mresult\u001b[0m \u001b[0;34m=\u001b[0m \u001b[0mformatter\u001b[0m\u001b[0;34m.\u001b[0m\u001b[0mto_string\u001b[0m\u001b[0;34m(\u001b[0m\u001b[0;34m)\u001b[0m\u001b[0;34m\u001b[0m\u001b[0;34m\u001b[0m\u001b[0m\n\u001b[0m\u001b[1;32m   1535\u001b[0m \u001b[0;34m\u001b[0m\u001b[0m\n\u001b[1;32m   1536\u001b[0m         \u001b[0;31m# catch contract violations\u001b[0m\u001b[0;34m\u001b[0m\u001b[0;34m\u001b[0m\u001b[0;34m\u001b[0m\u001b[0m\n",
      "\u001b[0;32m~/anaconda3/lib/python3.8/site-packages/pandas/io/formats/format.py\u001b[0m in \u001b[0;36mto_string\u001b[0;34m(self)\u001b[0m\n\u001b[1;32m    389\u001b[0m \u001b[0;34m\u001b[0m\u001b[0m\n\u001b[1;32m    390\u001b[0m         \u001b[0mfmt_index\u001b[0m\u001b[0;34m,\u001b[0m \u001b[0mhave_header\u001b[0m \u001b[0;34m=\u001b[0m \u001b[0mself\u001b[0m\u001b[0;34m.\u001b[0m\u001b[0m_get_formatted_index\u001b[0m\u001b[0;34m(\u001b[0m\u001b[0;34m)\u001b[0m\u001b[0;34m\u001b[0m\u001b[0;34m\u001b[0m\u001b[0m\n\u001b[0;32m--> 391\u001b[0;31m         \u001b[0mfmt_values\u001b[0m \u001b[0;34m=\u001b[0m \u001b[0mself\u001b[0m\u001b[0;34m.\u001b[0m\u001b[0m_get_formatted_values\u001b[0m\u001b[0;34m(\u001b[0m\u001b[0;34m)\u001b[0m\u001b[0;34m\u001b[0m\u001b[0;34m\u001b[0m\u001b[0m\n\u001b[0m\u001b[1;32m    392\u001b[0m \u001b[0;34m\u001b[0m\u001b[0m\n\u001b[1;32m    393\u001b[0m         \u001b[0;32mif\u001b[0m \u001b[0mself\u001b[0m\u001b[0;34m.\u001b[0m\u001b[0mis_truncated_vertically\u001b[0m\u001b[0;34m:\u001b[0m\u001b[0;34m\u001b[0m\u001b[0;34m\u001b[0m\u001b[0m\n",
      "\u001b[0;32m~/anaconda3/lib/python3.8/site-packages/pandas/io/formats/format.py\u001b[0m in \u001b[0;36m_get_formatted_values\u001b[0;34m(self)\u001b[0m\n\u001b[1;32m    373\u001b[0m \u001b[0;34m\u001b[0m\u001b[0m\n\u001b[1;32m    374\u001b[0m     \u001b[0;32mdef\u001b[0m \u001b[0m_get_formatted_values\u001b[0m\u001b[0;34m(\u001b[0m\u001b[0mself\u001b[0m\u001b[0;34m)\u001b[0m \u001b[0;34m->\u001b[0m \u001b[0mlist\u001b[0m\u001b[0;34m[\u001b[0m\u001b[0mstr\u001b[0m\u001b[0;34m]\u001b[0m\u001b[0;34m:\u001b[0m\u001b[0;34m\u001b[0m\u001b[0;34m\u001b[0m\u001b[0m\n\u001b[0;32m--> 375\u001b[0;31m         return format_array(\n\u001b[0m\u001b[1;32m    376\u001b[0m             \u001b[0mself\u001b[0m\u001b[0;34m.\u001b[0m\u001b[0mtr_series\u001b[0m\u001b[0;34m.\u001b[0m\u001b[0m_values\u001b[0m\u001b[0;34m,\u001b[0m\u001b[0;34m\u001b[0m\u001b[0;34m\u001b[0m\u001b[0m\n\u001b[1;32m    377\u001b[0m             \u001b[0;32mNone\u001b[0m\u001b[0;34m,\u001b[0m\u001b[0;34m\u001b[0m\u001b[0;34m\u001b[0m\u001b[0m\n",
      "\u001b[0;32m~/anaconda3/lib/python3.8/site-packages/pandas/io/formats/format.py\u001b[0m in \u001b[0;36mformat_array\u001b[0;34m(values, formatter, float_format, na_rep, digits, space, justify, decimal, leading_space, quoting)\u001b[0m\n\u001b[1;32m   1238\u001b[0m     )\n\u001b[1;32m   1239\u001b[0m \u001b[0;34m\u001b[0m\u001b[0m\n\u001b[0;32m-> 1240\u001b[0;31m     \u001b[0;32mreturn\u001b[0m \u001b[0mfmt_obj\u001b[0m\u001b[0;34m.\u001b[0m\u001b[0mget_result\u001b[0m\u001b[0;34m(\u001b[0m\u001b[0;34m)\u001b[0m\u001b[0;34m\u001b[0m\u001b[0;34m\u001b[0m\u001b[0m\n\u001b[0m\u001b[1;32m   1241\u001b[0m \u001b[0;34m\u001b[0m\u001b[0m\n\u001b[1;32m   1242\u001b[0m \u001b[0;34m\u001b[0m\u001b[0m\n",
      "\u001b[0;32m~/anaconda3/lib/python3.8/site-packages/pandas/io/formats/format.py\u001b[0m in \u001b[0;36mget_result\u001b[0;34m(self)\u001b[0m\n\u001b[1;32m   1269\u001b[0m \u001b[0;34m\u001b[0m\u001b[0m\n\u001b[1;32m   1270\u001b[0m     \u001b[0;32mdef\u001b[0m \u001b[0mget_result\u001b[0m\u001b[0;34m(\u001b[0m\u001b[0mself\u001b[0m\u001b[0;34m)\u001b[0m \u001b[0;34m->\u001b[0m \u001b[0mlist\u001b[0m\u001b[0;34m[\u001b[0m\u001b[0mstr\u001b[0m\u001b[0;34m]\u001b[0m\u001b[0;34m:\u001b[0m\u001b[0;34m\u001b[0m\u001b[0;34m\u001b[0m\u001b[0m\n\u001b[0;32m-> 1271\u001b[0;31m         \u001b[0mfmt_values\u001b[0m \u001b[0;34m=\u001b[0m \u001b[0mself\u001b[0m\u001b[0;34m.\u001b[0m\u001b[0m_format_strings\u001b[0m\u001b[0;34m(\u001b[0m\u001b[0;34m)\u001b[0m\u001b[0;34m\u001b[0m\u001b[0;34m\u001b[0m\u001b[0m\n\u001b[0m\u001b[1;32m   1272\u001b[0m         \u001b[0;32mreturn\u001b[0m \u001b[0m_make_fixed_width\u001b[0m\u001b[0;34m(\u001b[0m\u001b[0mfmt_values\u001b[0m\u001b[0;34m,\u001b[0m \u001b[0mself\u001b[0m\u001b[0;34m.\u001b[0m\u001b[0mjustify\u001b[0m\u001b[0;34m)\u001b[0m\u001b[0;34m\u001b[0m\u001b[0;34m\u001b[0m\u001b[0m\n\u001b[1;32m   1273\u001b[0m \u001b[0;34m\u001b[0m\u001b[0m\n",
      "\u001b[0;32m~/anaconda3/lib/python3.8/site-packages/pandas/io/formats/format.py\u001b[0m in \u001b[0;36m_format_strings\u001b[0;34m(self)\u001b[0m\n\u001b[1;32m   1574\u001b[0m             \u001b[0marray\u001b[0m \u001b[0;34m=\u001b[0m \u001b[0mnp\u001b[0m\u001b[0;34m.\u001b[0m\u001b[0masarray\u001b[0m\u001b[0;34m(\u001b[0m\u001b[0mvalues\u001b[0m\u001b[0;34m)\u001b[0m\u001b[0;34m\u001b[0m\u001b[0;34m\u001b[0m\u001b[0m\n\u001b[1;32m   1575\u001b[0m \u001b[0;34m\u001b[0m\u001b[0m\n\u001b[0;32m-> 1576\u001b[0;31m         fmt_values = format_array(\n\u001b[0m\u001b[1;32m   1577\u001b[0m             \u001b[0marray\u001b[0m\u001b[0;34m,\u001b[0m\u001b[0;34m\u001b[0m\u001b[0;34m\u001b[0m\u001b[0m\n\u001b[1;32m   1578\u001b[0m             \u001b[0mformatter\u001b[0m\u001b[0;34m,\u001b[0m\u001b[0;34m\u001b[0m\u001b[0;34m\u001b[0m\u001b[0m\n",
      "\u001b[0;32m~/anaconda3/lib/python3.8/site-packages/pandas/io/formats/format.py\u001b[0m in \u001b[0;36mformat_array\u001b[0;34m(values, formatter, float_format, na_rep, digits, space, justify, decimal, leading_space, quoting)\u001b[0m\n\u001b[1;32m   1238\u001b[0m     )\n\u001b[1;32m   1239\u001b[0m \u001b[0;34m\u001b[0m\u001b[0m\n\u001b[0;32m-> 1240\u001b[0;31m     \u001b[0;32mreturn\u001b[0m \u001b[0mfmt_obj\u001b[0m\u001b[0;34m.\u001b[0m\u001b[0mget_result\u001b[0m\u001b[0;34m(\u001b[0m\u001b[0;34m)\u001b[0m\u001b[0;34m\u001b[0m\u001b[0;34m\u001b[0m\u001b[0m\n\u001b[0m\u001b[1;32m   1241\u001b[0m \u001b[0;34m\u001b[0m\u001b[0m\n\u001b[1;32m   1242\u001b[0m \u001b[0;34m\u001b[0m\u001b[0m\n",
      "\u001b[0;32m~/anaconda3/lib/python3.8/site-packages/pandas/io/formats/format.py\u001b[0m in \u001b[0;36mget_result\u001b[0;34m(self)\u001b[0m\n\u001b[1;32m   1269\u001b[0m \u001b[0;34m\u001b[0m\u001b[0m\n\u001b[1;32m   1270\u001b[0m     \u001b[0;32mdef\u001b[0m \u001b[0mget_result\u001b[0m\u001b[0;34m(\u001b[0m\u001b[0mself\u001b[0m\u001b[0;34m)\u001b[0m \u001b[0;34m->\u001b[0m \u001b[0mlist\u001b[0m\u001b[0;34m[\u001b[0m\u001b[0mstr\u001b[0m\u001b[0;34m]\u001b[0m\u001b[0;34m:\u001b[0m\u001b[0;34m\u001b[0m\u001b[0;34m\u001b[0m\u001b[0m\n\u001b[0;32m-> 1271\u001b[0;31m         \u001b[0mfmt_values\u001b[0m \u001b[0;34m=\u001b[0m \u001b[0mself\u001b[0m\u001b[0;34m.\u001b[0m\u001b[0m_format_strings\u001b[0m\u001b[0;34m(\u001b[0m\u001b[0;34m)\u001b[0m\u001b[0;34m\u001b[0m\u001b[0;34m\u001b[0m\u001b[0m\n\u001b[0m\u001b[1;32m   1272\u001b[0m         \u001b[0;32mreturn\u001b[0m \u001b[0m_make_fixed_width\u001b[0m\u001b[0;34m(\u001b[0m\u001b[0mfmt_values\u001b[0m\u001b[0;34m,\u001b[0m \u001b[0mself\u001b[0m\u001b[0;34m.\u001b[0m\u001b[0mjustify\u001b[0m\u001b[0;34m)\u001b[0m\u001b[0;34m\u001b[0m\u001b[0;34m\u001b[0m\u001b[0m\n\u001b[1;32m   1273\u001b[0m \u001b[0;34m\u001b[0m\u001b[0m\n",
      "\u001b[0;32m~/anaconda3/lib/python3.8/site-packages/pandas/io/formats/format.py\u001b[0m in \u001b[0;36m_format_strings\u001b[0;34m(self)\u001b[0m\n\u001b[1;32m   1332\u001b[0m         \u001b[0;32mfor\u001b[0m \u001b[0mi\u001b[0m\u001b[0;34m,\u001b[0m \u001b[0mv\u001b[0m \u001b[0;32min\u001b[0m \u001b[0menumerate\u001b[0m\u001b[0;34m(\u001b[0m\u001b[0mvals\u001b[0m\u001b[0;34m)\u001b[0m\u001b[0;34m:\u001b[0m\u001b[0;34m\u001b[0m\u001b[0;34m\u001b[0m\u001b[0m\n\u001b[1;32m   1333\u001b[0m             \u001b[0;32mif\u001b[0m \u001b[0;32mnot\u001b[0m \u001b[0mis_float_type\u001b[0m\u001b[0;34m[\u001b[0m\u001b[0mi\u001b[0m\u001b[0;34m]\u001b[0m \u001b[0;32mand\u001b[0m \u001b[0mleading_space\u001b[0m\u001b[0;34m:\u001b[0m\u001b[0;34m\u001b[0m\u001b[0;34m\u001b[0m\u001b[0m\n\u001b[0;32m-> 1334\u001b[0;31m                 \u001b[0mfmt_values\u001b[0m\u001b[0;34m.\u001b[0m\u001b[0mappend\u001b[0m\u001b[0;34m(\u001b[0m\u001b[0;34mf\" {_format(v)}\"\u001b[0m\u001b[0;34m)\u001b[0m\u001b[0;34m\u001b[0m\u001b[0;34m\u001b[0m\u001b[0m\n\u001b[0m\u001b[1;32m   1335\u001b[0m             \u001b[0;32melif\u001b[0m \u001b[0mis_float_type\u001b[0m\u001b[0;34m[\u001b[0m\u001b[0mi\u001b[0m\u001b[0;34m]\u001b[0m\u001b[0;34m:\u001b[0m\u001b[0;34m\u001b[0m\u001b[0;34m\u001b[0m\u001b[0m\n\u001b[1;32m   1336\u001b[0m                 \u001b[0mfmt_values\u001b[0m\u001b[0;34m.\u001b[0m\u001b[0mappend\u001b[0m\u001b[0;34m(\u001b[0m\u001b[0mfloat_format\u001b[0m\u001b[0;34m(\u001b[0m\u001b[0mv\u001b[0m\u001b[0;34m)\u001b[0m\u001b[0;34m)\u001b[0m\u001b[0;34m\u001b[0m\u001b[0;34m\u001b[0m\u001b[0m\n",
      "\u001b[0;32m~/anaconda3/lib/python3.8/site-packages/pandas/io/formats/format.py\u001b[0m in \u001b[0;36m_format\u001b[0;34m(x)\u001b[0m\n\u001b[1;32m   1312\u001b[0m             \u001b[0;32melse\u001b[0m\u001b[0;34m:\u001b[0m\u001b[0;34m\u001b[0m\u001b[0;34m\u001b[0m\u001b[0m\n\u001b[1;32m   1313\u001b[0m                 \u001b[0;31m# object dtype\u001b[0m\u001b[0;34m\u001b[0m\u001b[0;34m\u001b[0m\u001b[0;34m\u001b[0m\u001b[0m\n\u001b[0;32m-> 1314\u001b[0;31m                 \u001b[0;32mreturn\u001b[0m \u001b[0mstr\u001b[0m\u001b[0;34m(\u001b[0m\u001b[0mformatter\u001b[0m\u001b[0;34m(\u001b[0m\u001b[0mx\u001b[0m\u001b[0;34m)\u001b[0m\u001b[0;34m)\u001b[0m\u001b[0;34m\u001b[0m\u001b[0;34m\u001b[0m\u001b[0m\n\u001b[0m\u001b[1;32m   1315\u001b[0m \u001b[0;34m\u001b[0m\u001b[0m\n\u001b[1;32m   1316\u001b[0m         \u001b[0mvals\u001b[0m \u001b[0;34m=\u001b[0m \u001b[0mextract_array\u001b[0m\u001b[0;34m(\u001b[0m\u001b[0mself\u001b[0m\u001b[0;34m.\u001b[0m\u001b[0mvalues\u001b[0m\u001b[0;34m,\u001b[0m \u001b[0mextract_numpy\u001b[0m\u001b[0;34m=\u001b[0m\u001b[0;32mTrue\u001b[0m\u001b[0;34m)\u001b[0m\u001b[0;34m\u001b[0m\u001b[0;34m\u001b[0m\u001b[0m\n",
      "\u001b[0;32m~/anaconda3/lib/python3.8/site-packages/geopandas/array.py\u001b[0m in \u001b[0;36m<lambda>\u001b[0;34m(geom)\u001b[0m\n",
      "\u001b[0;32m~/anaconda3/lib/python3.8/site-packages/shapely/wkt.py\u001b[0m in \u001b[0;36mdumps\u001b[0;34m(ob, trim, **kw)\u001b[0m\n\u001b[1;32m     60\u001b[0m     \u001b[0minput\u001b[0m \u001b[0mgeometry\u001b[0m \u001b[0;32mas\u001b[0m \u001b[0mWKT\u001b[0m \u001b[0mstring\u001b[0m\u001b[0;34m\u001b[0m\u001b[0;34m\u001b[0m\u001b[0m\n\u001b[1;32m     61\u001b[0m     \"\"\"\n\u001b[0;32m---> 62\u001b[0;31m     \u001b[0;32mreturn\u001b[0m \u001b[0mgeos\u001b[0m\u001b[0;34m.\u001b[0m\u001b[0mWKTWriter\u001b[0m\u001b[0;34m(\u001b[0m\u001b[0mgeos\u001b[0m\u001b[0;34m.\u001b[0m\u001b[0mlgeos\u001b[0m\u001b[0;34m,\u001b[0m \u001b[0mtrim\u001b[0m\u001b[0;34m=\u001b[0m\u001b[0mtrim\u001b[0m\u001b[0;34m,\u001b[0m \u001b[0;34m**\u001b[0m\u001b[0mkw\u001b[0m\u001b[0;34m)\u001b[0m\u001b[0;34m.\u001b[0m\u001b[0mwrite\u001b[0m\u001b[0;34m(\u001b[0m\u001b[0mob\u001b[0m\u001b[0;34m)\u001b[0m\u001b[0;34m\u001b[0m\u001b[0;34m\u001b[0m\u001b[0m\n\u001b[0m\u001b[1;32m     63\u001b[0m \u001b[0;34m\u001b[0m\u001b[0m\n\u001b[1;32m     64\u001b[0m \u001b[0;34m\u001b[0m\u001b[0m\n",
      "\u001b[0;32m~/anaconda3/lib/python3.8/site-packages/shapely/geos.py\u001b[0m in \u001b[0;36mwrite\u001b[0;34m(self, geom)\u001b[0m\n\u001b[1;32m    396\u001b[0m         \u001b[0;34m\"\"\"Returns WKT string for geometry\"\"\"\u001b[0m\u001b[0;34m\u001b[0m\u001b[0;34m\u001b[0m\u001b[0m\n\u001b[1;32m    397\u001b[0m         \u001b[0;32mif\u001b[0m \u001b[0mgeom\u001b[0m \u001b[0;32mis\u001b[0m \u001b[0;32mNone\u001b[0m \u001b[0;32mor\u001b[0m \u001b[0mgeom\u001b[0m\u001b[0;34m.\u001b[0m\u001b[0m_geom\u001b[0m \u001b[0;32mis\u001b[0m \u001b[0;32mNone\u001b[0m\u001b[0;34m:\u001b[0m\u001b[0;34m\u001b[0m\u001b[0;34m\u001b[0m\u001b[0m\n\u001b[0;32m--> 398\u001b[0;31m             \u001b[0;32mraise\u001b[0m \u001b[0mValueError\u001b[0m\u001b[0;34m(\u001b[0m\u001b[0;34m\"Null geometry supports no operations\"\u001b[0m\u001b[0;34m)\u001b[0m\u001b[0;34m\u001b[0m\u001b[0;34m\u001b[0m\u001b[0m\n\u001b[0m\u001b[1;32m    399\u001b[0m         \u001b[0mresult\u001b[0m \u001b[0;34m=\u001b[0m \u001b[0mself\u001b[0m\u001b[0;34m.\u001b[0m\u001b[0m_lgeos\u001b[0m\u001b[0;34m.\u001b[0m\u001b[0mGEOSWKTWriter_write\u001b[0m\u001b[0;34m(\u001b[0m\u001b[0mself\u001b[0m\u001b[0;34m.\u001b[0m\u001b[0m_writer\u001b[0m\u001b[0;34m,\u001b[0m \u001b[0mgeom\u001b[0m\u001b[0;34m.\u001b[0m\u001b[0m_geom\u001b[0m\u001b[0;34m)\u001b[0m\u001b[0;34m\u001b[0m\u001b[0;34m\u001b[0m\u001b[0m\n\u001b[1;32m    400\u001b[0m         \u001b[0mtext\u001b[0m \u001b[0;34m=\u001b[0m \u001b[0mstring_at\u001b[0m\u001b[0;34m(\u001b[0m\u001b[0mresult\u001b[0m\u001b[0;34m)\u001b[0m\u001b[0;34m\u001b[0m\u001b[0;34m\u001b[0m\u001b[0m\n",
      "\u001b[0;31mValueError\u001b[0m: Null geometry supports no operations"
     ]
    }
   ],
   "source": [
    "conf_area_series"
   ]
  },
  {
   "cell_type": "code",
   "execution_count": 202,
   "id": "89dec6eb-3c6d-4f08-9fee-24bab495baca",
   "metadata": {},
   "outputs": [],
   "source": [
    "import folium\n",
    "from folium.plugins import HeatMap"
   ]
  },
  {
   "cell_type": "code",
   "execution_count": 209,
   "id": "757b072c-214d-480e-a9d5-ef05b71801c1",
   "metadata": {},
   "outputs": [
    {
     "data": {
      "text/html": [
       "<div style=\"width:100%;\"><div style=\"position:relative;width:100%;height:0;padding-bottom:60%;\"><span style=\"color:#565656\">Make this Notebook Trusted to load map: File -> Trust Notebook</span><iframe src=\"about:blank\" style=\"position:absolute;width:100%;height:100%;left:0;top:0;border:none !important;\" data-html=%3C%21DOCTYPE%20html%3E%0A%3Chead%3E%20%20%20%20%0A%20%20%20%20%3Cmeta%20http-equiv%3D%22content-type%22%20content%3D%22text/html%3B%20charset%3DUTF-8%22%20/%3E%0A%20%20%20%20%0A%20%20%20%20%20%20%20%20%3Cscript%3E%0A%20%20%20%20%20%20%20%20%20%20%20%20L_NO_TOUCH%20%3D%20false%3B%0A%20%20%20%20%20%20%20%20%20%20%20%20L_DISABLE_3D%20%3D%20false%3B%0A%20%20%20%20%20%20%20%20%3C/script%3E%0A%20%20%20%20%0A%20%20%20%20%3Cstyle%3Ehtml%2C%20body%20%7Bwidth%3A%20100%25%3Bheight%3A%20100%25%3Bmargin%3A%200%3Bpadding%3A%200%3B%7D%3C/style%3E%0A%20%20%20%20%3Cstyle%3E%23map%20%7Bposition%3Aabsolute%3Btop%3A0%3Bbottom%3A0%3Bright%3A0%3Bleft%3A0%3B%7D%3C/style%3E%0A%20%20%20%20%3Cscript%20src%3D%22https%3A//cdn.jsdelivr.net/npm/leaflet%401.6.0/dist/leaflet.js%22%3E%3C/script%3E%0A%20%20%20%20%3Cscript%20src%3D%22https%3A//code.jquery.com/jquery-1.12.4.min.js%22%3E%3C/script%3E%0A%20%20%20%20%3Cscript%20src%3D%22https%3A//maxcdn.bootstrapcdn.com/bootstrap/3.2.0/js/bootstrap.min.js%22%3E%3C/script%3E%0A%20%20%20%20%3Cscript%20src%3D%22https%3A//cdnjs.cloudflare.com/ajax/libs/Leaflet.awesome-markers/2.0.2/leaflet.awesome-markers.js%22%3E%3C/script%3E%0A%20%20%20%20%3Clink%20rel%3D%22stylesheet%22%20href%3D%22https%3A//cdn.jsdelivr.net/npm/leaflet%401.6.0/dist/leaflet.css%22/%3E%0A%20%20%20%20%3Clink%20rel%3D%22stylesheet%22%20href%3D%22https%3A//maxcdn.bootstrapcdn.com/bootstrap/3.2.0/css/bootstrap.min.css%22/%3E%0A%20%20%20%20%3Clink%20rel%3D%22stylesheet%22%20href%3D%22https%3A//maxcdn.bootstrapcdn.com/bootstrap/3.2.0/css/bootstrap-theme.min.css%22/%3E%0A%20%20%20%20%3Clink%20rel%3D%22stylesheet%22%20href%3D%22https%3A//maxcdn.bootstrapcdn.com/font-awesome/4.6.3/css/font-awesome.min.css%22/%3E%0A%20%20%20%20%3Clink%20rel%3D%22stylesheet%22%20href%3D%22https%3A//cdnjs.cloudflare.com/ajax/libs/Leaflet.awesome-markers/2.0.2/leaflet.awesome-markers.css%22/%3E%0A%20%20%20%20%3Clink%20rel%3D%22stylesheet%22%20href%3D%22https%3A//cdn.jsdelivr.net/gh/python-visualization/folium/folium/templates/leaflet.awesome.rotate.min.css%22/%3E%0A%20%20%20%20%0A%20%20%20%20%20%20%20%20%20%20%20%20%3Cmeta%20name%3D%22viewport%22%20content%3D%22width%3Ddevice-width%2C%0A%20%20%20%20%20%20%20%20%20%20%20%20%20%20%20%20initial-scale%3D1.0%2C%20maximum-scale%3D1.0%2C%20user-scalable%3Dno%22%20/%3E%0A%20%20%20%20%20%20%20%20%20%20%20%20%3Cstyle%3E%0A%20%20%20%20%20%20%20%20%20%20%20%20%20%20%20%20%23map_69ed1ba3212d4b2fb2b9fdafba916b96%20%7B%0A%20%20%20%20%20%20%20%20%20%20%20%20%20%20%20%20%20%20%20%20position%3A%20relative%3B%0A%20%20%20%20%20%20%20%20%20%20%20%20%20%20%20%20%20%20%20%20width%3A%20100.0%25%3B%0A%20%20%20%20%20%20%20%20%20%20%20%20%20%20%20%20%20%20%20%20height%3A%20100.0%25%3B%0A%20%20%20%20%20%20%20%20%20%20%20%20%20%20%20%20%20%20%20%20left%3A%200.0%25%3B%0A%20%20%20%20%20%20%20%20%20%20%20%20%20%20%20%20%20%20%20%20top%3A%200.0%25%3B%0A%20%20%20%20%20%20%20%20%20%20%20%20%20%20%20%20%7D%0A%20%20%20%20%20%20%20%20%20%20%20%20%3C/style%3E%0A%20%20%20%20%20%20%20%20%0A%20%20%20%20%3Cscript%20src%3D%22https%3A//cdn.jsdelivr.net/gh/python-visualization/folium%40master/folium/templates/leaflet_heat.min.js%22%3E%3C/script%3E%0A%3C/head%3E%0A%3Cbody%3E%20%20%20%20%0A%20%20%20%20%0A%20%20%20%20%20%20%20%20%20%20%20%20%3Cdiv%20class%3D%22folium-map%22%20id%3D%22map_69ed1ba3212d4b2fb2b9fdafba916b96%22%20%3E%3C/div%3E%0A%20%20%20%20%20%20%20%20%0A%3C/body%3E%0A%3Cscript%3E%20%20%20%20%0A%20%20%20%20%0A%20%20%20%20%20%20%20%20%20%20%20%20var%20map_69ed1ba3212d4b2fb2b9fdafba916b96%20%3D%20L.map%28%0A%20%20%20%20%20%20%20%20%20%20%20%20%20%20%20%20%22map_69ed1ba3212d4b2fb2b9fdafba916b96%22%2C%0A%20%20%20%20%20%20%20%20%20%20%20%20%20%20%20%20%7B%0A%20%20%20%20%20%20%20%20%20%20%20%20%20%20%20%20%20%20%20%20center%3A%20%5B0%2C%200%5D%2C%0A%20%20%20%20%20%20%20%20%20%20%20%20%20%20%20%20%20%20%20%20crs%3A%20L.CRS.EPSG3857%2C%0A%20%20%20%20%20%20%20%20%20%20%20%20%20%20%20%20%20%20%20%20zoom%3A%201%2C%0A%20%20%20%20%20%20%20%20%20%20%20%20%20%20%20%20%20%20%20%20zoomControl%3A%20true%2C%0A%20%20%20%20%20%20%20%20%20%20%20%20%20%20%20%20%20%20%20%20preferCanvas%3A%20false%2C%0A%20%20%20%20%20%20%20%20%20%20%20%20%20%20%20%20%7D%0A%20%20%20%20%20%20%20%20%20%20%20%20%29%3B%0A%0A%20%20%20%20%20%20%20%20%20%20%20%20%0A%0A%20%20%20%20%20%20%20%20%0A%20%20%20%20%0A%20%20%20%20%20%20%20%20%20%20%20%20var%20tile_layer_4c84aa6c80604fa2b5cb08d494b4bd67%20%3D%20L.tileLayer%28%0A%20%20%20%20%20%20%20%20%20%20%20%20%20%20%20%20%22https%3A//stamen-tiles-%7Bs%7D.a.ssl.fastly.net/toner/%7Bz%7D/%7Bx%7D/%7By%7D.png%22%2C%0A%20%20%20%20%20%20%20%20%20%20%20%20%20%20%20%20%7B%22attribution%22%3A%20%22Map%20tiles%20by%20%5Cu003ca%20href%3D%5C%22http%3A//stamen.com%5C%22%5Cu003eStamen%20Design%5Cu003c/a%5Cu003e%2C%20under%20%5Cu003ca%20href%3D%5C%22http%3A//creativecommons.org/licenses/by/3.0%5C%22%5Cu003eCC%20BY%203.0%5Cu003c/a%5Cu003e.%20Data%20by%20%5Cu0026copy%3B%20%5Cu003ca%20href%3D%5C%22http%3A//openstreetmap.org%5C%22%5Cu003eOpenStreetMap%5Cu003c/a%5Cu003e%2C%20under%20%5Cu003ca%20href%3D%5C%22http%3A//www.openstreetmap.org/copyright%5C%22%5Cu003eODbL%5Cu003c/a%5Cu003e.%22%2C%20%22detectRetina%22%3A%20false%2C%20%22maxNativeZoom%22%3A%2018%2C%20%22maxZoom%22%3A%2018%2C%20%22minZoom%22%3A%200%2C%20%22noWrap%22%3A%20false%2C%20%22opacity%22%3A%201%2C%20%22subdomains%22%3A%20%22abc%22%2C%20%22tms%22%3A%20false%7D%0A%20%20%20%20%20%20%20%20%20%20%20%20%29.addTo%28map_69ed1ba3212d4b2fb2b9fdafba916b96%29%3B%0A%20%20%20%20%20%20%20%20%0A%20%20%20%20%0A%20%20%20%20%20%20%20%20%20%20%20%20var%20heat_map_c4acff3e12584016b4f633646d59d771%20%3D%20L.heatLayer%28%0A%20%20%20%20%20%20%20%20%20%20%20%20%20%20%20%20%5B%5B38.03173065185547%2C%2030.751325607299805%5D%2C%20%5B38.13059997558594%2C%2030.82761573791504%5D%2C%20%5B38.151451110839844%2C%2030.872194290161133%5D%2C%20%5B38.11997985839844%2C%2030.72797966003418%5D%2C%20%5B38.04961395263672%2C%2030.712514877319336%5D%2C%20%5B38.06223678588867%2C%2030.80500602722168%5D%2C%20%5B38.155860900878906%2C%2030.807401657104492%5D%2C%20%5B38.14910888671875%2C%2030.874311447143555%5D%2C%20%5B38.1728515625%2C%2030.8851375579834%5D%2C%20%5B38.17972183227539%2C%2030.898452758789062%5D%2C%20%5B38.28463363647461%2C%2030.92525291442871%5D%2C%20%5B38.09343719482422%2C%2030.59865379333496%5D%2C%20%5B38.04362487792969%2C%2030.54842185974121%5D%2C%20%5B38.09866714477539%2C%2030.797998428344727%5D%2C%20%5B38.089317321777344%2C%2030.821630477905273%5D%2C%20%5B38.23689270019531%2C%2031.057035446166992%5D%2C%20%5B38.14801025390625%2C%2030.66437339782715%5D%2C%20%5B38.195526123046875%2C%2030.890066146850586%5D%2C%20%5B38.1522331237793%2C%2030.547033309936523%5D%2C%20%5B38.1083869934082%2C%2030.854419708251953%5D%2C%20%5B38.17972183227539%2C%2030.898452758789062%5D%2C%20%5B38.143310546875%2C%2030.802461624145508%5D%2C%20%5B37.90470504760742%2C%2030.982479095458984%5D%2C%20%5B37.92201614379883%2C%2031.061126708984375%5D%2C%20%5B37.944801330566406%2C%2031.037168502807617%5D%2C%20%5B38.0474853515625%2C%2030.7799015045166%5D%2C%20%5B38.141265869140625%2C%2030.840438842773438%5D%2C%20%5B38.050350189208984%2C%2030.726972579956055%5D%2C%20%5B38.181243896484375%2C%2030.784887313842773%5D%2C%20%5B38.10491180419922%2C%2030.546537399291992%5D%2C%20%5B38.08087921142578%2C%2030.785688400268555%5D%2C%20%5B38.162017822265625%2C%2030.875532150268555%5D%2C%20%5B38.13145065307617%2C%2030.832843780517578%5D%2C%20%5B38.157188415527344%2C%2030.877193450927734%5D%2C%20%5B38.05864715576172%2C%2030.763059616088867%5D%2C%20%5B38.04362487792969%2C%2030.54842185974121%5D%2C%20%5B37.84673309326172%2C%2030.87528419494629%5D%2C%20%5B38.17964172363281%2C%2030.886079788208008%5D%2C%20%5B38.14659881591797%2C%2030.865478515625%5D%2C%20%5B38.23862838745117%2C%2030.848371505737305%5D%2C%20%5B38.21289825439453%2C%2030.929170608520508%5D%2C%20%5B38.17407989501953%2C%2030.89341926574707%5D%2C%20%5B38.06254577636719%2C%2030.73550033569336%5D%2C%20%5B38.15910339355469%2C%2030.84092903137207%5D%2C%20%5B38.137447357177734%2C%2030.782258987426758%5D%2C%20%5B38.15521240234375%2C%2030.870267868041992%5D%2C%20%5B38.142059326171875%2C%2030.848154067993164%5D%2C%20%5B38.1785774230957%2C%2030.747007369995117%5D%2C%20%5B38.14659881591797%2C%2030.865478515625%5D%2C%20%5B38.10491180419922%2C%2030.546537399291992%5D%2C%20%5B38.22447967529297%2C%2031.016000747680664%5D%2C%20%5B38.125614166259766%2C%2030.667444229125977%5D%2C%20%5B38.044586181640625%2C%2030.742795944213867%5D%2C%20%5B38.08087921142578%2C%2030.785688400268555%5D%2C%20%5B38.098533630371094%2C%2030.782100677490234%5D%2C%20%5B38.145240783691406%2C%2030.885053634643555%5D%2C%20%5B38.124549865722656%2C%2030.828516006469727%5D%2C%20%5B38.122005462646484%2C%2030.87299156188965%5D%2C%20%5B38.104759216308594%2C%2030.80463981628418%5D%2C%20%5B38.12516403198242%2C%2030.829999923706055%5D%2C%20%5B38.119232177734375%2C%2030.85478401184082%5D%2C%20%5B38.1083869934082%2C%2030.854419708251953%5D%2C%20%5B38.13733673095703%2C%2030.684648513793945%5D%2C%20%5B38.047489166259766%2C%2030.64327621459961%5D%2C%20%5B38.189666748046875%2C%2030.89767837524414%5D%2C%20%5B38.038658142089844%2C%2030.6741886138916%5D%2C%20%5B38.11724090576172%2C%2030.826868057250977%5D%2C%20%5B38.151710510253906%2C%2030.85755729675293%5D%2C%20%5B38.13733673095703%2C%2030.684648513793945%5D%2C%20%5B38.27838134765625%2C%2030.762928009033203%5D%2C%20%5B38.164955139160156%2C%2030.835094451904297%5D%2C%20%5B38.27838134765625%2C%2030.762928009033203%5D%2C%20%5B38.19480895996094%2C%2030.95164680480957%5D%2C%20%5B38.14107131958008%2C%2030.77070426940918%5D%2C%20%5B38.018741607666016%2C%2030.707645416259766%5D%2C%20%5B38.10158157348633%2C%2030.777605056762695%5D%2C%20%5B38.08968734741211%2C%2030.754968643188477%5D%2C%20%5B38.10353088378906%2C%2030.658329010009766%5D%2C%20%5B38.12957000732422%2C%2030.508447647094727%5D%2C%20%5B38.145164489746094%2C%2030.875307083129883%5D%2C%20%5B38.067237854003906%2C%2030.768625259399414%5D%2C%20%5B38.157188415527344%2C%2030.877193450927734%5D%2C%20%5B38.06114196777344%2C%2030.567155838012695%5D%2C%20%5B37.82135772705078%2C%2030.6843204498291%5D%2C%20%5B38.1375846862793%2C%2030.83612632751465%5D%2C%20%5B38.13697052001953%2C%2031.025970458984375%5D%2C%20%5B38.189369201660156%2C%2030.92732048034668%5D%2C%20%5B38.08746337890625%2C%2031.115081787109375%5D%2C%20%5B37.784080505371094%2C%2030.651037216186523%5D%2C%20%5B38.15903854370117%2C%2030.84644889831543%5D%2C%20%5B37.94700622558594%2C%2030.743085861206055%5D%2C%20%5B38.181243896484375%2C%2030.784887313842773%5D%2C%20%5B37.95149230957031%2C%2030.758384704589844%5D%2C%20%5B38.207916259765625%2C%2030.907360076904297%5D%2C%20%5B37.985389709472656%2C%2030.710100173950195%5D%2C%20%5B37.93086242675781%2C%2030.55164909362793%5D%2C%20%5B38.079803466796875%2C%2030.510038375854492%5D%2C%20%5B38.133628845214844%2C%2030.66539192199707%5D%2C%20%5B38.18046951293945%2C%2030.767839431762695%5D%2C%20%5B38.124549865722656%2C%2030.828516006469727%5D%2C%20%5B37.99353790283203%2C%2030.462844848632812%5D%2C%20%5B38.13911437988281%2C%2030.845643997192383%5D%2C%20%5B38.15521240234375%2C%2030.870267868041992%5D%2C%20%5B38.102447509765625%2C%2030.767396926879883%5D%2C%20%5B37.91516876220703%2C%2030.528169631958008%5D%2C%20%5B38.04833984375%2C%2030.855520248413086%5D%2C%20%5B38.14068603515625%2C%2030.931753158569336%5D%2C%20%5B38.11292266845703%2C%2030.792949676513672%5D%2C%20%5B38.067237854003906%2C%2030.768625259399414%5D%2C%20%5B38.13059997558594%2C%2030.82761573791504%5D%2C%20%5B38.1639518737793%2C%2030.850059509277344%5D%2C%20%5B38.07084274291992%2C%2030.73750877380371%5D%2C%20%5B38.151710510253906%2C%2030.85755729675293%5D%2C%20%5B38.14659881591797%2C%2030.865478515625%5D%2C%20%5B38.172767639160156%2C%2030.872947692871094%5D%2C%20%5B38.1488037109375%2C%2030.82933235168457%5D%2C%20%5B38.02009582519531%2C%2030.716054916381836%5D%2C%20%5B38.131690979003906%2C%2030.612184524536133%5D%2C%20%5B38.0875129699707%2C%2030.751680374145508%5D%2C%20%5B38.06756591796875%2C%2030.605449676513672%5D%2C%20%5B38.072532653808594%2C%2030.923608779907227%5D%2C%20%5B37.92674255371094%2C%2030.754411697387695%5D%2C%20%5B38.17488098144531%2C%2030.890592575073242%5D%2C%20%5B38.017696380615234%2C%2030.79535675048828%5D%2C%20%5B38.05268478393555%2C%2030.72767448425293%5D%2C%20%5B37.93191146850586%2C%2030.91826820373535%5D%2C%20%5B38.11815643310547%2C%2030.812753677368164%5D%2C%20%5B38.14055633544922%2C%2030.84942054748535%5D%2C%20%5B38.096923828125%2C%2030.655736923217773%5D%2C%20%5B38.201072692871094%2C%2030.75423240661621%5D%2C%20%5B38.20095443725586%2C%2030.608720779418945%5D%2C%20%5B38.04362487792969%2C%2030.54842185974121%5D%2C%20%5B38.09095764160156%2C%2030.819711685180664%5D%2C%20%5B38.06492233276367%2C%2030.992544174194336%5D%2C%20%5B38.09343719482422%2C%2030.59865379333496%5D%2C%20%5B37.86420440673828%2C%2030.476476669311523%5D%2C%20%5B38.07612609863281%2C%2030.803640365600586%5D%2C%20%5B38.08381652832031%2C%2030.78354263305664%5D%2C%20%5B38.16046142578125%2C%2030.909645080566406%5D%2C%20%5B38.28515625%2C%2031.056055068969727%5D%2C%20%5B38.089752197265625%2C%2030.81110954284668%5D%2C%20%5B37.919891357421875%2C%2030.862451553344727%5D%2C%20%5B38.25758743286133%2C%2030.886777877807617%5D%2C%20%5B38.04362487792969%2C%2030.54842185974121%5D%2C%20%5B38.15412902832031%2C%2030.86006736755371%5D%2C%20%5B38.10337829589844%2C%2030.75458526611328%5D%2C%20%5B38.00374221801758%2C%2030.68931007385254%5D%2C%20%5B38.207916259765625%2C%2030.907360076904297%5D%2C%20%5B38.12208557128906%2C%2030.899534225463867%5D%2C%20%5B38.184288024902344%2C%2030.909608840942383%5D%2C%20%5B38.09038162231445%2C%2030.786897659301758%5D%2C%20%5B37.86934280395508%2C%2030.53265380859375%5D%2C%20%5B38.137569427490234%2C%2030.842130661010742%5D%2C%20%5B38.13114929199219%2C%2030.755590438842773%5D%2C%20%5B38.05268478393555%2C%2030.72767448425293%5D%2C%20%5B38.142059326171875%2C%2030.848154067993164%5D%2C%20%5B38.131690979003906%2C%2030.612184524536133%5D%2C%20%5B38.056793212890625%2C%2030.921279907226562%5D%2C%20%5B37.82135772705078%2C%2030.6843204498291%5D%2C%20%5B38.079734802246094%2C%2030.98423957824707%5D%2C%20%5B37.934967041015625%2C%2030.898258209228516%5D%2C%20%5B37.82135772705078%2C%2030.6843204498291%5D%2C%20%5B38.1688232421875%2C%2030.86600685119629%5D%2C%20%5B38.148529052734375%2C%2030.853208541870117%5D%2C%20%5B38.10158157348633%2C%2030.777605056762695%5D%2C%20%5B38.10651397705078%2C%2030.83008575439453%5D%2C%20%5B38.07209777832031%2C%2030.765329360961914%5D%2C%20%5B38.154380798339844%2C%2030.857318878173828%5D%2C%20%5B38.134361267089844%2C%2030.947195053100586%5D%2C%20%5B38.05614471435547%2C%2030.880308151245117%5D%2C%20%5B38.28515625%2C%2031.056055068969727%5D%2C%20%5B38.13114929199219%2C%2030.914474487304688%5D%2C%20%5B38.14667510986328%2C%2030.851747512817383%5D%2C%20%5B38.15564727783203%2C%2031.035993576049805%5D%2C%20%5B38.174781799316406%2C%2030.669898986816406%5D%2C%20%5B38.2241096496582%2C%2030.973295211791992%5D%2C%20%5B38.13059997558594%2C%2030.82761573791504%5D%2C%20%5B38.08003234863281%2C%2031.01692771911621%5D%2C%20%5B38.13732147216797%2C%2030.838197708129883%5D%2C%20%5B38.11334228515625%2C%2030.7686767578125%5D%2C%20%5B37.85607147216797%2C%2030.699872970581055%5D%2C%20%5B38.195526123046875%2C%2030.890066146850586%5D%2C%20%5B38.24674606323242%2C%2030.9852237701416%5D%2C%20%5B38.136741638183594%2C%2030.875967025756836%5D%2C%20%5B38.154579162597656%2C%2030.841373443603516%5D%2C%20%5B37.92596435546875%2C%2030.689533233642578%5D%2C%20%5B37.77976989746094%2C%2031.027875900268555%5D%2C%20%5B38.11213684082031%2C%2030.800874710083008%5D%2C%20%5B38.141578674316406%2C%2030.853229522705078%5D%2C%20%5B38.15748596191406%2C%2030.85696792602539%5D%2C%20%5B38.1607551574707%2C%2030.807180404663086%5D%2C%20%5B38.067237854003906%2C%2030.768625259399414%5D%2C%20%5B38.12297058105469%2C%2030.939165115356445%5D%2C%20%5B38.10209655761719%2C%2030.791715621948242%5D%2C%20%5B38.13468933105469%2C%2030.806137084960938%5D%2C%20%5B38.19793701171875%2C%2030.82939910888672%5D%2C%20%5B38.19048309326172%2C%2030.954116821289062%5D%2C%20%5B38.15353775024414%2C%2030.844884872436523%5D%2C%20%5B37.86717987060547%2C%2030.857080459594727%5D%2C%20%5B38.18932342529297%2C%2030.860694885253906%5D%2C%20%5B38.22447967529297%2C%2031.016000747680664%5D%2C%20%5B38.12208557128906%2C%2030.899534225463867%5D%2C%20%5B38.09217834472656%2C%2030.737287521362305%5D%2C%20%5B37.92375564575195%2C%2030.793107986450195%5D%2C%20%5B38.113197326660156%2C%2030.8070011138916%5D%2C%20%5B38.02009582519531%2C%2030.716054916381836%5D%2C%20%5B38.204246520996094%2C%2030.906591415405273%5D%2C%20%5B38.07859802246094%2C%2030.585660934448242%5D%2C%20%5B37.910953521728516%2C%2030.727571487426758%5D%2C%20%5B38.13114929199219%2C%2030.914474487304688%5D%2C%20%5B38.10008239746094%2C%2030.766613006591797%5D%2C%20%5B38.11213684082031%2C%2030.800874710083008%5D%2C%20%5B37.92596435546875%2C%2030.689533233642578%5D%2C%20%5B38.089317321777344%2C%2030.821630477905273%5D%2C%20%5B38.141448974609375%2C%2030.90279769897461%5D%2C%20%5B38.38102722167969%2C%2030.980850219726562%5D%2C%20%5B38.06114196777344%2C%2030.567155838012695%5D%2C%20%5B38.20427322387695%2C%2030.88347816467285%5D%2C%20%5B38.1083869934082%2C%2030.854419708251953%5D%2C%20%5B38.068904876708984%2C%2030.81683349609375%5D%2C%20%5B37.897247314453125%2C%2030.71377182006836%5D%2C%20%5B37.784080505371094%2C%2030.651037216186523%5D%2C%20%5B38.15467071533203%2C%2030.87668228149414%5D%2C%20%5B38.104759216308594%2C%2030.80463981628418%5D%2C%20%5B38.14457702636719%2C%2031.02677345275879%5D%2C%20%5B38.13868713378906%2C%2030.806076049804688%5D%2C%20%5B37.912208557128906%2C%2030.70096778869629%5D%2C%20%5B38.10008239746094%2C%2030.766613006591797%5D%2C%20%5B37.86099624633789%2C%2030.720067977905273%5D%2C%20%5B38.16699981689453%2C%2030.853689193725586%5D%2C%20%5B38.154380798339844%2C%2030.857318878173828%5D%2C%20%5B38.133880615234375%2C%2030.827350616455078%5D%2C%20%5B38.248207092285156%2C%2030.893312454223633%5D%2C%20%5B38.06214141845703%2C%2030.722681045532227%5D%2C%20%5B38.10736083984375%2C%2030.7723388671875%5D%2C%20%5B38.089683532714844%2C%2030.69407081604004%5D%2C%20%5B38.14107131958008%2C%2030.77070426940918%5D%2C%20%5B38.13732147216797%2C%2030.838197708129883%5D%2C%20%5B38.194698333740234%2C%2030.90814208984375%5D%2C%20%5B38.04200744628906%2C%2030.83490562438965%5D%2C%20%5B38.01007080078125%2C%2030.725244522094727%5D%2C%20%5B38.053321838378906%2C%2030.806434631347656%5D%2C%20%5B37.891441345214844%2C%2031.02627182006836%5D%2C%20%5B38.091651916503906%2C%2030.77299690246582%5D%2C%20%5B38.14186096191406%2C%2030.756772994995117%5D%2C%20%5B38.17155456542969%2C%2030.69529151916504%5D%2C%20%5B37.95478057861328%2C%2030.695100784301758%5D%2C%20%5B38.11730194091797%2C%2030.832263946533203%5D%2C%20%5B37.93086242675781%2C%2030.55164909362793%5D%2C%20%5B38.2241096496582%2C%2030.973295211791992%5D%2C%20%5B38.06422424316406%2C%2030.753793716430664%5D%2C%20%5B38.15165328979492%2C%2030.85536003112793%5D%2C%20%5B38.1185188293457%2C%2030.8420352935791%5D%2C%20%5B38.1444091796875%2C%2030.676000595092773%5D%2C%20%5B38.22596740722656%2C%2030.960702896118164%5D%2C%20%5B38.14910888671875%2C%2030.874311447143555%5D%2C%20%5B38.151451110839844%2C%2030.872194290161133%5D%2C%20%5B38.08003234863281%2C%2031.01692771911621%5D%2C%20%5B38.12850570678711%2C%2030.826868057250977%5D%2C%20%5B38.17790985107422%2C%2030.794485092163086%5D%2C%20%5B37.977882385253906%2C%2030.494352340698242%5D%2C%20%5B37.934967041015625%2C%2030.898258209228516%5D%2C%20%5B38.085350036621094%2C%2030.63981056213379%5D%2C%20%5B38.17158126831055%2C%2030.817886352539062%5D%2C%20%5B38.1639518737793%2C%2030.850059509277344%5D%2C%20%5B38.17155456542969%2C%2030.69529151916504%5D%2C%20%5B38.10263442993164%2C%2030.58989143371582%5D%2C%20%5B37.94782257080078%2C%2030.621015548706055%5D%2C%20%5B38.158634185791016%2C%2030.856430053710938%5D%2C%20%5B38.1639518737793%2C%2030.850059509277344%5D%2C%20%5B38.004302978515625%2C%2030.815763473510742%5D%2C%20%5B37.86420440673828%2C%2030.476476669311523%5D%2C%20%5B38.01591491699219%2C%2030.327707290649414%5D%2C%20%5B37.90800476074219%2C%2030.658510208129883%5D%2C%20%5B38.17365264892578%2C%2030.902402877807617%5D%2C%20%5B38.139888763427734%2C%2030.87895393371582%5D%2C%20%5B38.16948699951172%2C%2030.984466552734375%5D%2C%20%5B38.10736083984375%2C%2030.7723388671875%5D%2C%20%5B38.057861328125%2C%2030.762086868286133%5D%2C%20%5B38.35811233520508%2C%2031.108341217041016%5D%2C%20%5B38.13636016845703%2C%2030.81849479675293%5D%2C%20%5B38.220298767089844%2C%2030.91602325439453%5D%2C%20%5B38.018741607666016%2C%2030.707645416259766%5D%2C%20%5B38.108009338378906%2C%2030.72312355041504%5D%2C%20%5B38.02669906616211%2C%2030.829774856567383%5D%2C%20%5B38.05864715576172%2C%2030.763059616088867%5D%2C%20%5B38.28515625%2C%2031.056055068969727%5D%2C%20%5B38.145362854003906%2C%2030.83328628540039%5D%2C%20%5B38.07539367675781%2C%2030.832059860229492%5D%2C%20%5B38.057861328125%2C%2030.762086868286133%5D%2C%20%5B37.91804885864258%2C%2030.626649856567383%5D%2C%20%5B38.04200744628906%2C%2030.83490562438965%5D%2C%20%5B38.10158157348633%2C%2030.777605056762695%5D%2C%20%5B38.1678466796875%2C%2030.83079719543457%5D%2C%20%5B37.92201614379883%2C%2031.061126708984375%5D%2C%20%5B38.12555694580078%2C%2030.752172470092773%5D%2C%20%5B37.89093780517578%2C%2030.75543785095215%5D%2C%20%5B38.16419982910156%2C%2030.86883544921875%5D%2C%20%5B38.07477569580078%2C%2030.64064598083496%5D%2C%20%5B38.204689025878906%2C%2030.82584571838379%5D%2C%20%5B38.1785774230957%2C%2030.747007369995117%5D%2C%20%5B38.02817916870117%2C%2030.804609298706055%5D%2C%20%5B38.08746337890625%2C%2031.115081787109375%5D%2C%20%5B38.08936309814453%2C%2030.80626106262207%5D%2C%20%5B38.1856689453125%2C%2030.88494300842285%5D%2C%20%5B38.13688278198242%2C%2031.244007110595703%5D%2C%20%5B38.0875129699707%2C%2030.751680374145508%5D%2C%20%5B37.90800476074219%2C%2030.658510208129883%5D%2C%20%5B37.90470504760742%2C%2030.982479095458984%5D%2C%20%5B38.18817138671875%2C%2030.61923599243164%5D%2C%20%5B38.22257995605469%2C%2030.894834518432617%5D%2C%20%5B38.13224792480469%2C%2030.840717315673828%5D%2C%20%5B38.12957000732422%2C%2030.508447647094727%5D%2C%20%5B38.12216567993164%2C%2030.829965591430664%5D%2C%20%5B38.078433990478516%2C%2030.857053756713867%5D%2C%20%5B37.81304168701172%2C%2030.352874755859375%5D%2C%20%5B38.117027282714844%2C%2030.841093063354492%5D%2C%20%5B38.10209655761719%2C%2030.791715621948242%5D%2C%20%5B38.014434814453125%2C%2030.764013290405273%5D%2C%20%5B38.13494110107422%2C%2030.696128845214844%5D%2C%20%5B38.189754486083984%2C%2030.65338134765625%5D%2C%20%5B38.13911437988281%2C%2030.845643997192383%5D%2C%20%5B37.956443786621094%2C%2030.865270614624023%5D%2C%20%5B37.97278594970703%2C%2030.850454330444336%5D%2C%20%5B38.174957275390625%2C%2030.864864349365234%5D%2C%20%5B38.16358947753906%2C%2030.86771583557129%5D%2C%20%5B38.10798645019531%2C%2030.96573829650879%5D%2C%20%5B38.17499542236328%2C%2030.87629508972168%5D%2C%20%5B38.02009582519531%2C%2030.716054916381836%5D%2C%20%5B38.17499542236328%2C%2030.87629508972168%5D%2C%20%5B38.14801025390625%2C%2030.66437339782715%5D%2C%20%5B38.18932342529297%2C%2030.860694885253906%5D%2C%20%5B38.06318664550781%2C%2030.742576599121094%5D%2C%20%5B37.934967041015625%2C%2030.898258209228516%5D%2C%20%5B38.15564727783203%2C%2031.035993576049805%5D%2C%20%5B38.082557678222656%2C%2030.78904914855957%5D%2C%20%5B38.17719650268555%2C%2030.84471321105957%5D%2C%20%5B38.10491180419922%2C%2030.546537399291992%5D%2C%20%5B38.046485900878906%2C%2031.032621383666992%5D%2C%20%5B38.18800354003906%2C%2030.89997100830078%5D%2C%20%5B38.149322509765625%2C%2030.8483829498291%5D%2C%20%5B38.18171310424805%2C%2030.888809204101562%5D%2C%20%5B38.01288986206055%2C%2030.768579483032227%5D%2C%20%5B38.09919357299805%2C%2030.823062896728516%5D%2C%20%5B38.22257995605469%2C%2030.894834518432617%5D%2C%20%5B38.145362854003906%2C%2030.83328628540039%5D%2C%20%5B38.08525848388672%2C%2030.821565628051758%5D%2C%20%5B38.17219161987305%2C%2030.902570724487305%5D%2C%20%5B38.05023956298828%2C%2030.791257858276367%5D%2C%20%5B38.11730194091797%2C%2030.8384952545166%5D%2C%20%5B38.153892517089844%2C%2031.02037239074707%5D%2C%20%5B38.16862106323242%2C%2030.872907638549805%5D%2C%20%5B38.208099365234375%2C%2031.04039192199707%5D%2C%20%5B38.09309768676758%2C%2030.628559112548828%5D%2C%20%5B38.113197326660156%2C%2030.8070011138916%5D%2C%20%5B37.96001052856445%2C%2030.846168518066406%5D%2C%20%5B38.1083869934082%2C%2030.854419708251953%5D%2C%20%5B38.021629333496094%2C%2030.768938064575195%5D%2C%20%5B38.09038162231445%2C%2030.786897659301758%5D%2C%20%5B37.940948486328125%2C%2030.61619758605957%5D%2C%20%5B38.185752868652344%2C%2030.8981876373291%5D%2C%20%5B38.06624984741211%2C%2030.763147354125977%5D%2C%20%5B38.0982666015625%2C%2030.84610939025879%5D%2C%20%5B38.11815643310547%2C%2030.812753677368164%5D%2C%20%5B38.1607551574707%2C%2030.807180404663086%5D%2C%20%5B38.13392639160156%2C%2030.735387802124023%5D%2C%20%5B38.05105972290039%2C%2030.752891540527344%5D%2C%20%5B38.225181579589844%2C%2030.913496017456055%5D%2C%20%5B38.12487030029297%2C%2030.159780502319336%5D%2C%20%5B38.05149841308594%2C%2030.79189109802246%5D%2C%20%5B38.28515625%2C%2031.056055068969727%5D%2C%20%5B38.09242630004883%2C%2030.92293357849121%5D%2C%20%5B38.38102722167969%2C%2030.980850219726562%5D%2C%20%5B38.15564727783203%2C%2031.035993576049805%5D%2C%20%5B38.077552795410156%2C%2030.794523239135742%5D%2C%20%5B38.15467071533203%2C%2030.87668228149414%5D%2C%20%5B37.979515075683594%2C%2030.796064376831055%5D%2C%20%5B38.15903854370117%2C%2030.84644889831543%5D%2C%20%5B38.20427322387695%2C%2030.88347816467285%5D%2C%20%5B37.87141036987305%2C%2030.701129913330078%5D%2C%20%5B38.238670349121094%2C%2030.85527229309082%5D%2C%20%5B38.068904876708984%2C%2030.81683349609375%5D%2C%20%5B38.14457702636719%2C%2031.02677345275879%5D%2C%20%5B38.28676223754883%2C%2030.8928165435791%5D%2C%20%5B38.018741607666016%2C%2030.707645416259766%5D%2C%20%5B38.13868713378906%2C%2030.806076049804688%5D%2C%20%5B37.929603576660156%2C%2030.50424575805664%5D%2C%20%5B38.12107467651367%2C%2030.91476058959961%5D%2C%20%5B37.982425689697266%2C%2030.800825119018555%5D%2C%20%5B38.05986022949219%2C%2031.150310516357422%5D%2C%20%5B38.107749938964844%2C%2030.807416915893555%5D%2C%20%5B38.052066802978516%2C%2030.754301071166992%5D%2C%20%5B38.13629150390625%2C%2030.840831756591797%5D%2C%20%5B38.12957000732422%2C%2030.508447647094727%5D%2C%20%5B38.1685791015625%2C%2030.84579849243164%5D%2C%20%5B38.00447082519531%2C%2030.742639541625977%5D%2C%20%5B37.97278594970703%2C%2030.850454330444336%5D%2C%20%5B38.189666748046875%2C%2030.89767837524414%5D%2C%20%5B38.1413459777832%2C%2030.66095542907715%5D%2C%20%5B38.101810455322266%2C%2030.725032806396484%5D%2C%20%5B38.13468933105469%2C%2030.806137084960938%5D%2C%20%5B37.980125427246094%2C%2031.080429077148438%5D%2C%20%5B38.19615936279297%2C%2030.96159553527832%5D%2C%20%5B38.10961151123047%2C%2030.81814956665039%5D%2C%20%5B38.15020751953125%2C%2030.85379981994629%5D%2C%20%5B37.88090896606445%2C%2030.961088180541992%5D%2C%20%5B37.9691162109375%2C%2030.828432083129883%5D%2C%20%5B38.08165740966797%2C%2030.780550003051758%5D%2C%20%5B38.16123962402344%2C%2030.857830047607422%5D%2C%20%5B38.141578674316406%2C%2030.853229522705078%5D%2C%20%5B38.04369354248047%2C%2030.721067428588867%5D%2C%20%5B37.89093780517578%2C%2030.75543785095215%5D%2C%20%5B38.068904876708984%2C%2030.81683349609375%5D%2C%20%5B38.12678146362305%2C%2030.817224502563477%5D%2C%20%5B38.1885986328125%2C%2030.887067794799805%5D%2C%20%5B38.204689025878906%2C%2030.82584571838379%5D%2C%20%5B38.1607551574707%2C%2030.807180404663086%5D%2C%20%5B38.200782775878906%2C%2030.636926651000977%5D%2C%20%5B37.974822998046875%2C%2030.69394302368164%5D%2C%20%5B37.985389709472656%2C%2030.710100173950195%5D%2C%20%5B38.11730194091797%2C%2030.832263946533203%5D%2C%20%5B38.14167785644531%2C%2030.86121368408203%5D%2C%20%5B37.96883773803711%2C%2030.741500854492188%5D%2C%20%5B38.26076889038086%2C%2030.960058212280273%5D%2C%20%5B38.200416564941406%2C%2030.85592269897461%5D%2C%20%5B37.982425689697266%2C%2030.800825119018555%5D%2C%20%5B38.1885986328125%2C%2030.887067794799805%5D%2C%20%5B38.03173065185547%2C%2030.751325607299805%5D%2C%20%5B38.3765983581543%2C%2031.128007888793945%5D%2C%20%5B38.1520881652832%2C%2030.929899215698242%5D%2C%20%5B38.018741607666016%2C%2030.707645416259766%5D%2C%20%5B38.088375091552734%2C%2030.777971267700195%5D%2C%20%5B38.145973205566406%2C%2030.867698669433594%5D%2C%20%5B37.978309631347656%2C%2030.731496810913086%5D%2C%20%5B38.153564453125%2C%2030.847867965698242%5D%2C%20%5B38.27710723876953%2C%2030.94359588623047%5D%2C%20%5B37.86934280395508%2C%2030.53265380859375%5D%2C%20%5B38.189449310302734%2C%2031.00014305114746%5D%2C%20%5B37.912208557128906%2C%2030.70096778869629%5D%2C%20%5B38.10823440551758%2C%2030.698049545288086%5D%2C%20%5B38.03627014160156%2C%2030.60540771484375%5D%2C%20%5B38.05023956298828%2C%2030.791257858276367%5D%2C%20%5B38.248207092285156%2C%2030.893312454223633%5D%2C%20%5B38.16059112548828%2C%2030.747774124145508%5D%2C%20%5B38.22836685180664%2C%2030.955595016479492%5D%2C%20%5B37.913230895996094%2C%2030.70637321472168%5D%2C%20%5B38.06318664550781%2C%2030.742576599121094%5D%2C%20%5B38.1413459777832%2C%2030.66095542907715%5D%2C%20%5B37.973148345947266%2C%2030.48728370666504%5D%2C%20%5B37.974361419677734%2C%2030.96837615966797%5D%2C%20%5B38.13868713378906%2C%2030.806076049804688%5D%2C%20%5B38.158634185791016%2C%2030.856430053710938%5D%2C%20%5B38.149322509765625%2C%2030.8483829498291%5D%2C%20%5B38.116607666015625%2C%2030.87364959716797%5D%2C%20%5B38.148345947265625%2C%2030.85202980041504%5D%2C%20%5B38.148250579833984%2C%2030.851621627807617%5D%2C%20%5B38.04064178466797%2C%2030.689916610717773%5D%2C%20%5B38.115745544433594%2C%2030.82465934753418%5D%2C%20%5B38.09217834472656%2C%2030.737287521362305%5D%2C%20%5B38.08539581298828%2C%2030.6297607421875%5D%2C%20%5B38.156761169433594%2C%2030.878236770629883%5D%2C%20%5B38.148529052734375%2C%2030.853208541870117%5D%2C%20%5B38.14567947387695%2C%2030.849098205566406%5D%2C%20%5B38.152183532714844%2C%2030.855390548706055%5D%2C%20%5B38.16862106323242%2C%2030.872907638549805%5D%2C%20%5B37.93086242675781%2C%2030.55164909362793%5D%2C%20%5B38.1959342956543%2C%2030.854036331176758%5D%2C%20%5B38.09587478637695%2C%2030.7698974609375%5D%2C%20%5B38.125267028808594%2C%2030.934267044067383%5D%2C%20%5B38.19942855834961%2C%2030.903858184814453%5D%2C%20%5B38.245033264160156%2C%2030.933467864990234%5D%2C%20%5B38.12525177001953%2C%2030.576749801635742%5D%2C%20%5B38.08003234863281%2C%2031.01692771911621%5D%2C%20%5B37.96883773803711%2C%2030.741500854492188%5D%2C%20%5B38.10010528564453%2C%2030.599668502807617%5D%2C%20%5B38.113285064697266%2C%2030.87836456298828%5D%2C%20%5B38.145240783691406%2C%2030.885053634643555%5D%2C%20%5B38.181190490722656%2C%2030.72422218322754%5D%2C%20%5B37.784080505371094%2C%2030.651037216186523%5D%2C%20%5B38.11730194091797%2C%2030.8384952545166%5D%2C%20%5B38.213165283203125%2C%2031.092092514038086%5D%2C%20%5B38.14814758300781%2C%2030.851123809814453%5D%2C%20%5B38.17972183227539%2C%2030.898452758789062%5D%2C%20%5B37.995330810546875%2C%2030.69061851501465%5D%2C%20%5B38.151710510253906%2C%2030.85755729675293%5D%2C%20%5B38.00449752807617%2C%2031.00361442565918%5D%2C%20%5B37.944801330566406%2C%2031.037168502807617%5D%2C%20%5B38.13114929199219%2C%2030.914474487304688%5D%2C%20%5B38.09583282470703%2C%2030.7047061920166%5D%2C%20%5B38.07197952270508%2C%2030.837068557739258%5D%2C%20%5B38.17913055419922%2C%2030.860570907592773%5D%2C%20%5B38.16948699951172%2C%2030.984466552734375%5D%2C%20%5B38.091651916503906%2C%2030.77299690246582%5D%2C%20%5B37.910003662109375%2C%2030.717939376831055%5D%2C%20%5B38.092472076416016%2C%2030.77086067199707%5D%2C%20%5B38.145973205566406%2C%2030.867698669433594%5D%2C%20%5B38.20503234863281%2C%2030.867280960083008%5D%2C%20%5B38.058998107910156%2C%2030.87753677368164%5D%2C%20%5B38.167144775390625%2C%2030.82369041442871%5D%2C%20%5B38.04833984375%2C%2030.855520248413086%5D%5D%2C%0A%20%20%20%20%20%20%20%20%20%20%20%20%20%20%20%20%7B%22blur%22%3A%2015%2C%20%22maxZoom%22%3A%2018%2C%20%22minOpacity%22%3A%200.5%2C%20%22radius%22%3A%2025%7D%0A%20%20%20%20%20%20%20%20%20%20%20%20%29.addTo%28map_69ed1ba3212d4b2fb2b9fdafba916b96%29%3B%0A%20%20%20%20%20%20%20%20%0A%3C/script%3E onload=\"this.contentDocument.open();this.contentDocument.write(    decodeURIComponent(this.getAttribute('data-html')));this.contentDocument.close();\" allowfullscreen webkitallowfullscreen mozallowfullscreen></iframe></div></div>"
      ],
      "text/plain": [
       "<folium.folium.Map at 0x7fcee951d4f0>"
      ]
     },
     "execution_count": 209,
     "metadata": {},
     "output_type": "execute_result"
    }
   ],
   "source": [
    "maploc = folium.Map(\n",
    "#     location=[conf_df.lon.mean(), conf_df.lat.mean()],\n",
    "    zoom_start=11,\n",
    "    tiles=\"Stamen Toner\", \n",
    "    # min_lat=conf_df['point'].map(lambda x: x.x).min(), \n",
    "    # max_lat=conf_df['point'].map(lambda x: x.x).max(),\n",
    "    # min_lon=conf_df['point'].map(lambda x: x.y).min(),\n",
    "    # max_lon=conf_df['point'].map(lambda x: x.y).max())\n",
    "# maploc.add_child(folium.GeoJson(\n",
    "#     data=conf_area_series.to_json(), \n",
    "#     style_function=lambda x: {'fillColor': 'blue', 'stroke': False, 'fillOpacity': 0.1})\n",
    "# \n",
    ")\n",
    "maploc.add_child(HeatMap(out_df))\n",
    "maploc"
   ]
  },
  {
   "cell_type": "code",
   "execution_count": 34,
   "id": "c10b71c4-627b-4258-a1af-28268ed222d8",
   "metadata": {},
   "outputs": [],
   "source": [
    "out_df.to_xml('test.xml')"
   ]
  },
  {
   "cell_type": "code",
   "execution_count": 33,
   "id": "4660181f-b487-4251-8ef2-b3b907b5d34e",
   "metadata": {},
   "outputs": [
    {
     "data": {
      "text/plain": [
       "'1.3.4'"
      ]
     },
     "execution_count": 33,
     "metadata": {},
     "output_type": "execute_result"
    }
   ],
   "source": [
    "pd.__version__"
   ]
  },
  {
   "cell_type": "code",
   "execution_count": 1476,
   "id": "4e6122ba-2d84-4ba8-936f-b88331d5b42a",
   "metadata": {},
   "outputs": [
    {
     "name": "stdout",
     "output_type": "stream",
     "text": [
      "Requirement already satisfied: pandas in ./anaconda3/lib/python3.8/site-packages (1.3.4)\n",
      "Requirement already satisfied: numpy>=1.17.3 in ./anaconda3/lib/python3.8/site-packages (from pandas) (1.20.1)\n",
      "Requirement already satisfied: pytz>=2017.3 in ./anaconda3/lib/python3.8/site-packages (from pandas) (2021.1)\n",
      "Requirement already satisfied: python-dateutil>=2.7.3 in ./anaconda3/lib/python3.8/site-packages (from pandas) (2.8.1)\n",
      "Requirement already satisfied: six>=1.5 in ./anaconda3/lib/python3.8/site-packages (from python-dateutil>=2.7.3->pandas) (1.15.0)\n"
     ]
    }
   ],
   "source": [
    "!pip install -U pandas"
   ]
  },
  {
   "cell_type": "code",
   "execution_count": 162,
   "id": "9e6e2084-7b95-435c-b7aa-3553c712b6c2",
   "metadata": {
    "collapsed": true,
    "jupyter": {
     "outputs_hidden": true
    },
    "tags": []
   },
   "outputs": [
    {
     "name": "stderr",
     "output_type": "stream",
     "text": [
      "IllegalArgumentException: Shell is not a LinearRing\n",
      "IllegalArgumentException: Shell is not a LinearRing\n",
      "IllegalArgumentException: Shell is not a LinearRing\n",
      "IllegalArgumentException: geometries must not contain null elements\n",
      "\n",
      "IllegalArgumentException: Shell is not a LinearRing\n",
      "IllegalArgumentException: Shell is not a LinearRing\n",
      "IllegalArgumentException: Shell is not a LinearRing\n",
      "IllegalArgumentException: Shell is not a LinearRing\n",
      "IllegalArgumentException: Shell is not a LinearRing\n",
      "IllegalArgumentException: Shell is not a LinearRing\n",
      "IllegalArgumentException: Shell is not a LinearRing\n",
      "IllegalArgumentException: Shell is not a LinearRing\n",
      "IllegalArgumentException: Shell is not a LinearRing\n",
      "IllegalArgumentException: Shell is not a LinearRing\n",
      "IllegalArgumentException: Shell is not a LinearRing\n",
      "IllegalArgumentException: Shell is not a LinearRing\n",
      "IllegalArgumentException: Shell is not a LinearRing\n",
      "IllegalArgumentException: Shell is not a LinearRing\n",
      "IllegalArgumentException: Shell is not a LinearRing\n",
      "IllegalArgumentException: Shell is not a LinearRing\n",
      "IllegalArgumentException: Shell is not a LinearRing\n",
      "IllegalArgumentException: Shell is not a LinearRing\n",
      "IllegalArgumentException: Shell is not a LinearRing\n",
      "IllegalArgumentException: Shell is not a LinearRing\n",
      "IllegalArgumentException: Shell is not a LinearRing\n",
      "IllegalArgumentException: Shell is not a LinearRing\n",
      "IllegalArgumentException: Shell is not a LinearRing\n",
      "IllegalArgumentException: Shell is not a LinearRing\n",
      "IllegalArgumentException: Shell is not a LinearRing\n",
      "IllegalArgumentException: Shell is not a LinearRing\n",
      "IllegalArgumentException: Shell is not a LinearRing\n",
      "IllegalArgumentException: Shell is not a LinearRing\n",
      "IllegalArgumentException: Shell is not a LinearRing\n",
      "IllegalArgumentException: Shell is not a LinearRing\n",
      "IllegalArgumentException: Shell is not a LinearRing\n",
      "IllegalArgumentException: Shell is not a LinearRing\n",
      "IllegalArgumentException: geometries must not contain null elements\n",
      "\n",
      "IllegalArgumentException: Shell is not a LinearRing\n",
      "IllegalArgumentException: Shell is not a LinearRing\n",
      "IllegalArgumentException: Shell is not a LinearRing\n",
      "IllegalArgumentException: Shell is not a LinearRing\n",
      "IllegalArgumentException: Shell is not a LinearRing\n",
      "IllegalArgumentException: Shell is not a LinearRing\n",
      "IllegalArgumentException: Shell is not a LinearRing\n",
      "IllegalArgumentException: Shell is not a LinearRing\n",
      "IllegalArgumentException: Shell is not a LinearRing\n",
      "IllegalArgumentException: Shell is not a LinearRing\n",
      "IllegalArgumentException: geometries must not contain null elements\n",
      "\n",
      "IllegalArgumentException: Shell is not a LinearRing\n",
      "IllegalArgumentException: Shell is not a LinearRing\n",
      "IllegalArgumentException: Shell is not a LinearRing\n",
      "IllegalArgumentException: Shell is not a LinearRing\n",
      "IllegalArgumentException: Shell is not a LinearRing\n",
      "IllegalArgumentException: Shell is not a LinearRing\n",
      "IllegalArgumentException: geometries must not contain null elements\n",
      "\n",
      "IllegalArgumentException: Shell is not a LinearRing\n",
      "IllegalArgumentException: Shell is not a LinearRing\n",
      "IllegalArgumentException: Shell is not a LinearRing\n",
      "IllegalArgumentException: Shell is not a LinearRing\n",
      "IllegalArgumentException: Shell is not a LinearRing\n",
      "IllegalArgumentException: Shell is not a LinearRing\n",
      "IllegalArgumentException: Shell is not a LinearRing\n",
      "IllegalArgumentException: Shell is not a LinearRing\n",
      "IllegalArgumentException: Shell is not a LinearRing\n",
      "IllegalArgumentException: Shell is not a LinearRing\n",
      "IllegalArgumentException: Shell is not a LinearRing\n",
      "IllegalArgumentException: Shell is not a LinearRing\n",
      "IllegalArgumentException: Shell is not a LinearRing\n",
      "IllegalArgumentException: geometries must not contain null elements\n",
      "\n",
      "IllegalArgumentException: Shell is not a LinearRing\n",
      "IllegalArgumentException: Shell is not a LinearRing\n",
      "IllegalArgumentException: geometries must not contain null elements\n",
      "\n",
      "IllegalArgumentException: Shell is not a LinearRing\n",
      "IllegalArgumentException: Shell is not a LinearRing\n",
      "IllegalArgumentException: geometries must not contain null elements\n",
      "\n",
      "IllegalArgumentException: Shell is not a LinearRing\n",
      "IllegalArgumentException: Shell is not a LinearRing\n",
      "IllegalArgumentException: Shell is not a LinearRing\n",
      "IllegalArgumentException: Shell is not a LinearRing\n",
      "IllegalArgumentException: Shell is not a LinearRing\n",
      "IllegalArgumentException: Shell is not a LinearRing\n",
      "IllegalArgumentException: Shell is not a LinearRing\n",
      "IllegalArgumentException: Shell is not a LinearRing\n",
      "IllegalArgumentException: Shell is not a LinearRing\n",
      "IllegalArgumentException: Shell is not a LinearRing\n",
      "IllegalArgumentException: Shell is not a LinearRing\n",
      "IllegalArgumentException: Shell is not a LinearRing\n",
      "IllegalArgumentException: Shell is not a LinearRing\n",
      "IllegalArgumentException: Shell is not a LinearRing\n",
      "IllegalArgumentException: Shell is not a LinearRing\n",
      "IllegalArgumentException: Shell is not a LinearRing\n",
      "IllegalArgumentException: Shell is not a LinearRing\n",
      "IllegalArgumentException: Shell is not a LinearRing\n",
      "IllegalArgumentException: Shell is not a LinearRing\n",
      "IllegalArgumentException: Shell is not a LinearRing\n",
      "IllegalArgumentException: Shell is not a LinearRing\n",
      "IllegalArgumentException: geometries must not contain null elements\n",
      "\n",
      "IllegalArgumentException: Shell is not a LinearRing\n",
      "IllegalArgumentException: Shell is not a LinearRing\n",
      "IllegalArgumentException: Shell is not a LinearRing\n",
      "IllegalArgumentException: geometries must not contain null elements\n",
      "\n",
      "IllegalArgumentException: Shell is not a LinearRing\n",
      "IllegalArgumentException: Shell is not a LinearRing\n",
      "IllegalArgumentException: Shell is not a LinearRing\n",
      "IllegalArgumentException: Shell is not a LinearRing\n",
      "IllegalArgumentException: Shell is not a LinearRing\n",
      "IllegalArgumentException: geometries must not contain null elements\n",
      "\n",
      "IllegalArgumentException: Shell is not a LinearRing\n",
      "IllegalArgumentException: Shell is not a LinearRing\n",
      "IllegalArgumentException: Shell is not a LinearRing\n",
      "IllegalArgumentException: Hole is not a LinearRing\n",
      "IllegalArgumentException: Shell is not a LinearRing\n",
      "IllegalArgumentException: Shell is not a LinearRing\n",
      "IllegalArgumentException: Shell is not a LinearRing\n",
      "IllegalArgumentException: Shell is not a LinearRing\n",
      "IllegalArgumentException: Shell is not a LinearRing\n",
      "IllegalArgumentException: Shell is not a LinearRing\n",
      "IllegalArgumentException: Shell is not a LinearRing\n",
      "IllegalArgumentException: Shell is not a LinearRing\n",
      "IllegalArgumentException: Shell is not a LinearRing\n",
      "IllegalArgumentException: Shell is not a LinearRing\n",
      "IllegalArgumentException: Shell is not a LinearRing\n",
      "IllegalArgumentException: Shell is not a LinearRing\n",
      "IllegalArgumentException: Shell is not a LinearRing\n",
      "IllegalArgumentException: Shell is not a LinearRing\n",
      "IllegalArgumentException: Shell is not a LinearRing\n",
      "IllegalArgumentException: Shell is not a LinearRing\n",
      "IllegalArgumentException: Shell is not a LinearRing\n",
      "IllegalArgumentException: Shell is not a LinearRing\n",
      "IllegalArgumentException: Shell is not a LinearRing\n",
      "IllegalArgumentException: Shell is not a LinearRing\n",
      "IllegalArgumentException: geometries must not contain null elements\n",
      "\n",
      "IllegalArgumentException: Shell is not a LinearRing\n",
      "IllegalArgumentException: Shell is not a LinearRing\n",
      "IllegalArgumentException: Shell is not a LinearRing\n",
      "IllegalArgumentException: Shell is not a LinearRing\n",
      "IllegalArgumentException: Shell is not a LinearRing\n",
      "IllegalArgumentException: Shell is not a LinearRing\n",
      "IllegalArgumentException: Shell is not a LinearRing\n",
      "IllegalArgumentException: Shell is not a LinearRing\n",
      "IllegalArgumentException: Shell is not a LinearRing\n",
      "IllegalArgumentException: Shell is not a LinearRing\n",
      "IllegalArgumentException: Shell is not a LinearRing\n",
      "IllegalArgumentException: Shell is not a LinearRing\n",
      "IllegalArgumentException: Shell is not a LinearRing\n",
      "IllegalArgumentException: Shell is not a LinearRing\n",
      "IllegalArgumentException: Shell is not a LinearRing\n",
      "IllegalArgumentException: Shell is not a LinearRing\n",
      "IllegalArgumentException: Shell is not a LinearRing\n",
      "IllegalArgumentException: Shell is not a LinearRing\n",
      "IllegalArgumentException: Shell is not a LinearRing\n",
      "IllegalArgumentException: Shell is not a LinearRing\n",
      "IllegalArgumentException: Shell is not a LinearRing\n",
      "IllegalArgumentException: Shell is not a LinearRing\n",
      "IllegalArgumentException: Shell is not a LinearRing\n",
      "IllegalArgumentException: Shell is not a LinearRing\n",
      "IllegalArgumentException: Shell is not a LinearRing\n",
      "IllegalArgumentException: Shell is not a LinearRing\n",
      "IllegalArgumentException: Shell is not a LinearRing\n",
      "IllegalArgumentException: Shell is not a LinearRing\n",
      "IllegalArgumentException: Shell is not a LinearRing\n",
      "IllegalArgumentException: Shell is not a LinearRing\n",
      "IllegalArgumentException: Shell is not a LinearRing\n",
      "IllegalArgumentException: Shell is not a LinearRing\n",
      "IllegalArgumentException: geometries must not contain null elements\n",
      "\n",
      "IllegalArgumentException: Shell is not a LinearRing\n",
      "IllegalArgumentException: Shell is not a LinearRing\n",
      "IllegalArgumentException: Shell is not a LinearRing\n",
      "IllegalArgumentException: Shell is not a LinearRing\n",
      "IllegalArgumentException: Shell is not a LinearRing\n",
      "IllegalArgumentException: Shell is not a LinearRing\n",
      "IllegalArgumentException: Shell is not a LinearRing\n",
      "IllegalArgumentException: Shell is not a LinearRing\n",
      "IllegalArgumentException: Shell is not a LinearRing\n",
      "IllegalArgumentException: Shell is not a LinearRing\n",
      "IllegalArgumentException: Shell is not a LinearRing\n",
      "IllegalArgumentException: Shell is not a LinearRing\n",
      "IllegalArgumentException: Shell is not a LinearRing\n",
      "IllegalArgumentException: Shell is not a LinearRing\n",
      "IllegalArgumentException: Shell is not a LinearRing\n",
      "IllegalArgumentException: geometries must not contain null elements\n",
      "\n",
      "IllegalArgumentException: Shell is not a LinearRing\n",
      "IllegalArgumentException: Shell is not a LinearRing\n",
      "IllegalArgumentException: geometries must not contain null elements\n",
      "\n",
      "IllegalArgumentException: Shell is not a LinearRing\n",
      "IllegalArgumentException: Shell is not a LinearRing\n",
      "IllegalArgumentException: Shell is not a LinearRing\n",
      "IllegalArgumentException: Shell is not a LinearRing\n",
      "IllegalArgumentException: Shell is not a LinearRing\n",
      "IllegalArgumentException: Shell is not a LinearRing\n",
      "IllegalArgumentException: Shell is not a LinearRing\n",
      "IllegalArgumentException: geometries must not contain null elements\n",
      "\n",
      "IllegalArgumentException: Shell is not a LinearRing\n",
      "IllegalArgumentException: Shell is not a LinearRing\n",
      "IllegalArgumentException: Shell is not a LinearRing\n",
      "IllegalArgumentException: Shell is not a LinearRing\n",
      "IllegalArgumentException: Shell is not a LinearRing\n",
      "IllegalArgumentException: Shell is not a LinearRing\n",
      "IllegalArgumentException: Shell is not a LinearRing\n",
      "IllegalArgumentException: Shell is not a LinearRing\n",
      "IllegalArgumentException: Shell is not a LinearRing\n",
      "IllegalArgumentException: Shell is not a LinearRing\n",
      "IllegalArgumentException: Shell is not a LinearRing\n",
      "IllegalArgumentException: Shell is not a LinearRing\n",
      "IllegalArgumentException: Shell is not a LinearRing\n",
      "IllegalArgumentException: Shell is not a LinearRing\n",
      "IllegalArgumentException: Shell is not a LinearRing\n",
      "IllegalArgumentException: Shell is not a LinearRing\n",
      "IllegalArgumentException: Shell is not a LinearRing\n",
      "IllegalArgumentException: Shell is not a LinearRing\n",
      "IllegalArgumentException: Shell is not a LinearRing\n",
      "IllegalArgumentException: Shell is not a LinearRing\n",
      "IllegalArgumentException: Shell is not a LinearRing\n",
      "IllegalArgumentException: Shell is not a LinearRing\n",
      "IllegalArgumentException: Shell is not a LinearRing\n",
      "IllegalArgumentException: Shell is not a LinearRing\n",
      "IllegalArgumentException: Shell is not a LinearRing\n",
      "IllegalArgumentException: Shell is not a LinearRing\n",
      "IllegalArgumentException: Shell is not a LinearRing\n",
      "IllegalArgumentException: Shell is not a LinearRing\n",
      "IllegalArgumentException: Shell is not a LinearRing\n",
      "IllegalArgumentException: geometries must not contain null elements\n",
      "\n",
      "IllegalArgumentException: Shell is not a LinearRing\n",
      "IllegalArgumentException: Shell is not a LinearRing\n",
      "IllegalArgumentException: geometries must not contain null elements\n",
      "\n",
      "IllegalArgumentException: Shell is not a LinearRing\n",
      "IllegalArgumentException: Shell is not a LinearRing\n",
      "IllegalArgumentException: Shell is not a LinearRing\n",
      "IllegalArgumentException: Shell is not a LinearRing\n",
      "IllegalArgumentException: Shell is not a LinearRing\n",
      "IllegalArgumentException: Shell is not a LinearRing\n",
      "IllegalArgumentException: Shell is not a LinearRing\n",
      "IllegalArgumentException: Shell is not a LinearRing\n",
      "IllegalArgumentException: Shell is not a LinearRing\n",
      "IllegalArgumentException: Shell is not a LinearRing\n",
      "IllegalArgumentException: Shell is not a LinearRing\n",
      "IllegalArgumentException: Shell is not a LinearRing\n",
      "IllegalArgumentException: Shell is not a LinearRing\n",
      "IllegalArgumentException: Shell is not a LinearRing\n",
      "IllegalArgumentException: Shell is not a LinearRing\n",
      "IllegalArgumentException: geometries must not contain null elements\n",
      "\n",
      "IllegalArgumentException: Shell is not a LinearRing\n",
      "IllegalArgumentException: Shell is not a LinearRing\n",
      "IllegalArgumentException: geometries must not contain null elements\n",
      "\n",
      "IllegalArgumentException: Shell is not a LinearRing\n",
      "IllegalArgumentException: Shell is not a LinearRing\n",
      "IllegalArgumentException: geometries must not contain null elements\n",
      "\n",
      "IllegalArgumentException: Shell is not a LinearRing\n",
      "IllegalArgumentException: Shell is not a LinearRing\n",
      "IllegalArgumentException: Shell is not a LinearRing\n",
      "IllegalArgumentException: geometries must not contain null elements\n",
      "\n",
      "IllegalArgumentException: Shell is not a LinearRing\n",
      "IllegalArgumentException: Shell is not a LinearRing\n",
      "IllegalArgumentException: Shell is not a LinearRing\n",
      "IllegalArgumentException: Shell is not a LinearRing\n",
      "IllegalArgumentException: geometries must not contain null elements\n",
      "\n",
      "IllegalArgumentException: Shell is not a LinearRing\n",
      "IllegalArgumentException: Shell is not a LinearRing\n",
      "IllegalArgumentException: geometries must not contain null elements\n",
      "\n",
      "IllegalArgumentException: Shell is not a LinearRing\n",
      "IllegalArgumentException: Shell is not a LinearRing\n",
      "IllegalArgumentException: geometries must not contain null elements\n",
      "\n",
      "IllegalArgumentException: Shell is not a LinearRing\n",
      "IllegalArgumentException: Shell is not a LinearRing\n",
      "IllegalArgumentException: Shell is not a LinearRing\n",
      "IllegalArgumentException: geometries must not contain null elements\n",
      "\n",
      "IllegalArgumentException: Shell is not a LinearRing\n",
      "IllegalArgumentException: Shell is not a LinearRing\n",
      "IllegalArgumentException: Shell is not a LinearRing\n",
      "IllegalArgumentException: Shell is not a LinearRing\n",
      "IllegalArgumentException: Shell is not a LinearRing\n",
      "IllegalArgumentException: Shell is not a LinearRing\n",
      "IllegalArgumentException: Shell is not a LinearRing\n",
      "IllegalArgumentException: Shell is not a LinearRing\n",
      "IllegalArgumentException: geometries must not contain null elements\n",
      "\n",
      "IllegalArgumentException: Shell is not a LinearRing\n",
      "IllegalArgumentException: Shell is not a LinearRing\n",
      "IllegalArgumentException: geometries must not contain null elements\n",
      "\n",
      "IllegalArgumentException: Shell is not a LinearRing\n",
      "IllegalArgumentException: Shell is not a LinearRing\n",
      "IllegalArgumentException: Shell is not a LinearRing\n",
      "IllegalArgumentException: Shell is not a LinearRing\n",
      "IllegalArgumentException: Shell is not a LinearRing\n",
      "IllegalArgumentException: Shell is not a LinearRing\n",
      "IllegalArgumentException: Shell is not a LinearRing\n",
      "IllegalArgumentException: Shell is not a LinearRing\n",
      "IllegalArgumentException: Shell is not a LinearRing\n",
      "IllegalArgumentException: geometries must not contain null elements\n",
      "\n",
      "IllegalArgumentException: Shell is not a LinearRing\n",
      "IllegalArgumentException: Shell is not a LinearRing\n",
      "IllegalArgumentException: Shell is not a LinearRing\n",
      "IllegalArgumentException: Shell is not a LinearRing\n",
      "IllegalArgumentException: Shell is not a LinearRing\n",
      "IllegalArgumentException: Shell is not a LinearRing\n",
      "IllegalArgumentException: Shell is not a LinearRing\n",
      "IllegalArgumentException: Shell is not a LinearRing\n",
      "IllegalArgumentException: Shell is not a LinearRing\n",
      "IllegalArgumentException: Shell is not a LinearRing\n",
      "IllegalArgumentException: Shell is not a LinearRing\n",
      "IllegalArgumentException: geometries must not contain null elements\n",
      "\n",
      "IllegalArgumentException: Shell is not a LinearRing\n",
      "IllegalArgumentException: Shell is not a LinearRing\n",
      "IllegalArgumentException: Shell is not a LinearRing\n",
      "IllegalArgumentException: Shell is not a LinearRing\n",
      "IllegalArgumentException: Shell is not a LinearRing\n",
      "IllegalArgumentException: Shell is not a LinearRing\n",
      "IllegalArgumentException: Shell is not a LinearRing\n",
      "IllegalArgumentException: Shell is not a LinearRing\n",
      "IllegalArgumentException: Shell is not a LinearRing\n",
      "IllegalArgumentException: Shell is not a LinearRing\n",
      "IllegalArgumentException: Shell is not a LinearRing\n",
      "IllegalArgumentException: Shell is not a LinearRing\n",
      "IllegalArgumentException: Shell is not a LinearRing\n",
      "IllegalArgumentException: Shell is not a LinearRing\n",
      "IllegalArgumentException: Shell is not a LinearRing\n",
      "IllegalArgumentException: Shell is not a LinearRing\n",
      "IllegalArgumentException: Shell is not a LinearRing\n"
     ]
    }
   ],
   "source": [
    "path = geopandas.datasets.get_path('naturalearth_lowres')\n",
    "df = geopandas.read_file(path)"
   ]
  },
  {
   "cell_type": "code",
   "execution_count": 163,
   "id": "2ce7e5e0-0d4a-4ddf-adb3-8ce39bce18ab",
   "metadata": {
    "collapsed": true,
    "jupyter": {
     "outputs_hidden": true
    },
    "tags": []
   },
   "outputs": [
    {
     "name": "stderr",
     "output_type": "stream",
     "text": [
      "/Users/hhoferic/anaconda3/lib/python3.8/site-packages/geopandas/array.py:918: RuntimeWarning: All-NaN slice encountered\n",
      "  np.nanmin(b[:, 0]),  # minx\n",
      "/Users/hhoferic/anaconda3/lib/python3.8/site-packages/geopandas/array.py:919: RuntimeWarning: All-NaN slice encountered\n",
      "  np.nanmin(b[:, 1]),  # miny\n",
      "/Users/hhoferic/anaconda3/lib/python3.8/site-packages/geopandas/array.py:920: RuntimeWarning: All-NaN slice encountered\n",
      "  np.nanmax(b[:, 2]),  # maxx\n",
      "/Users/hhoferic/anaconda3/lib/python3.8/site-packages/geopandas/array.py:921: RuntimeWarning: All-NaN slice encountered\n",
      "  np.nanmax(b[:, 3]),  # maxy\n",
      "/Users/hhoferic/anaconda3/lib/python3.8/site-packages/geopandas/plotting.py:410: UserWarning: The GeoSeries you are attempting to plot is composed of empty geometries. Nothing has been displayed.\n",
      "  warnings.warn(\n"
     ]
    },
    {
     "data": {
      "text/plain": [
       "<AxesSubplot:>"
      ]
     },
     "execution_count": 163,
     "metadata": {},
     "output_type": "execute_result"
    },
    {
     "ename": "ValueError",
     "evalue": "cannot convert float NaN to integer",
     "output_type": "error",
     "traceback": [
      "\u001b[0;31m---------------------------------------------------------------------------\u001b[0m",
      "\u001b[0;31mValueError\u001b[0m                                Traceback (most recent call last)",
      "\u001b[0;32m~/anaconda3/lib/python3.8/site-packages/IPython/core/formatters.py\u001b[0m in \u001b[0;36m__call__\u001b[0;34m(self, obj)\u001b[0m\n\u001b[1;32m    339\u001b[0m                 \u001b[0;32mpass\u001b[0m\u001b[0;34m\u001b[0m\u001b[0;34m\u001b[0m\u001b[0m\n\u001b[1;32m    340\u001b[0m             \u001b[0;32melse\u001b[0m\u001b[0;34m:\u001b[0m\u001b[0;34m\u001b[0m\u001b[0;34m\u001b[0m\u001b[0m\n\u001b[0;32m--> 341\u001b[0;31m                 \u001b[0;32mreturn\u001b[0m \u001b[0mprinter\u001b[0m\u001b[0;34m(\u001b[0m\u001b[0mobj\u001b[0m\u001b[0;34m)\u001b[0m\u001b[0;34m\u001b[0m\u001b[0;34m\u001b[0m\u001b[0m\n\u001b[0m\u001b[1;32m    342\u001b[0m             \u001b[0;31m# Finally look for special method names\u001b[0m\u001b[0;34m\u001b[0m\u001b[0;34m\u001b[0m\u001b[0;34m\u001b[0m\u001b[0m\n\u001b[1;32m    343\u001b[0m             \u001b[0mmethod\u001b[0m \u001b[0;34m=\u001b[0m \u001b[0mget_real_method\u001b[0m\u001b[0;34m(\u001b[0m\u001b[0mobj\u001b[0m\u001b[0;34m,\u001b[0m \u001b[0mself\u001b[0m\u001b[0;34m.\u001b[0m\u001b[0mprint_method\u001b[0m\u001b[0;34m)\u001b[0m\u001b[0;34m\u001b[0m\u001b[0;34m\u001b[0m\u001b[0m\n",
      "\u001b[0;32m~/anaconda3/lib/python3.8/site-packages/IPython/core/pylabtools.py\u001b[0m in \u001b[0;36m<lambda>\u001b[0;34m(fig)\u001b[0m\n\u001b[1;32m    246\u001b[0m \u001b[0;34m\u001b[0m\u001b[0m\n\u001b[1;32m    247\u001b[0m     \u001b[0;32mif\u001b[0m \u001b[0;34m'png'\u001b[0m \u001b[0;32min\u001b[0m \u001b[0mformats\u001b[0m\u001b[0;34m:\u001b[0m\u001b[0;34m\u001b[0m\u001b[0;34m\u001b[0m\u001b[0m\n\u001b[0;32m--> 248\u001b[0;31m         \u001b[0mpng_formatter\u001b[0m\u001b[0;34m.\u001b[0m\u001b[0mfor_type\u001b[0m\u001b[0;34m(\u001b[0m\u001b[0mFigure\u001b[0m\u001b[0;34m,\u001b[0m \u001b[0;32mlambda\u001b[0m \u001b[0mfig\u001b[0m\u001b[0;34m:\u001b[0m \u001b[0mprint_figure\u001b[0m\u001b[0;34m(\u001b[0m\u001b[0mfig\u001b[0m\u001b[0;34m,\u001b[0m \u001b[0;34m'png'\u001b[0m\u001b[0;34m,\u001b[0m \u001b[0;34m**\u001b[0m\u001b[0mkwargs\u001b[0m\u001b[0;34m)\u001b[0m\u001b[0;34m)\u001b[0m\u001b[0;34m\u001b[0m\u001b[0;34m\u001b[0m\u001b[0m\n\u001b[0m\u001b[1;32m    249\u001b[0m     \u001b[0;32mif\u001b[0m \u001b[0;34m'retina'\u001b[0m \u001b[0;32min\u001b[0m \u001b[0mformats\u001b[0m \u001b[0;32mor\u001b[0m \u001b[0;34m'png2x'\u001b[0m \u001b[0;32min\u001b[0m \u001b[0mformats\u001b[0m\u001b[0;34m:\u001b[0m\u001b[0;34m\u001b[0m\u001b[0;34m\u001b[0m\u001b[0m\n\u001b[1;32m    250\u001b[0m         \u001b[0mpng_formatter\u001b[0m\u001b[0;34m.\u001b[0m\u001b[0mfor_type\u001b[0m\u001b[0;34m(\u001b[0m\u001b[0mFigure\u001b[0m\u001b[0;34m,\u001b[0m \u001b[0;32mlambda\u001b[0m \u001b[0mfig\u001b[0m\u001b[0;34m:\u001b[0m \u001b[0mretina_figure\u001b[0m\u001b[0;34m(\u001b[0m\u001b[0mfig\u001b[0m\u001b[0;34m,\u001b[0m \u001b[0;34m**\u001b[0m\u001b[0mkwargs\u001b[0m\u001b[0;34m)\u001b[0m\u001b[0;34m)\u001b[0m\u001b[0;34m\u001b[0m\u001b[0;34m\u001b[0m\u001b[0m\n",
      "\u001b[0;32m~/anaconda3/lib/python3.8/site-packages/IPython/core/pylabtools.py\u001b[0m in \u001b[0;36mprint_figure\u001b[0;34m(fig, fmt, bbox_inches, **kwargs)\u001b[0m\n\u001b[1;32m    130\u001b[0m         \u001b[0mFigureCanvasBase\u001b[0m\u001b[0;34m(\u001b[0m\u001b[0mfig\u001b[0m\u001b[0;34m)\u001b[0m\u001b[0;34m\u001b[0m\u001b[0;34m\u001b[0m\u001b[0m\n\u001b[1;32m    131\u001b[0m \u001b[0;34m\u001b[0m\u001b[0m\n\u001b[0;32m--> 132\u001b[0;31m     \u001b[0mfig\u001b[0m\u001b[0;34m.\u001b[0m\u001b[0mcanvas\u001b[0m\u001b[0;34m.\u001b[0m\u001b[0mprint_figure\u001b[0m\u001b[0;34m(\u001b[0m\u001b[0mbytes_io\u001b[0m\u001b[0;34m,\u001b[0m \u001b[0;34m**\u001b[0m\u001b[0mkw\u001b[0m\u001b[0;34m)\u001b[0m\u001b[0;34m\u001b[0m\u001b[0;34m\u001b[0m\u001b[0m\n\u001b[0m\u001b[1;32m    133\u001b[0m     \u001b[0mdata\u001b[0m \u001b[0;34m=\u001b[0m \u001b[0mbytes_io\u001b[0m\u001b[0;34m.\u001b[0m\u001b[0mgetvalue\u001b[0m\u001b[0;34m(\u001b[0m\u001b[0;34m)\u001b[0m\u001b[0;34m\u001b[0m\u001b[0;34m\u001b[0m\u001b[0m\n\u001b[1;32m    134\u001b[0m     \u001b[0;32mif\u001b[0m \u001b[0mfmt\u001b[0m \u001b[0;34m==\u001b[0m \u001b[0;34m'svg'\u001b[0m\u001b[0;34m:\u001b[0m\u001b[0;34m\u001b[0m\u001b[0;34m\u001b[0m\u001b[0m\n",
      "\u001b[0;32m~/anaconda3/lib/python3.8/site-packages/matplotlib/backend_bases.py\u001b[0m in \u001b[0;36mprint_figure\u001b[0;34m(self, filename, dpi, facecolor, edgecolor, orientation, format, bbox_inches, pad_inches, bbox_extra_artists, backend, **kwargs)\u001b[0m\n\u001b[1;32m   2191\u001b[0m                            else suppress())\n\u001b[1;32m   2192\u001b[0m                     \u001b[0;32mwith\u001b[0m \u001b[0mctx\u001b[0m\u001b[0;34m:\u001b[0m\u001b[0;34m\u001b[0m\u001b[0;34m\u001b[0m\u001b[0m\n\u001b[0;32m-> 2193\u001b[0;31m                         \u001b[0mself\u001b[0m\u001b[0;34m.\u001b[0m\u001b[0mfigure\u001b[0m\u001b[0;34m.\u001b[0m\u001b[0mdraw\u001b[0m\u001b[0;34m(\u001b[0m\u001b[0mrenderer\u001b[0m\u001b[0;34m)\u001b[0m\u001b[0;34m\u001b[0m\u001b[0;34m\u001b[0m\u001b[0m\n\u001b[0m\u001b[1;32m   2194\u001b[0m \u001b[0;34m\u001b[0m\u001b[0m\n\u001b[1;32m   2195\u001b[0m                     bbox_inches = self.figure.get_tightbbox(\n",
      "\u001b[0;32m~/anaconda3/lib/python3.8/site-packages/matplotlib/artist.py\u001b[0m in \u001b[0;36mdraw_wrapper\u001b[0;34m(artist, renderer, *args, **kwargs)\u001b[0m\n\u001b[1;32m     39\u001b[0m                 \u001b[0mrenderer\u001b[0m\u001b[0;34m.\u001b[0m\u001b[0mstart_filter\u001b[0m\u001b[0;34m(\u001b[0m\u001b[0;34m)\u001b[0m\u001b[0;34m\u001b[0m\u001b[0;34m\u001b[0m\u001b[0m\n\u001b[1;32m     40\u001b[0m \u001b[0;34m\u001b[0m\u001b[0m\n\u001b[0;32m---> 41\u001b[0;31m             \u001b[0;32mreturn\u001b[0m \u001b[0mdraw\u001b[0m\u001b[0;34m(\u001b[0m\u001b[0martist\u001b[0m\u001b[0;34m,\u001b[0m \u001b[0mrenderer\u001b[0m\u001b[0;34m,\u001b[0m \u001b[0;34m*\u001b[0m\u001b[0margs\u001b[0m\u001b[0;34m,\u001b[0m \u001b[0;34m**\u001b[0m\u001b[0mkwargs\u001b[0m\u001b[0;34m)\u001b[0m\u001b[0;34m\u001b[0m\u001b[0;34m\u001b[0m\u001b[0m\n\u001b[0m\u001b[1;32m     42\u001b[0m         \u001b[0;32mfinally\u001b[0m\u001b[0;34m:\u001b[0m\u001b[0;34m\u001b[0m\u001b[0;34m\u001b[0m\u001b[0m\n\u001b[1;32m     43\u001b[0m             \u001b[0;32mif\u001b[0m \u001b[0martist\u001b[0m\u001b[0;34m.\u001b[0m\u001b[0mget_agg_filter\u001b[0m\u001b[0;34m(\u001b[0m\u001b[0;34m)\u001b[0m \u001b[0;32mis\u001b[0m \u001b[0;32mnot\u001b[0m \u001b[0;32mNone\u001b[0m\u001b[0;34m:\u001b[0m\u001b[0;34m\u001b[0m\u001b[0;34m\u001b[0m\u001b[0m\n",
      "\u001b[0;32m~/anaconda3/lib/python3.8/site-packages/matplotlib/figure.py\u001b[0m in \u001b[0;36mdraw\u001b[0;34m(self, renderer)\u001b[0m\n\u001b[1;32m   1861\u001b[0m \u001b[0;34m\u001b[0m\u001b[0m\n\u001b[1;32m   1862\u001b[0m             \u001b[0mself\u001b[0m\u001b[0;34m.\u001b[0m\u001b[0mpatch\u001b[0m\u001b[0;34m.\u001b[0m\u001b[0mdraw\u001b[0m\u001b[0;34m(\u001b[0m\u001b[0mrenderer\u001b[0m\u001b[0;34m)\u001b[0m\u001b[0;34m\u001b[0m\u001b[0;34m\u001b[0m\u001b[0m\n\u001b[0;32m-> 1863\u001b[0;31m             mimage._draw_list_compositing_images(\n\u001b[0m\u001b[1;32m   1864\u001b[0m                 renderer, self, artists, self.suppressComposite)\n\u001b[1;32m   1865\u001b[0m \u001b[0;34m\u001b[0m\u001b[0m\n",
      "\u001b[0;32m~/anaconda3/lib/python3.8/site-packages/matplotlib/image.py\u001b[0m in \u001b[0;36m_draw_list_compositing_images\u001b[0;34m(renderer, parent, artists, suppress_composite)\u001b[0m\n\u001b[1;32m    129\u001b[0m     \u001b[0;32mif\u001b[0m \u001b[0mnot_composite\u001b[0m \u001b[0;32mor\u001b[0m \u001b[0;32mnot\u001b[0m \u001b[0mhas_images\u001b[0m\u001b[0;34m:\u001b[0m\u001b[0;34m\u001b[0m\u001b[0;34m\u001b[0m\u001b[0m\n\u001b[1;32m    130\u001b[0m         \u001b[0;32mfor\u001b[0m \u001b[0ma\u001b[0m \u001b[0;32min\u001b[0m \u001b[0martists\u001b[0m\u001b[0;34m:\u001b[0m\u001b[0;34m\u001b[0m\u001b[0;34m\u001b[0m\u001b[0m\n\u001b[0;32m--> 131\u001b[0;31m             \u001b[0ma\u001b[0m\u001b[0;34m.\u001b[0m\u001b[0mdraw\u001b[0m\u001b[0;34m(\u001b[0m\u001b[0mrenderer\u001b[0m\u001b[0;34m)\u001b[0m\u001b[0;34m\u001b[0m\u001b[0;34m\u001b[0m\u001b[0m\n\u001b[0m\u001b[1;32m    132\u001b[0m     \u001b[0;32melse\u001b[0m\u001b[0;34m:\u001b[0m\u001b[0;34m\u001b[0m\u001b[0;34m\u001b[0m\u001b[0m\n\u001b[1;32m    133\u001b[0m         \u001b[0;31m# Composite any adjacent images together\u001b[0m\u001b[0;34m\u001b[0m\u001b[0;34m\u001b[0m\u001b[0;34m\u001b[0m\u001b[0m\n",
      "\u001b[0;32m~/anaconda3/lib/python3.8/site-packages/matplotlib/artist.py\u001b[0m in \u001b[0;36mdraw_wrapper\u001b[0;34m(artist, renderer, *args, **kwargs)\u001b[0m\n\u001b[1;32m     39\u001b[0m                 \u001b[0mrenderer\u001b[0m\u001b[0;34m.\u001b[0m\u001b[0mstart_filter\u001b[0m\u001b[0;34m(\u001b[0m\u001b[0;34m)\u001b[0m\u001b[0;34m\u001b[0m\u001b[0;34m\u001b[0m\u001b[0m\n\u001b[1;32m     40\u001b[0m \u001b[0;34m\u001b[0m\u001b[0m\n\u001b[0;32m---> 41\u001b[0;31m             \u001b[0;32mreturn\u001b[0m \u001b[0mdraw\u001b[0m\u001b[0;34m(\u001b[0m\u001b[0martist\u001b[0m\u001b[0;34m,\u001b[0m \u001b[0mrenderer\u001b[0m\u001b[0;34m,\u001b[0m \u001b[0;34m*\u001b[0m\u001b[0margs\u001b[0m\u001b[0;34m,\u001b[0m \u001b[0;34m**\u001b[0m\u001b[0mkwargs\u001b[0m\u001b[0;34m)\u001b[0m\u001b[0;34m\u001b[0m\u001b[0;34m\u001b[0m\u001b[0m\n\u001b[0m\u001b[1;32m     42\u001b[0m         \u001b[0;32mfinally\u001b[0m\u001b[0;34m:\u001b[0m\u001b[0;34m\u001b[0m\u001b[0;34m\u001b[0m\u001b[0m\n\u001b[1;32m     43\u001b[0m             \u001b[0;32mif\u001b[0m \u001b[0martist\u001b[0m\u001b[0;34m.\u001b[0m\u001b[0mget_agg_filter\u001b[0m\u001b[0;34m(\u001b[0m\u001b[0;34m)\u001b[0m \u001b[0;32mis\u001b[0m \u001b[0;32mnot\u001b[0m \u001b[0;32mNone\u001b[0m\u001b[0;34m:\u001b[0m\u001b[0;34m\u001b[0m\u001b[0;34m\u001b[0m\u001b[0m\n",
      "\u001b[0;32m~/anaconda3/lib/python3.8/site-packages/matplotlib/cbook/deprecation.py\u001b[0m in \u001b[0;36mwrapper\u001b[0;34m(*inner_args, **inner_kwargs)\u001b[0m\n\u001b[1;32m    409\u001b[0m                          \u001b[0;32melse\u001b[0m \u001b[0mdeprecation_addendum\u001b[0m\u001b[0;34m,\u001b[0m\u001b[0;34m\u001b[0m\u001b[0;34m\u001b[0m\u001b[0m\n\u001b[1;32m    410\u001b[0m                 **kwargs)\n\u001b[0;32m--> 411\u001b[0;31m         \u001b[0;32mreturn\u001b[0m \u001b[0mfunc\u001b[0m\u001b[0;34m(\u001b[0m\u001b[0;34m*\u001b[0m\u001b[0minner_args\u001b[0m\u001b[0;34m,\u001b[0m \u001b[0;34m**\u001b[0m\u001b[0minner_kwargs\u001b[0m\u001b[0;34m)\u001b[0m\u001b[0;34m\u001b[0m\u001b[0;34m\u001b[0m\u001b[0m\n\u001b[0m\u001b[1;32m    412\u001b[0m \u001b[0;34m\u001b[0m\u001b[0m\n\u001b[1;32m    413\u001b[0m     \u001b[0;32mreturn\u001b[0m \u001b[0mwrapper\u001b[0m\u001b[0;34m\u001b[0m\u001b[0;34m\u001b[0m\u001b[0m\n",
      "\u001b[0;32m~/anaconda3/lib/python3.8/site-packages/matplotlib/axes/_base.py\u001b[0m in \u001b[0;36mdraw\u001b[0;34m(self, renderer, inframe)\u001b[0m\n\u001b[1;32m   2745\u001b[0m             \u001b[0mrenderer\u001b[0m\u001b[0;34m.\u001b[0m\u001b[0mstop_rasterizing\u001b[0m\u001b[0;34m(\u001b[0m\u001b[0;34m)\u001b[0m\u001b[0;34m\u001b[0m\u001b[0;34m\u001b[0m\u001b[0m\n\u001b[1;32m   2746\u001b[0m \u001b[0;34m\u001b[0m\u001b[0m\n\u001b[0;32m-> 2747\u001b[0;31m         \u001b[0mmimage\u001b[0m\u001b[0;34m.\u001b[0m\u001b[0m_draw_list_compositing_images\u001b[0m\u001b[0;34m(\u001b[0m\u001b[0mrenderer\u001b[0m\u001b[0;34m,\u001b[0m \u001b[0mself\u001b[0m\u001b[0;34m,\u001b[0m \u001b[0martists\u001b[0m\u001b[0;34m)\u001b[0m\u001b[0;34m\u001b[0m\u001b[0;34m\u001b[0m\u001b[0m\n\u001b[0m\u001b[1;32m   2748\u001b[0m \u001b[0;34m\u001b[0m\u001b[0m\n\u001b[1;32m   2749\u001b[0m         \u001b[0mrenderer\u001b[0m\u001b[0;34m.\u001b[0m\u001b[0mclose_group\u001b[0m\u001b[0;34m(\u001b[0m\u001b[0;34m'axes'\u001b[0m\u001b[0;34m)\u001b[0m\u001b[0;34m\u001b[0m\u001b[0;34m\u001b[0m\u001b[0m\n",
      "\u001b[0;32m~/anaconda3/lib/python3.8/site-packages/matplotlib/image.py\u001b[0m in \u001b[0;36m_draw_list_compositing_images\u001b[0;34m(renderer, parent, artists, suppress_composite)\u001b[0m\n\u001b[1;32m    129\u001b[0m     \u001b[0;32mif\u001b[0m \u001b[0mnot_composite\u001b[0m \u001b[0;32mor\u001b[0m \u001b[0;32mnot\u001b[0m \u001b[0mhas_images\u001b[0m\u001b[0;34m:\u001b[0m\u001b[0;34m\u001b[0m\u001b[0;34m\u001b[0m\u001b[0m\n\u001b[1;32m    130\u001b[0m         \u001b[0;32mfor\u001b[0m \u001b[0ma\u001b[0m \u001b[0;32min\u001b[0m \u001b[0martists\u001b[0m\u001b[0;34m:\u001b[0m\u001b[0;34m\u001b[0m\u001b[0;34m\u001b[0m\u001b[0m\n\u001b[0;32m--> 131\u001b[0;31m             \u001b[0ma\u001b[0m\u001b[0;34m.\u001b[0m\u001b[0mdraw\u001b[0m\u001b[0;34m(\u001b[0m\u001b[0mrenderer\u001b[0m\u001b[0;34m)\u001b[0m\u001b[0;34m\u001b[0m\u001b[0;34m\u001b[0m\u001b[0m\n\u001b[0m\u001b[1;32m    132\u001b[0m     \u001b[0;32melse\u001b[0m\u001b[0;34m:\u001b[0m\u001b[0;34m\u001b[0m\u001b[0;34m\u001b[0m\u001b[0m\n\u001b[1;32m    133\u001b[0m         \u001b[0;31m# Composite any adjacent images together\u001b[0m\u001b[0;34m\u001b[0m\u001b[0;34m\u001b[0m\u001b[0;34m\u001b[0m\u001b[0m\n",
      "\u001b[0;32m~/anaconda3/lib/python3.8/site-packages/matplotlib/artist.py\u001b[0m in \u001b[0;36mdraw_wrapper\u001b[0;34m(artist, renderer, *args, **kwargs)\u001b[0m\n\u001b[1;32m     39\u001b[0m                 \u001b[0mrenderer\u001b[0m\u001b[0;34m.\u001b[0m\u001b[0mstart_filter\u001b[0m\u001b[0;34m(\u001b[0m\u001b[0;34m)\u001b[0m\u001b[0;34m\u001b[0m\u001b[0;34m\u001b[0m\u001b[0m\n\u001b[1;32m     40\u001b[0m \u001b[0;34m\u001b[0m\u001b[0m\n\u001b[0;32m---> 41\u001b[0;31m             \u001b[0;32mreturn\u001b[0m \u001b[0mdraw\u001b[0m\u001b[0;34m(\u001b[0m\u001b[0martist\u001b[0m\u001b[0;34m,\u001b[0m \u001b[0mrenderer\u001b[0m\u001b[0;34m,\u001b[0m \u001b[0;34m*\u001b[0m\u001b[0margs\u001b[0m\u001b[0;34m,\u001b[0m \u001b[0;34m**\u001b[0m\u001b[0mkwargs\u001b[0m\u001b[0;34m)\u001b[0m\u001b[0;34m\u001b[0m\u001b[0;34m\u001b[0m\u001b[0m\n\u001b[0m\u001b[1;32m     42\u001b[0m         \u001b[0;32mfinally\u001b[0m\u001b[0;34m:\u001b[0m\u001b[0;34m\u001b[0m\u001b[0;34m\u001b[0m\u001b[0m\n\u001b[1;32m     43\u001b[0m             \u001b[0;32mif\u001b[0m \u001b[0martist\u001b[0m\u001b[0;34m.\u001b[0m\u001b[0mget_agg_filter\u001b[0m\u001b[0;34m(\u001b[0m\u001b[0;34m)\u001b[0m \u001b[0;32mis\u001b[0m \u001b[0;32mnot\u001b[0m \u001b[0;32mNone\u001b[0m\u001b[0;34m:\u001b[0m\u001b[0;34m\u001b[0m\u001b[0;34m\u001b[0m\u001b[0m\n",
      "\u001b[0;32m~/anaconda3/lib/python3.8/site-packages/matplotlib/axis.py\u001b[0m in \u001b[0;36mdraw\u001b[0;34m(self, renderer, *args, **kwargs)\u001b[0m\n\u001b[1;32m   1162\u001b[0m         \u001b[0mrenderer\u001b[0m\u001b[0;34m.\u001b[0m\u001b[0mopen_group\u001b[0m\u001b[0;34m(\u001b[0m\u001b[0m__name__\u001b[0m\u001b[0;34m,\u001b[0m \u001b[0mgid\u001b[0m\u001b[0;34m=\u001b[0m\u001b[0mself\u001b[0m\u001b[0;34m.\u001b[0m\u001b[0mget_gid\u001b[0m\u001b[0;34m(\u001b[0m\u001b[0;34m)\u001b[0m\u001b[0;34m)\u001b[0m\u001b[0;34m\u001b[0m\u001b[0;34m\u001b[0m\u001b[0m\n\u001b[1;32m   1163\u001b[0m \u001b[0;34m\u001b[0m\u001b[0m\n\u001b[0;32m-> 1164\u001b[0;31m         \u001b[0mticks_to_draw\u001b[0m \u001b[0;34m=\u001b[0m \u001b[0mself\u001b[0m\u001b[0;34m.\u001b[0m\u001b[0m_update_ticks\u001b[0m\u001b[0;34m(\u001b[0m\u001b[0;34m)\u001b[0m\u001b[0;34m\u001b[0m\u001b[0;34m\u001b[0m\u001b[0m\n\u001b[0m\u001b[1;32m   1165\u001b[0m         ticklabelBoxes, ticklabelBoxes2 = self._get_tick_bboxes(ticks_to_draw,\n\u001b[1;32m   1166\u001b[0m                                                                 renderer)\n",
      "\u001b[0;32m~/anaconda3/lib/python3.8/site-packages/matplotlib/axis.py\u001b[0m in \u001b[0;36m_update_ticks\u001b[0;34m(self)\u001b[0m\n\u001b[1;32m   1019\u001b[0m         \u001b[0mthe\u001b[0m \u001b[0maxes\u001b[0m\u001b[0;34m.\u001b[0m  \u001b[0mReturn\u001b[0m \u001b[0mthe\u001b[0m \u001b[0mlist\u001b[0m \u001b[0mof\u001b[0m \u001b[0mticks\u001b[0m \u001b[0mthat\u001b[0m \u001b[0mwill\u001b[0m \u001b[0mbe\u001b[0m \u001b[0mdrawn\u001b[0m\u001b[0;34m.\u001b[0m\u001b[0;34m\u001b[0m\u001b[0;34m\u001b[0m\u001b[0m\n\u001b[1;32m   1020\u001b[0m         \"\"\"\n\u001b[0;32m-> 1021\u001b[0;31m         \u001b[0mmajor_locs\u001b[0m \u001b[0;34m=\u001b[0m \u001b[0mself\u001b[0m\u001b[0;34m.\u001b[0m\u001b[0mget_majorticklocs\u001b[0m\u001b[0;34m(\u001b[0m\u001b[0;34m)\u001b[0m\u001b[0;34m\u001b[0m\u001b[0;34m\u001b[0m\u001b[0m\n\u001b[0m\u001b[1;32m   1022\u001b[0m         \u001b[0mmajor_labels\u001b[0m \u001b[0;34m=\u001b[0m \u001b[0mself\u001b[0m\u001b[0;34m.\u001b[0m\u001b[0mmajor\u001b[0m\u001b[0;34m.\u001b[0m\u001b[0mformatter\u001b[0m\u001b[0;34m.\u001b[0m\u001b[0mformat_ticks\u001b[0m\u001b[0;34m(\u001b[0m\u001b[0mmajor_locs\u001b[0m\u001b[0;34m)\u001b[0m\u001b[0;34m\u001b[0m\u001b[0;34m\u001b[0m\u001b[0m\n\u001b[1;32m   1023\u001b[0m         \u001b[0mmajor_ticks\u001b[0m \u001b[0;34m=\u001b[0m \u001b[0mself\u001b[0m\u001b[0;34m.\u001b[0m\u001b[0mget_major_ticks\u001b[0m\u001b[0;34m(\u001b[0m\u001b[0mlen\u001b[0m\u001b[0;34m(\u001b[0m\u001b[0mmajor_locs\u001b[0m\u001b[0;34m)\u001b[0m\u001b[0;34m)\u001b[0m\u001b[0;34m\u001b[0m\u001b[0;34m\u001b[0m\u001b[0m\n",
      "\u001b[0;32m~/anaconda3/lib/python3.8/site-packages/matplotlib/axis.py\u001b[0m in \u001b[0;36mget_majorticklocs\u001b[0;34m(self)\u001b[0m\n\u001b[1;32m   1281\u001b[0m     \u001b[0;32mdef\u001b[0m \u001b[0mget_majorticklocs\u001b[0m\u001b[0;34m(\u001b[0m\u001b[0mself\u001b[0m\u001b[0;34m)\u001b[0m\u001b[0;34m:\u001b[0m\u001b[0;34m\u001b[0m\u001b[0;34m\u001b[0m\u001b[0m\n\u001b[1;32m   1282\u001b[0m         \u001b[0;34m\"\"\"Return this Axis' major tick locations in data coordinates.\"\"\"\u001b[0m\u001b[0;34m\u001b[0m\u001b[0;34m\u001b[0m\u001b[0m\n\u001b[0;32m-> 1283\u001b[0;31m         \u001b[0;32mreturn\u001b[0m \u001b[0mself\u001b[0m\u001b[0;34m.\u001b[0m\u001b[0mmajor\u001b[0m\u001b[0;34m.\u001b[0m\u001b[0mlocator\u001b[0m\u001b[0;34m(\u001b[0m\u001b[0;34m)\u001b[0m\u001b[0;34m\u001b[0m\u001b[0;34m\u001b[0m\u001b[0m\n\u001b[0m\u001b[1;32m   1284\u001b[0m \u001b[0;34m\u001b[0m\u001b[0m\n\u001b[1;32m   1285\u001b[0m     \u001b[0;32mdef\u001b[0m \u001b[0mget_minorticklocs\u001b[0m\u001b[0;34m(\u001b[0m\u001b[0mself\u001b[0m\u001b[0;34m)\u001b[0m\u001b[0;34m:\u001b[0m\u001b[0;34m\u001b[0m\u001b[0;34m\u001b[0m\u001b[0m\n",
      "\u001b[0;32m~/anaconda3/lib/python3.8/site-packages/matplotlib/ticker.py\u001b[0m in \u001b[0;36m__call__\u001b[0;34m(self)\u001b[0m\n\u001b[1;32m   2287\u001b[0m     \u001b[0;32mdef\u001b[0m \u001b[0m__call__\u001b[0m\u001b[0;34m(\u001b[0m\u001b[0mself\u001b[0m\u001b[0;34m)\u001b[0m\u001b[0;34m:\u001b[0m\u001b[0;34m\u001b[0m\u001b[0;34m\u001b[0m\u001b[0m\n\u001b[1;32m   2288\u001b[0m         \u001b[0mvmin\u001b[0m\u001b[0;34m,\u001b[0m \u001b[0mvmax\u001b[0m \u001b[0;34m=\u001b[0m \u001b[0mself\u001b[0m\u001b[0;34m.\u001b[0m\u001b[0maxis\u001b[0m\u001b[0;34m.\u001b[0m\u001b[0mget_view_interval\u001b[0m\u001b[0;34m(\u001b[0m\u001b[0;34m)\u001b[0m\u001b[0;34m\u001b[0m\u001b[0;34m\u001b[0m\u001b[0m\n\u001b[0;32m-> 2289\u001b[0;31m         \u001b[0;32mreturn\u001b[0m \u001b[0mself\u001b[0m\u001b[0;34m.\u001b[0m\u001b[0mtick_values\u001b[0m\u001b[0;34m(\u001b[0m\u001b[0mvmin\u001b[0m\u001b[0;34m,\u001b[0m \u001b[0mvmax\u001b[0m\u001b[0;34m)\u001b[0m\u001b[0;34m\u001b[0m\u001b[0;34m\u001b[0m\u001b[0m\n\u001b[0m\u001b[1;32m   2290\u001b[0m \u001b[0;34m\u001b[0m\u001b[0m\n\u001b[1;32m   2291\u001b[0m     \u001b[0;32mdef\u001b[0m \u001b[0mtick_values\u001b[0m\u001b[0;34m(\u001b[0m\u001b[0mself\u001b[0m\u001b[0;34m,\u001b[0m \u001b[0mvmin\u001b[0m\u001b[0;34m,\u001b[0m \u001b[0mvmax\u001b[0m\u001b[0;34m)\u001b[0m\u001b[0;34m:\u001b[0m\u001b[0;34m\u001b[0m\u001b[0;34m\u001b[0m\u001b[0m\n",
      "\u001b[0;32m~/anaconda3/lib/python3.8/site-packages/matplotlib/ticker.py\u001b[0m in \u001b[0;36mtick_values\u001b[0;34m(self, vmin, vmax)\u001b[0m\n\u001b[1;32m   2295\u001b[0m         vmin, vmax = mtransforms.nonsingular(\n\u001b[1;32m   2296\u001b[0m             vmin, vmax, expander=1e-13, tiny=1e-14)\n\u001b[0;32m-> 2297\u001b[0;31m         \u001b[0mlocs\u001b[0m \u001b[0;34m=\u001b[0m \u001b[0mself\u001b[0m\u001b[0;34m.\u001b[0m\u001b[0m_raw_ticks\u001b[0m\u001b[0;34m(\u001b[0m\u001b[0mvmin\u001b[0m\u001b[0;34m,\u001b[0m \u001b[0mvmax\u001b[0m\u001b[0;34m)\u001b[0m\u001b[0;34m\u001b[0m\u001b[0;34m\u001b[0m\u001b[0m\n\u001b[0m\u001b[1;32m   2298\u001b[0m \u001b[0;34m\u001b[0m\u001b[0m\n\u001b[1;32m   2299\u001b[0m         \u001b[0mprune\u001b[0m \u001b[0;34m=\u001b[0m \u001b[0mself\u001b[0m\u001b[0;34m.\u001b[0m\u001b[0m_prune\u001b[0m\u001b[0;34m\u001b[0m\u001b[0;34m\u001b[0m\u001b[0m\n",
      "\u001b[0;32m~/anaconda3/lib/python3.8/site-packages/matplotlib/ticker.py\u001b[0m in \u001b[0;36m_raw_ticks\u001b[0;34m(self, vmin, vmax)\u001b[0m\n\u001b[1;32m   2234\u001b[0m         \u001b[0;32mif\u001b[0m \u001b[0mself\u001b[0m\u001b[0;34m.\u001b[0m\u001b[0m_nbins\u001b[0m \u001b[0;34m==\u001b[0m \u001b[0;34m'auto'\u001b[0m\u001b[0;34m:\u001b[0m\u001b[0;34m\u001b[0m\u001b[0;34m\u001b[0m\u001b[0m\n\u001b[1;32m   2235\u001b[0m             \u001b[0;32mif\u001b[0m \u001b[0mself\u001b[0m\u001b[0;34m.\u001b[0m\u001b[0maxis\u001b[0m \u001b[0;32mis\u001b[0m \u001b[0;32mnot\u001b[0m \u001b[0;32mNone\u001b[0m\u001b[0;34m:\u001b[0m\u001b[0;34m\u001b[0m\u001b[0;34m\u001b[0m\u001b[0m\n\u001b[0;32m-> 2236\u001b[0;31m                 nbins = np.clip(self.axis.get_tick_space(),\n\u001b[0m\u001b[1;32m   2237\u001b[0m                                 max(1, self._min_n_ticks - 1), 9)\n\u001b[1;32m   2238\u001b[0m             \u001b[0;32melse\u001b[0m\u001b[0;34m:\u001b[0m\u001b[0;34m\u001b[0m\u001b[0;34m\u001b[0m\u001b[0m\n",
      "\u001b[0;32m~/anaconda3/lib/python3.8/site-packages/matplotlib/axis.py\u001b[0m in \u001b[0;36mget_tick_space\u001b[0;34m(self)\u001b[0m\n\u001b[1;32m   2249\u001b[0m         \u001b[0msize\u001b[0m \u001b[0;34m=\u001b[0m \u001b[0mself\u001b[0m\u001b[0;34m.\u001b[0m\u001b[0m_get_tick_label_size\u001b[0m\u001b[0;34m(\u001b[0m\u001b[0;34m'x'\u001b[0m\u001b[0;34m)\u001b[0m \u001b[0;34m*\u001b[0m \u001b[0;36m3\u001b[0m\u001b[0;34m\u001b[0m\u001b[0;34m\u001b[0m\u001b[0m\n\u001b[1;32m   2250\u001b[0m         \u001b[0;32mif\u001b[0m \u001b[0msize\u001b[0m \u001b[0;34m>\u001b[0m \u001b[0;36m0\u001b[0m\u001b[0;34m:\u001b[0m\u001b[0;34m\u001b[0m\u001b[0;34m\u001b[0m\u001b[0m\n\u001b[0;32m-> 2251\u001b[0;31m             \u001b[0;32mreturn\u001b[0m \u001b[0mint\u001b[0m\u001b[0;34m(\u001b[0m\u001b[0mnp\u001b[0m\u001b[0;34m.\u001b[0m\u001b[0mfloor\u001b[0m\u001b[0;34m(\u001b[0m\u001b[0mlength\u001b[0m \u001b[0;34m/\u001b[0m \u001b[0msize\u001b[0m\u001b[0;34m)\u001b[0m\u001b[0;34m)\u001b[0m\u001b[0;34m\u001b[0m\u001b[0;34m\u001b[0m\u001b[0m\n\u001b[0m\u001b[1;32m   2252\u001b[0m         \u001b[0;32melse\u001b[0m\u001b[0;34m:\u001b[0m\u001b[0;34m\u001b[0m\u001b[0;34m\u001b[0m\u001b[0m\n\u001b[1;32m   2253\u001b[0m             \u001b[0;32mreturn\u001b[0m \u001b[0;36m2\u001b[0m\u001b[0;34m**\u001b[0m\u001b[0;36m31\u001b[0m \u001b[0;34m-\u001b[0m \u001b[0;36m1\u001b[0m\u001b[0;34m\u001b[0m\u001b[0;34m\u001b[0m\u001b[0m\n",
      "\u001b[0;31mValueError\u001b[0m: cannot convert float NaN to integer"
     ]
    },
    {
     "data": {
      "text/plain": [
       "<Figure size 432x288 with 1 Axes>"
      ]
     },
     "metadata": {
      "needs_background": "light"
     },
     "output_type": "display_data"
    }
   ],
   "source": [
    "df.plot()"
   ]
  },
  {
   "cell_type": "code",
   "execution_count": null,
   "id": "35e7d043-e32f-4f2b-b91e-2c42f2cd5107",
   "metadata": {},
   "outputs": [],
   "source": []
  }
 ],
 "metadata": {
  "kernelspec": {
   "display_name": "Python 3",
   "language": "python",
   "name": "python3"
  },
  "language_info": {
   "codemirror_mode": {
    "name": "ipython",
    "version": 3
   },
   "file_extension": ".py",
   "mimetype": "text/x-python",
   "name": "python",
   "nbconvert_exporter": "python",
   "pygments_lexer": "ipython3",
   "version": "3.8.8"
  }
 },
 "nbformat": 4,
 "nbformat_minor": 5
}
