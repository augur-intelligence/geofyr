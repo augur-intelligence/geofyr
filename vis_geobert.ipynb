{
 "cells": [
  {
   "cell_type": "code",
   "execution_count": 16,
   "id": "ccbfbbe0-7634-4232-b6be-18894b5001f7",
   "metadata": {},
   "outputs": [],
   "source": [
    "from sklearn.neighbors import KernelDensity\n",
    "from shapely.geometry import Point, Polygon\n",
    "import geopandas\n",
    "from sklearn.cluster import DBSCAN\n",
    "import pandas as pd\n",
    "import torch\n",
    "import numpy as np"
   ]
  },
  {
   "cell_type": "code",
   "execution_count": 17,
   "id": "fe41fcfd-8d16-4b44-a074-28f643f8f999",
   "metadata": {},
   "outputs": [],
   "source": [
    "from transformers import DistilBertTokenizerFast\n",
    "# from transformers import DistilBertForSequenceClassification, Trainer, TrainingArguments\n",
    "from transformers import RobertaForSequenceClassification , RobertaTokenizerFast, RobertaConfig\n",
    "\n",
    "BASE_MODEL = './Downloads/2021-11-14_model-distilroberta-base_loss-huber_epoch-6/'\n",
    "\n",
    "TOKEN_MODEL = 'distilroberta-base'\n",
    "# tokenizer = DistilBertTokenizerFast.from_pretrained(TOKEN_MODEL)\n",
    "# model = DistilBertForSequenceClassification.from_pretrained(BASE_MODEL)\n",
    "tokenizer = RobertaTokenizerFast.from_pretrained(TOKEN_MODEL)\n",
    "model = RobertaForSequenceClassification.from_pretrained(BASE_MODEL)"
   ]
  },
  {
   "cell_type": "code",
   "execution_count": 18,
   "id": "25d292c9-f266-45e2-8a25-30f645c0ab89",
   "metadata": {},
   "outputs": [],
   "source": [
    "text = '''Since the beginning of November, there have been thousands of recorded border crossing attempts, according to Polish authorities.\n",
    "A spokesperson for Poland's border guards told CNN on Monday that there had been \"forced mass attempts to cross the border\" in Kuznica area by a group of people over the weekend and that the situation was \"very tense and very dangerous.\"\n",
    "Last week, Polish border guard representatives told CNN that some of the migrants had been pushed toward the barriers by Belarusian services.\n",
    "Speaking on Monday, Belarusian President Alexander Lukashenko said Belarus was doing everything to prevent people from accumulating at the border.\n",
    "Polish authorities have detained small numbers of people, allowing only small numbers of people the option of applying for asylum in Poland. Others have been immediately sent back to Belarus.\n",
    "Access to the border area is tightly restricted. Journalists and aid workers have been blocked from traveling to the area by an exclusion zone.\"'''\n",
    "\n",
    "text = text.replace('\\n', ' ').lower()\n",
    "text_split = text.split()\n",
    "n_steps = 20\n",
    "step_size = int(len(text_split)/n_steps)\n",
    "variations = [\" \".join(text_split[:i]) + \" \" + \" \".join(text_split[i+step_size:]) for i in range(n_steps)] "
   ]
  },
  {
   "cell_type": "code",
   "execution_count": 19,
   "id": "e1568e10-ea42-411b-8bcd-482ee24a5e2b",
   "metadata": {},
   "outputs": [],
   "source": [
    "tok = tokenizer(text, truncation=True, padding=True, return_tensors='pt')\n",
    "out = model.forward(input_ids = tok['input_ids'], attention_mask=tok['attention_mask'], output_hidden_states=True)"
   ]
  },
  {
   "cell_type": "code",
   "execution_count": 20,
   "id": "7316ecfe-72b5-4fc1-b75d-109c98e4b36d",
   "metadata": {},
   "outputs": [],
   "source": [
    "last_hidden_state = out['hidden_states'][-1]"
   ]
  },
  {
   "cell_type": "code",
   "execution_count": 21,
   "id": "0ce1a918-6509-467f-b878-9b401c05702d",
   "metadata": {},
   "outputs": [],
   "source": [
    "rand_locs = []\n",
    "for i in range(500):\n",
    "    ones = torch.ones_like(last_hidden_state)\n",
    "    dim1 = ones.shape[1]\n",
    "    dim2 = ones.shape[2]\n",
    "    rand_dim1 = np.random.randint(0, dim1)\n",
    "    rand_dim2 = np.random.randint(0, dim2)\n",
    "    ones[0, :, rand_dim2] = 0\n",
    "    masked = ones * last_hidden_state\n",
    "    rand_loc = model.classifier(masked).cpu().detach().numpy().squeeze()\n",
    "    rand_locs.append(rand_loc)"
   ]
  },
  {
   "cell_type": "code",
   "execution_count": 22,
   "id": "62a43736-bab4-4bf6-b717-610afe4b4cf9",
   "metadata": {},
   "outputs": [],
   "source": [
    "out_df = pd.DataFrame(rand_locs, columns=['lat', 'lon'])"
   ]
  },
  {
   "cell_type": "code",
   "execution_count": 23,
   "id": "672ca8ed-42f9-417c-8da7-917c5b194d74",
   "metadata": {},
   "outputs": [],
   "source": [
    "kd = KernelDensity(kernel='gaussian', metric='haversine')"
   ]
  },
  {
   "cell_type": "code",
   "execution_count": 24,
   "id": "02d6d8ad-ba2e-483d-92b1-2e6b452dbfd9",
   "metadata": {},
   "outputs": [
    {
     "data": {
      "text/plain": [
       "KernelDensity(metric='haversine')"
      ]
     },
     "execution_count": 24,
     "metadata": {},
     "output_type": "execute_result"
    }
   ],
   "source": [
    "kd.fit(out_df)"
   ]
  },
  {
   "cell_type": "code",
   "execution_count": 25,
   "id": "667c391f-355c-42cc-b992-c824231d2f96",
   "metadata": {},
   "outputs": [],
   "source": [
    "conf_sample = kd.sample(1000)\n",
    "conf_probas = np.exp(kd.score_samples(conf_sample))\n",
    "conf_probas /= conf_probas.sum()\n",
    "conf_df = pd.Series(conf_probas, name='proba').to_frame()"
   ]
  },
  {
   "cell_type": "code",
   "execution_count": 26,
   "id": "457c135e-46cb-44ef-b6a3-591fd61cf217",
   "metadata": {},
   "outputs": [],
   "source": [
    "conf_df['point'] = geopandas.GeoSeries([Point(point[::-1]) for point in conf_sample])\n",
    "conf_df.loc[:,['lat', 'lon']] = conf_sample"
   ]
  },
  {
   "cell_type": "code",
   "execution_count": 27,
   "id": "1ed13451-2eb4-49bd-a046-d3a38bb32410",
   "metadata": {},
   "outputs": [],
   "source": [
    "conf_df['cdf'] = conf_df.sort_values('proba', ascending=False).proba.cumsum()"
   ]
  },
  {
   "cell_type": "code",
   "execution_count": 28,
   "id": "69960d09-3184-45d4-bf9d-95b41e914bb9",
   "metadata": {},
   "outputs": [],
   "source": [
    "levels = 10"
   ]
  },
  {
   "cell_type": "code",
   "execution_count": 29,
   "id": "cb4e41e9-1f1c-4d10-851e-82ca03ca96a0",
   "metadata": {},
   "outputs": [],
   "source": [
    "conf_df['conf_level'] = pd.qcut(conf_df.cdf, q=levels,labels=False)"
   ]
  },
  {
   "cell_type": "code",
   "execution_count": 30,
   "id": "f0a32199-94da-4d46-b821-1b0296b957cc",
   "metadata": {},
   "outputs": [
    {
     "name": "stderr",
     "output_type": "stream",
     "text": [
      "IllegalArgumentException: Shell is not a LinearRing\n"
     ]
    },
    {
     "ename": "ValueError",
     "evalue": "Null geometry supports no operations",
     "output_type": "error",
     "traceback": [
      "\u001b[0;31m---------------------------------------------------------------------------\u001b[0m",
      "\u001b[0;31mValueError\u001b[0m                                Traceback (most recent call last)",
      "\u001b[0;32m<ipython-input-30-dc4332155ebb>\u001b[0m in \u001b[0;36m<module>\u001b[0;34m\u001b[0m\n\u001b[1;32m      9\u001b[0m         \u001b[0mlayer_cluster_points\u001b[0m \u001b[0;34m=\u001b[0m \u001b[0mconf_df\u001b[0m\u001b[0;34m.\u001b[0m\u001b[0mloc\u001b[0m\u001b[0;34m[\u001b[0m\u001b[0mlayer_points\u001b[0m\u001b[0;34m[\u001b[0m\u001b[0mpred\u001b[0m \u001b[0;34m==\u001b[0m \u001b[0mcluster\u001b[0m\u001b[0;34m]\u001b[0m\u001b[0;34m.\u001b[0m\u001b[0mindex\u001b[0m\u001b[0;34m]\u001b[0m\u001b[0;34m\u001b[0m\u001b[0;34m\u001b[0m\u001b[0m\n\u001b[1;32m     10\u001b[0m         \u001b[0mconf_area_poly\u001b[0m \u001b[0;34m=\u001b[0m \u001b[0mPolygon\u001b[0m\u001b[0;34m(\u001b[0m\u001b[0mlayer_cluster_points\u001b[0m\u001b[0;34m.\u001b[0m\u001b[0mpoint\u001b[0m\u001b[0;34m.\u001b[0m\u001b[0mvalues\u001b[0m\u001b[0;34m)\u001b[0m\u001b[0;34m\u001b[0m\u001b[0;34m\u001b[0m\u001b[0m\n\u001b[0;32m---> 11\u001b[0;31m         \u001b[0msmoothed_area\u001b[0m \u001b[0;34m=\u001b[0m \u001b[0mconf_area_poly\u001b[0m\u001b[0;34m.\u001b[0m\u001b[0mconvex_hull\u001b[0m\u001b[0;34m.\u001b[0m\u001b[0mbuffer\u001b[0m\u001b[0;34m(\u001b[0m\u001b[0;36m.1\u001b[0m\u001b[0;34m,\u001b[0m\u001b[0;36m0\u001b[0m\u001b[0;34m,\u001b[0m\u001b[0;36m3\u001b[0m\u001b[0;34m,\u001b[0m\u001b[0;36m3\u001b[0m\u001b[0;34m,\u001b[0m \u001b[0msingle_sided\u001b[0m\u001b[0;34m=\u001b[0m\u001b[0;32mTrue\u001b[0m\u001b[0;34m)\u001b[0m\u001b[0;34m\u001b[0m\u001b[0;34m\u001b[0m\u001b[0m\n\u001b[0m\u001b[1;32m     12\u001b[0m         \u001b[0mconf_layers\u001b[0m\u001b[0;34m.\u001b[0m\u001b[0mappend\u001b[0m\u001b[0;34m(\u001b[0m\u001b[0msmoothed_area\u001b[0m\u001b[0;34m)\u001b[0m\u001b[0;34m\u001b[0m\u001b[0;34m\u001b[0m\u001b[0m\n",
      "\u001b[0;32m~/anaconda3/lib/python3.8/site-packages/shapely/geometry/base.py\u001b[0m in \u001b[0;36mconvex_hull\u001b[0;34m(self)\u001b[0m\n\u001b[1;32m    497\u001b[0m         \u001b[0mtriangular\u001b[0m \u001b[0mpolygon\u001b[0m\u001b[0;34m.\u001b[0m\u001b[0;34m\u001b[0m\u001b[0;34m\u001b[0m\u001b[0m\n\u001b[1;32m    498\u001b[0m         \"\"\"\n\u001b[0;32m--> 499\u001b[0;31m         \u001b[0;32mreturn\u001b[0m \u001b[0mgeom_factory\u001b[0m\u001b[0;34m(\u001b[0m\u001b[0mself\u001b[0m\u001b[0;34m.\u001b[0m\u001b[0mimpl\u001b[0m\u001b[0;34m[\u001b[0m\u001b[0;34m'convex_hull'\u001b[0m\u001b[0;34m]\u001b[0m\u001b[0;34m(\u001b[0m\u001b[0mself\u001b[0m\u001b[0;34m)\u001b[0m\u001b[0;34m)\u001b[0m\u001b[0;34m\u001b[0m\u001b[0;34m\u001b[0m\u001b[0m\n\u001b[0m\u001b[1;32m    500\u001b[0m \u001b[0;34m\u001b[0m\u001b[0m\n\u001b[1;32m    501\u001b[0m     \u001b[0;34m@\u001b[0m\u001b[0mproperty\u001b[0m\u001b[0;34m\u001b[0m\u001b[0;34m\u001b[0m\u001b[0m\n",
      "\u001b[0;32m~/anaconda3/lib/python3.8/site-packages/shapely/topology.py\u001b[0m in \u001b[0;36m__call__\u001b[0;34m(self, this, *args)\u001b[0m\n\u001b[1;32m     75\u001b[0m \u001b[0;34m\u001b[0m\u001b[0m\n\u001b[1;32m     76\u001b[0m     \u001b[0;32mdef\u001b[0m \u001b[0m__call__\u001b[0m\u001b[0;34m(\u001b[0m\u001b[0mself\u001b[0m\u001b[0;34m,\u001b[0m \u001b[0mthis\u001b[0m\u001b[0;34m,\u001b[0m \u001b[0;34m*\u001b[0m\u001b[0margs\u001b[0m\u001b[0;34m)\u001b[0m\u001b[0;34m:\u001b[0m\u001b[0;34m\u001b[0m\u001b[0;34m\u001b[0m\u001b[0m\n\u001b[0;32m---> 77\u001b[0;31m         \u001b[0mself\u001b[0m\u001b[0;34m.\u001b[0m\u001b[0m_validate\u001b[0m\u001b[0;34m(\u001b[0m\u001b[0mthis\u001b[0m\u001b[0;34m)\u001b[0m\u001b[0;34m\u001b[0m\u001b[0;34m\u001b[0m\u001b[0m\n\u001b[0m\u001b[1;32m     78\u001b[0m         \u001b[0;32mreturn\u001b[0m \u001b[0mself\u001b[0m\u001b[0;34m.\u001b[0m\u001b[0mfn\u001b[0m\u001b[0;34m(\u001b[0m\u001b[0mthis\u001b[0m\u001b[0;34m.\u001b[0m\u001b[0m_geom\u001b[0m\u001b[0;34m,\u001b[0m \u001b[0;34m*\u001b[0m\u001b[0margs\u001b[0m\u001b[0;34m)\u001b[0m\u001b[0;34m\u001b[0m\u001b[0;34m\u001b[0m\u001b[0m\n",
      "\u001b[0;32m~/anaconda3/lib/python3.8/site-packages/shapely/topology.py\u001b[0m in \u001b[0;36m_validate\u001b[0;34m(self, ob, stop_prepared)\u001b[0m\n\u001b[1;32m     16\u001b[0m     \u001b[0;32mdef\u001b[0m \u001b[0m_validate\u001b[0m\u001b[0;34m(\u001b[0m\u001b[0mself\u001b[0m\u001b[0;34m,\u001b[0m \u001b[0mob\u001b[0m\u001b[0;34m,\u001b[0m \u001b[0mstop_prepared\u001b[0m\u001b[0;34m=\u001b[0m\u001b[0;32mFalse\u001b[0m\u001b[0;34m)\u001b[0m\u001b[0;34m:\u001b[0m\u001b[0;34m\u001b[0m\u001b[0;34m\u001b[0m\u001b[0m\n\u001b[1;32m     17\u001b[0m         \u001b[0;32mif\u001b[0m \u001b[0mob\u001b[0m \u001b[0;32mis\u001b[0m \u001b[0;32mNone\u001b[0m \u001b[0;32mor\u001b[0m \u001b[0mob\u001b[0m\u001b[0;34m.\u001b[0m\u001b[0m_geom\u001b[0m \u001b[0;32mis\u001b[0m \u001b[0;32mNone\u001b[0m\u001b[0;34m:\u001b[0m\u001b[0;34m\u001b[0m\u001b[0;34m\u001b[0m\u001b[0m\n\u001b[0;32m---> 18\u001b[0;31m             \u001b[0;32mraise\u001b[0m \u001b[0mValueError\u001b[0m\u001b[0;34m(\u001b[0m\u001b[0;34m\"Null geometry supports no operations\"\u001b[0m\u001b[0;34m)\u001b[0m\u001b[0;34m\u001b[0m\u001b[0;34m\u001b[0m\u001b[0m\n\u001b[0m\u001b[1;32m     19\u001b[0m         \u001b[0;32mif\u001b[0m \u001b[0mstop_prepared\u001b[0m \u001b[0;32mand\u001b[0m \u001b[0mhasattr\u001b[0m\u001b[0;34m(\u001b[0m\u001b[0mob\u001b[0m\u001b[0;34m,\u001b[0m \u001b[0;34m'prepared'\u001b[0m\u001b[0;34m)\u001b[0m\u001b[0;34m:\u001b[0m\u001b[0;34m\u001b[0m\u001b[0;34m\u001b[0m\u001b[0m\n\u001b[1;32m     20\u001b[0m             \u001b[0;32mraise\u001b[0m \u001b[0mValueError\u001b[0m\u001b[0;34m(\u001b[0m\u001b[0;34m\"Prepared geometries cannot be operated on\"\u001b[0m\u001b[0;34m)\u001b[0m\u001b[0;34m\u001b[0m\u001b[0;34m\u001b[0m\u001b[0m\n",
      "\u001b[0;31mValueError\u001b[0m: Null geometry supports no operations"
     ]
    }
   ],
   "source": [
    "conf_layers = []\n",
    "dbscan = DBSCAN()\n",
    "for level in range(levels):\n",
    "    layer_points = conf_df[conf_df.conf_level >= level][['lat', 'lon']]\n",
    "    pred = dbscan.fit_predict(layer_points)\n",
    "    clusters = np.unique(pred)[1:]\n",
    "    layer_cluster_areas = []\n",
    "    for cluster in clusters:\n",
    "        layer_cluster_points = conf_df.loc[layer_points[pred == cluster].index]\n",
    "        conf_area_poly = Polygon(layer_cluster_points.point.values)\n",
    "        smoothed_area = conf_area_poly.convex_hull.buffer(.1,0,3,3, single_sided=True)\n",
    "        conf_layers.append(smoothed_area)"
   ]
  },
  {
   "cell_type": "code",
   "execution_count": 31,
   "id": "f91cab3f-e57b-4b65-96b5-8b619408f932",
   "metadata": {},
   "outputs": [],
   "source": [
    "\n",
    "# conf_areas = []\n",
    "# for level in range(levels):\n",
    "#     conf_area_points = conf_df[conf_df.conf_level == level].point\n",
    "#     conf_area_poly = Polygon(conf_area_points.values)\n",
    "#     smoothed_area = conf_area_poly.convex_hull.buffer(.1,0,3,3, single_sided=True)\n",
    "#     conf_areas.append(smoothed_area)"
   ]
  },
  {
   "cell_type": "code",
   "execution_count": null,
   "id": "14f5df28-dfe7-40c3-87c0-53d019af92f0",
   "metadata": {},
   "outputs": [],
   "source": [
    "conf_area_series = geopandas.GeoSeries(conf_layers)"
   ]
  },
  {
   "cell_type": "code",
   "execution_count": null,
   "id": "e2fbcbba-9c28-4998-b8c0-db6fb732a0c8",
   "metadata": {},
   "outputs": [],
   "source": [
    "conf_area_series"
   ]
  },
  {
   "cell_type": "code",
   "execution_count": null,
   "id": "89dec6eb-3c6d-4f08-9fee-24bab495baca",
   "metadata": {},
   "outputs": [],
   "source": [
    "import folium\n",
    "from folium.plugins import HeatMap"
   ]
  },
  {
   "cell_type": "code",
   "execution_count": null,
   "id": "757b072c-214d-480e-a9d5-ef05b71801c1",
   "metadata": {},
   "outputs": [],
   "source": [
    "maploc = folium.Map(\n",
    "#     location=[conf_df.lon.mean(), conf_df.lat.mean()],\n",
    "    zoom_start=11,\n",
    "    tiles=\"Stamen Toner\", \n",
    "    min_lat=conf_df['point'].map(lambda x: x.x).min(), \n",
    "    max_lat=conf_df['point'].map(lambda x: x.x).max(),\n",
    "    min_lon=conf_df['point'].map(lambda x: x.y).min(),\n",
    "    max_lon=conf_df['point'].map(lambda x: x.y).max())\n",
    "maploc.add_child(folium.GeoJson(\n",
    "    data=conf_area_series.to_json(), \n",
    "    style_function=lambda x: {'fillColor': 'blue', 'stroke': False, 'fillOpacity': 0.1}))\n",
    "maploc.add_child(HeatMap(conf_sample))\n",
    "maploc"
   ]
  },
  {
   "cell_type": "code",
   "execution_count": 34,
   "id": "c10b71c4-627b-4258-a1af-28268ed222d8",
   "metadata": {},
   "outputs": [],
   "source": [
    "out_df.to_xml('test.xml')"
   ]
  },
  {
   "cell_type": "code",
   "execution_count": 33,
   "id": "4660181f-b487-4251-8ef2-b3b907b5d34e",
   "metadata": {},
   "outputs": [
    {
     "data": {
      "text/plain": [
       "'1.3.4'"
      ]
     },
     "execution_count": 33,
     "metadata": {},
     "output_type": "execute_result"
    }
   ],
   "source": [
    "pd.__version__"
   ]
  },
  {
   "cell_type": "code",
   "execution_count": 1476,
   "id": "4e6122ba-2d84-4ba8-936f-b88331d5b42a",
   "metadata": {},
   "outputs": [
    {
     "name": "stdout",
     "output_type": "stream",
     "text": [
      "Requirement already satisfied: pandas in ./anaconda3/lib/python3.8/site-packages (1.3.4)\n",
      "Requirement already satisfied: numpy>=1.17.3 in ./anaconda3/lib/python3.8/site-packages (from pandas) (1.20.1)\n",
      "Requirement already satisfied: pytz>=2017.3 in ./anaconda3/lib/python3.8/site-packages (from pandas) (2021.1)\n",
      "Requirement already satisfied: python-dateutil>=2.7.3 in ./anaconda3/lib/python3.8/site-packages (from pandas) (2.8.1)\n",
      "Requirement already satisfied: six>=1.5 in ./anaconda3/lib/python3.8/site-packages (from python-dateutil>=2.7.3->pandas) (1.15.0)\n"
     ]
    }
   ],
   "source": [
    "!pip install -U pandas"
   ]
  },
  {
   "cell_type": "code",
   "execution_count": null,
   "id": "9e6e2084-7b95-435c-b7aa-3553c712b6c2",
   "metadata": {},
   "outputs": [],
   "source": []
  }
 ],
 "metadata": {
  "kernelspec": {
   "display_name": "Python 3",
   "language": "python",
   "name": "python3"
  },
  "language_info": {
   "codemirror_mode": {
    "name": "ipython",
    "version": 3
   },
   "file_extension": ".py",
   "mimetype": "text/x-python",
   "name": "python",
   "nbconvert_exporter": "python",
   "pygments_lexer": "ipython3",
   "version": "3.8.8"
  }
 },
 "nbformat": 4,
 "nbformat_minor": 5
}
